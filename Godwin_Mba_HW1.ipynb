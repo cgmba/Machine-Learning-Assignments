{
  "cells": [
    {
      "cell_type": "markdown",
      "metadata": {
        "id": "7vNf-yPJOx75"
      },
      "source": [
        "# Homework 1"
      ]
    },
    {
      "cell_type": "markdown",
      "metadata": {
        "id": "JKdfRsPZOx7-"
      },
      "source": [
        "This homework mainly evaluates if you are familar with NumPy to create machine learning related functions. Thus, all your functions here should be only made using NumPy, not any other libraries like pandas, scikit-learn, or scipy. We will run a complete machine learning process from preprocessing to model performance testing by using the functions we will develop.\n",
        "\n",
        "### This assignment is made to practice the features of NumPy. Therefore, the use of a for loop is strictly prohibited. All problems can be solved without explicit loops. "
      ]
    },
    {
      "cell_type": "code",
      "execution_count": 1,
      "metadata": {
        "id": "9BPzS0g9Ox7-"
      },
      "outputs": [],
      "source": [
        "import numpy as np\n",
        "import matplotlib.pyplot as plt"
      ]
    },
    {
      "cell_type": "markdown",
      "source": [
        "In the lab session, we try to draw a regression line on the full dataset. Here in this homework, we will continue to use the same dataset we have used in the first lab, as well as the code we have made. However, this time we would like to create a model and even test it - by dividing the dataset into a training set and a test set. We will practice applying each function one after the other in the correct order. \n",
        "\n",
        "To practice NumPy efficiently, unlike the lab, we will only use the values of the dataset, ignoring Pandas properties such as column names.\n",
        "\n",
        "- Run the block below to load the dataset (**X** and **y**)."
      ],
      "metadata": {
        "id": "svj3G7hj4ZxY"
      }
    },
    {
      "cell_type": "code",
      "source": [
        "from sklearn.datasets import fetch_california_housing\n",
        "\n",
        "california_housing = fetch_california_housing(as_frame=False)\n",
        "\n",
        "X = california_housing.data\n",
        "y = california_housing.target"
      ],
      "metadata": {
        "id": "2HAUc00Wmu0E"
      },
      "execution_count": 2,
      "outputs": []
    },
    {
      "cell_type": "markdown",
      "source": [
        "Now, we are ready to use both features and labels. To handle it correctly, you need to be familiar with its axis concept as it no longer has indices and columns that you can check by printing the variable."
      ],
      "metadata": {
        "id": "-txQY1eUoWeg"
      }
    },
    {
      "cell_type": "code",
      "source": [
        "import pandas as pd\n",
        "X_revew = pd.DataFrame(X)\n",
        "\n",
        "X_revew[3].max()"
      ],
      "metadata": {
        "colab": {
          "base_uri": "https://localhost:8080/"
        },
        "id": "XxI_eqNvEQch",
        "outputId": "9cd17504-76be-4c17-f107-9263cb3bd2b4"
      },
      "execution_count": 3,
      "outputs": [
        {
          "output_type": "execute_result",
          "data": {
            "text/plain": [
              "34.06666666666667"
            ]
          },
          "metadata": {},
          "execution_count": 3
        }
      ]
    },
    {
      "cell_type": "code",
      "source": [
        "X"
      ],
      "metadata": {
        "colab": {
          "base_uri": "https://localhost:8080/"
        },
        "id": "u4KbMNxMm9Oi",
        "outputId": "94bfb70f-eb10-4553-a89d-37cd41f8187c"
      },
      "execution_count": 4,
      "outputs": [
        {
          "output_type": "execute_result",
          "data": {
            "text/plain": [
              "array([[   8.3252    ,   41.        ,    6.98412698, ...,    2.55555556,\n",
              "          37.88      , -122.23      ],\n",
              "       [   8.3014    ,   21.        ,    6.23813708, ...,    2.10984183,\n",
              "          37.86      , -122.22      ],\n",
              "       [   7.2574    ,   52.        ,    8.28813559, ...,    2.80225989,\n",
              "          37.85      , -122.24      ],\n",
              "       ...,\n",
              "       [   1.7       ,   17.        ,    5.20554273, ...,    2.3256351 ,\n",
              "          39.43      , -121.22      ],\n",
              "       [   1.8672    ,   18.        ,    5.32951289, ...,    2.12320917,\n",
              "          39.43      , -121.32      ],\n",
              "       [   2.3886    ,   16.        ,    5.25471698, ...,    2.61698113,\n",
              "          39.37      , -121.24      ]])"
            ]
          },
          "metadata": {},
          "execution_count": 4
        }
      ]
    },
    {
      "cell_type": "code",
      "source": [
        "y"
      ],
      "metadata": {
        "colab": {
          "base_uri": "https://localhost:8080/"
        },
        "id": "9rTO_NYMNHlg",
        "outputId": "e7d237e4-d104-4b02-ae22-3a5bcf182a9f"
      },
      "execution_count": 5,
      "outputs": [
        {
          "output_type": "execute_result",
          "data": {
            "text/plain": [
              "array([4.526, 3.585, 3.521, ..., 0.923, 0.847, 0.894])"
            ]
          },
          "metadata": {},
          "execution_count": 5
        }
      ]
    },
    {
      "cell_type": "markdown",
      "metadata": {
        "id": "Fbj_IpkHOx8A"
      },
      "source": [
        "### 1. Preprocessing"
      ]
    },
    {
      "cell_type": "markdown",
      "metadata": {
        "id": "EE0ALwTyOx8A"
      },
      "source": [
        "The first task is to open the dataset and preprocess it into the form that the model can understand. It involves imputation, train_test_split, standardization, and normalization. Some functions are already covered by the first lab, so if you finished the lab before, you can freely bring your code here to finish your homework.\n",
        "\n"
      ]
    },
    {
      "cell_type": "markdown",
      "source": [
        "First, we would like to apply both standardization and normalization. You can re-use your lab functions here if you have finished your lab tasks.\n",
        "\n",
        "\n",
        "- Standardization: Make features have the same standard deviaton and mean.\n",
        "\n",
        "- Normalization: Make the range of value normalized into [0, 1]."
      ],
      "metadata": {
        "id": "t2uFZSUuoh9t"
      }
    },
    {
      "cell_type": "code",
      "execution_count": 6,
      "metadata": {
        "id": "bQRVVievOx8A"
      },
      "outputs": [],
      "source": [
        "def standardize(data):\n",
        "  \"\"\"\n",
        "  Input: NumPy ndarray\n",
        "  Output: NumPy ndarray with column mean == 0 and std == 1\n",
        "  \"\"\"\n",
        "  x_data = np.array(data)\n",
        "  #column = \n",
        "  # x_data = np.std(data, axis=0)\n",
        "  # np.mean(data, axis=1)\n",
        "  standard_data = (x_data - np.mean(x_data)) / (np.std(x_data))\n",
        "\n",
        "  return standard_data \n",
        "\n",
        "def normalize(data):\n",
        "  \"\"\"\"\n",
        "  Input: NumPy ndarray\n",
        "  Output: NumPy ndarray with column min == 0 and max == 1\n",
        "  \"\"\"\n",
        "  x_data = np.array(data)\n",
        "  normal_data = (x_data - np.min(x_data)) / (np.max(x_data) - np.min(x_data))\n",
        "  return normal_data"
      ]
    },
    {
      "cell_type": "markdown",
      "source": [
        "Let's apply both functions separately and create X_standardized and X_normalized."
      ],
      "metadata": {
        "id": "Cb4WgGQ0o_9G"
      }
    },
    {
      "cell_type": "code",
      "source": [
        "X_standardized = standardize(X)\n",
        "X_normalized = normalize(X)"
      ],
      "metadata": {
        "id": "2qf7fOZG54MA"
      },
      "execution_count": 7,
      "outputs": []
    },
    {
      "cell_type": "code",
      "source": [
        "#X_standardized\n",
        "X_normalized"
      ],
      "metadata": {
        "colab": {
          "base_uri": "https://localhost:8080/"
        },
        "id": "lYx_Ra2GE3Jv",
        "outputId": "7bb792d6-8cb1-4ce3-f79c-6d0d2d38086d"
      },
      "execution_count": 8,
      "outputs": [
        {
          "output_type": "execute_result",
          "data": {
            "text/plain": [
              "array([[3.70535394e-03, 4.61789599e-03, 3.66790044e-03, ...,\n",
              "        3.54421927e-03, 4.53076061e-03, 5.92073752e-05],\n",
              "       [3.70468925e-03, 4.05933584e-03, 3.64706643e-03, ...,\n",
              "        3.53177137e-03, 4.53020205e-03, 5.94866553e-05],\n",
              "       [3.67553241e-03, 4.92510407e-03, 3.70431880e-03, ...,\n",
              "        3.55110923e-03, 4.52992277e-03, 5.89280952e-05],\n",
              "       ...,\n",
              "       [3.52032531e-03, 3.94762382e-03, 3.61822813e-03, ...,\n",
              "        3.53779805e-03, 4.57404902e-03, 8.74146625e-05],\n",
              "       [3.52499487e-03, 3.97555182e-03, 3.62169037e-03, ...,\n",
              "        3.53214469e-03, 4.57404902e-03, 8.46218618e-05],\n",
              "       [3.53955653e-03, 3.91969581e-03, 3.61960147e-03, ...,\n",
              "        3.54593476e-03, 4.57237334e-03, 8.68561023e-05]])"
            ]
          },
          "metadata": {},
          "execution_count": 8
        }
      ]
    },
    {
      "cell_type": "markdown",
      "source": [
        "We may also need to check if those functions are correctly made. Create a function to check the dataset's min, max, mean, std of each feature. You can re-use your lab function (**describe**) but this time you are not allowed to use pandas dataframe. There is no expected format for this function if you are successfully able to plot four statistics (min, max, mean, std)."
      ],
      "metadata": {
        "id": "So46vKNl53KL"
      }
    },
    {
      "cell_type": "code",
      "source": [
        "import pandas as pd\n",
        "def describe(data):\n",
        "  \"\"\"\n",
        "  Describe four statistics of the dataset.\n",
        "  \n",
        "  Input: NumPy ndarray\n",
        "  Output: vertical min, max, mean, standard deviation\n",
        "  \"\"\"\n",
        "  data = np.array(data.T)\n",
        "  summary_stats = []\n",
        "  for i in range(0,8):\n",
        "    \n",
        "      #for dose_lvl in np.unique(data):\n",
        "    \n",
        "        # Subsetting\n",
        "          #data_to_sum = data[(data['supp'] == supp_lvl) & (data['dose'] == dose_lvl)]\n",
        "        # Calculating the descriptives\n",
        "          # mean = data.mean()\n",
        "          # sd = data.std()\n",
        "          # max_supp = data.max()\n",
        "          # min_supp =  data.min()\n",
        "          mean = np.mean(data[i])\n",
        "          sd = np.std(data[i])\n",
        "          max_num = np.max(data[i])\n",
        "          min_num =  np.min(data[i])\n",
        "\n",
        "          summary_stats.append((mean, sd, max_num, min_num))\n",
        "  summary_stats = pd.DataFrame(summary_stats, columns = ('mean', 'sd', 'max_num', 'min_num'))\n",
        "  return summary_stats.T"
      ],
      "metadata": {
        "id": "l9BqVsG36Tsl"
      },
      "execution_count": 9,
      "outputs": []
    },
    {
      "cell_type": "code",
      "source": [
        "X.T[0]"
      ],
      "metadata": {
        "colab": {
          "base_uri": "https://localhost:8080/"
        },
        "id": "SR1oCybZFzsD",
        "outputId": "904231a0-3d28-4aac-a775-38606544034b"
      },
      "execution_count": 10,
      "outputs": [
        {
          "output_type": "execute_result",
          "data": {
            "text/plain": [
              "array([8.3252, 8.3014, 7.2574, ..., 1.7   , 1.8672, 2.3886])"
            ]
          },
          "metadata": {},
          "execution_count": 10
        }
      ]
    },
    {
      "cell_type": "code",
      "source": [
        ""
      ],
      "metadata": {
        "id": "1SoCWg3nGoap"
      },
      "execution_count": 10,
      "outputs": []
    },
    {
      "cell_type": "markdown",
      "source": [
        "Using this function, let's check if your **standardize** and **normalize** functions are correctly working. Your output should be the same as the one below."
      ],
      "metadata": {
        "id": "FZEPPjpJ6W3B"
      }
    },
    {
      "cell_type": "code",
      "source": [
        "describe(X_standardized)\n",
        "# import pandas as pd\n",
        "\n",
        "\n",
        "# X_standardized = pd.to_numeric(X)\n",
        "# X_standardized.head()"
      ],
      "metadata": {
        "id": "1NY6wtki6c84",
        "colab": {
          "base_uri": "https://localhost:8080/",
          "height": 175
        },
        "outputId": "c47a599a-3c39-4eb7-d48d-dc6e418d510b"
      },
      "execution_count": 11,
      "outputs": [
        {
          "output_type": "execute_result",
          "data": {
            "text/plain": [
              "                0         1         2         3          4         5  \\\n",
              "mean    -0.271984 -0.232142 -0.269478 -0.276446   2.014762 -0.273271   \n",
              "sd       0.003056  0.020244  0.003980  0.000762   1.821595  0.016706   \n",
              "max_num -0.254082 -0.194565 -0.049940 -0.223412  57.118607  1.721772   \n",
              "min_num -0.277406 -0.276602 -0.276849 -0.277674  -0.273385 -0.277097   \n",
              "\n",
              "                6         7  \n",
              "mean    -0.220894 -0.470546  \n",
              "sd       0.003436  0.003223  \n",
              "max_num -0.210731 -0.462086  \n",
              "min_num -0.225868 -0.478236  "
            ],
            "text/html": [
              "\n",
              "  <div id=\"df-70871d47-f287-426c-85a3-6d554ca92b33\">\n",
              "    <div class=\"colab-df-container\">\n",
              "      <div>\n",
              "<style scoped>\n",
              "    .dataframe tbody tr th:only-of-type {\n",
              "        vertical-align: middle;\n",
              "    }\n",
              "\n",
              "    .dataframe tbody tr th {\n",
              "        vertical-align: top;\n",
              "    }\n",
              "\n",
              "    .dataframe thead th {\n",
              "        text-align: right;\n",
              "    }\n",
              "</style>\n",
              "<table border=\"1\" class=\"dataframe\">\n",
              "  <thead>\n",
              "    <tr style=\"text-align: right;\">\n",
              "      <th></th>\n",
              "      <th>0</th>\n",
              "      <th>1</th>\n",
              "      <th>2</th>\n",
              "      <th>3</th>\n",
              "      <th>4</th>\n",
              "      <th>5</th>\n",
              "      <th>6</th>\n",
              "      <th>7</th>\n",
              "    </tr>\n",
              "  </thead>\n",
              "  <tbody>\n",
              "    <tr>\n",
              "      <th>mean</th>\n",
              "      <td>-0.271984</td>\n",
              "      <td>-0.232142</td>\n",
              "      <td>-0.269478</td>\n",
              "      <td>-0.276446</td>\n",
              "      <td>2.014762</td>\n",
              "      <td>-0.273271</td>\n",
              "      <td>-0.220894</td>\n",
              "      <td>-0.470546</td>\n",
              "    </tr>\n",
              "    <tr>\n",
              "      <th>sd</th>\n",
              "      <td>0.003056</td>\n",
              "      <td>0.020244</td>\n",
              "      <td>0.003980</td>\n",
              "      <td>0.000762</td>\n",
              "      <td>1.821595</td>\n",
              "      <td>0.016706</td>\n",
              "      <td>0.003436</td>\n",
              "      <td>0.003223</td>\n",
              "    </tr>\n",
              "    <tr>\n",
              "      <th>max_num</th>\n",
              "      <td>-0.254082</td>\n",
              "      <td>-0.194565</td>\n",
              "      <td>-0.049940</td>\n",
              "      <td>-0.223412</td>\n",
              "      <td>57.118607</td>\n",
              "      <td>1.721772</td>\n",
              "      <td>-0.210731</td>\n",
              "      <td>-0.462086</td>\n",
              "    </tr>\n",
              "    <tr>\n",
              "      <th>min_num</th>\n",
              "      <td>-0.277406</td>\n",
              "      <td>-0.276602</td>\n",
              "      <td>-0.276849</td>\n",
              "      <td>-0.277674</td>\n",
              "      <td>-0.273385</td>\n",
              "      <td>-0.277097</td>\n",
              "      <td>-0.225868</td>\n",
              "      <td>-0.478236</td>\n",
              "    </tr>\n",
              "  </tbody>\n",
              "</table>\n",
              "</div>\n",
              "      <button class=\"colab-df-convert\" onclick=\"convertToInteractive('df-70871d47-f287-426c-85a3-6d554ca92b33')\"\n",
              "              title=\"Convert this dataframe to an interactive table.\"\n",
              "              style=\"display:none;\">\n",
              "        \n",
              "  <svg xmlns=\"http://www.w3.org/2000/svg\" height=\"24px\"viewBox=\"0 0 24 24\"\n",
              "       width=\"24px\">\n",
              "    <path d=\"M0 0h24v24H0V0z\" fill=\"none\"/>\n",
              "    <path d=\"M18.56 5.44l.94 2.06.94-2.06 2.06-.94-2.06-.94-.94-2.06-.94 2.06-2.06.94zm-11 1L8.5 8.5l.94-2.06 2.06-.94-2.06-.94L8.5 2.5l-.94 2.06-2.06.94zm10 10l.94 2.06.94-2.06 2.06-.94-2.06-.94-.94-2.06-.94 2.06-2.06.94z\"/><path d=\"M17.41 7.96l-1.37-1.37c-.4-.4-.92-.59-1.43-.59-.52 0-1.04.2-1.43.59L10.3 9.45l-7.72 7.72c-.78.78-.78 2.05 0 2.83L4 21.41c.39.39.9.59 1.41.59.51 0 1.02-.2 1.41-.59l7.78-7.78 2.81-2.81c.8-.78.8-2.07 0-2.86zM5.41 20L4 18.59l7.72-7.72 1.47 1.35L5.41 20z\"/>\n",
              "  </svg>\n",
              "      </button>\n",
              "      \n",
              "  <style>\n",
              "    .colab-df-container {\n",
              "      display:flex;\n",
              "      flex-wrap:wrap;\n",
              "      gap: 12px;\n",
              "    }\n",
              "\n",
              "    .colab-df-convert {\n",
              "      background-color: #E8F0FE;\n",
              "      border: none;\n",
              "      border-radius: 50%;\n",
              "      cursor: pointer;\n",
              "      display: none;\n",
              "      fill: #1967D2;\n",
              "      height: 32px;\n",
              "      padding: 0 0 0 0;\n",
              "      width: 32px;\n",
              "    }\n",
              "\n",
              "    .colab-df-convert:hover {\n",
              "      background-color: #E2EBFA;\n",
              "      box-shadow: 0px 1px 2px rgba(60, 64, 67, 0.3), 0px 1px 3px 1px rgba(60, 64, 67, 0.15);\n",
              "      fill: #174EA6;\n",
              "    }\n",
              "\n",
              "    [theme=dark] .colab-df-convert {\n",
              "      background-color: #3B4455;\n",
              "      fill: #D2E3FC;\n",
              "    }\n",
              "\n",
              "    [theme=dark] .colab-df-convert:hover {\n",
              "      background-color: #434B5C;\n",
              "      box-shadow: 0px 1px 3px 1px rgba(0, 0, 0, 0.15);\n",
              "      filter: drop-shadow(0px 1px 2px rgba(0, 0, 0, 0.3));\n",
              "      fill: #FFFFFF;\n",
              "    }\n",
              "  </style>\n",
              "\n",
              "      <script>\n",
              "        const buttonEl =\n",
              "          document.querySelector('#df-70871d47-f287-426c-85a3-6d554ca92b33 button.colab-df-convert');\n",
              "        buttonEl.style.display =\n",
              "          google.colab.kernel.accessAllowed ? 'block' : 'none';\n",
              "\n",
              "        async function convertToInteractive(key) {\n",
              "          const element = document.querySelector('#df-70871d47-f287-426c-85a3-6d554ca92b33');\n",
              "          const dataTable =\n",
              "            await google.colab.kernel.invokeFunction('convertToInteractive',\n",
              "                                                     [key], {});\n",
              "          if (!dataTable) return;\n",
              "\n",
              "          const docLinkHtml = 'Like what you see? Visit the ' +\n",
              "            '<a target=\"_blank\" href=https://colab.research.google.com/notebooks/data_table.ipynb>data table notebook</a>'\n",
              "            + ' to learn more about interactive tables.';\n",
              "          element.innerHTML = '';\n",
              "          dataTable['output_type'] = 'display_data';\n",
              "          await google.colab.output.renderOutput(dataTable, element);\n",
              "          const docLink = document.createElement('div');\n",
              "          docLink.innerHTML = docLinkHtml;\n",
              "          element.appendChild(docLink);\n",
              "        }\n",
              "      </script>\n",
              "    </div>\n",
              "  </div>\n",
              "  "
            ]
          },
          "metadata": {},
          "execution_count": 11
        }
      ]
    },
    {
      "cell_type": "code",
      "source": [
        "describe(X_normalized)"
      ],
      "metadata": {
        "id": "G7-p5vdl3H4F",
        "colab": {
          "base_uri": "https://localhost:8080/",
          "height": 175
        },
        "outputId": "4da08d2f-eadb-4624-856f-0752806d79d7"
      },
      "execution_count": 12,
      "outputs": [
        {
          "output_type": "execute_result",
          "data": {
            "text/plain": [
              "                0         1         2         3         4         5         6  \\\n",
              "mean     0.003581  0.004273  0.003624  0.003503  0.043284  0.003559  0.004468   \n",
              "sd       0.000053  0.000351  0.000069  0.000013  0.031627  0.000290  0.000060   \n",
              "max_num  0.003892  0.004925  0.007436  0.004424  1.000000  0.038197  0.004644   \n",
              "min_num  0.003487  0.003501  0.003496  0.003482  0.003557  0.003492  0.004382   \n",
              "\n",
              "                7  \n",
              "mean     0.000134  \n",
              "sd       0.000056  \n",
              "max_num  0.000280  \n",
              "min_num  0.000000  "
            ],
            "text/html": [
              "\n",
              "  <div id=\"df-1fe77a29-9962-4965-85b8-83d78e4e26e9\">\n",
              "    <div class=\"colab-df-container\">\n",
              "      <div>\n",
              "<style scoped>\n",
              "    .dataframe tbody tr th:only-of-type {\n",
              "        vertical-align: middle;\n",
              "    }\n",
              "\n",
              "    .dataframe tbody tr th {\n",
              "        vertical-align: top;\n",
              "    }\n",
              "\n",
              "    .dataframe thead th {\n",
              "        text-align: right;\n",
              "    }\n",
              "</style>\n",
              "<table border=\"1\" class=\"dataframe\">\n",
              "  <thead>\n",
              "    <tr style=\"text-align: right;\">\n",
              "      <th></th>\n",
              "      <th>0</th>\n",
              "      <th>1</th>\n",
              "      <th>2</th>\n",
              "      <th>3</th>\n",
              "      <th>4</th>\n",
              "      <th>5</th>\n",
              "      <th>6</th>\n",
              "      <th>7</th>\n",
              "    </tr>\n",
              "  </thead>\n",
              "  <tbody>\n",
              "    <tr>\n",
              "      <th>mean</th>\n",
              "      <td>0.003581</td>\n",
              "      <td>0.004273</td>\n",
              "      <td>0.003624</td>\n",
              "      <td>0.003503</td>\n",
              "      <td>0.043284</td>\n",
              "      <td>0.003559</td>\n",
              "      <td>0.004468</td>\n",
              "      <td>0.000134</td>\n",
              "    </tr>\n",
              "    <tr>\n",
              "      <th>sd</th>\n",
              "      <td>0.000053</td>\n",
              "      <td>0.000351</td>\n",
              "      <td>0.000069</td>\n",
              "      <td>0.000013</td>\n",
              "      <td>0.031627</td>\n",
              "      <td>0.000290</td>\n",
              "      <td>0.000060</td>\n",
              "      <td>0.000056</td>\n",
              "    </tr>\n",
              "    <tr>\n",
              "      <th>max_num</th>\n",
              "      <td>0.003892</td>\n",
              "      <td>0.004925</td>\n",
              "      <td>0.007436</td>\n",
              "      <td>0.004424</td>\n",
              "      <td>1.000000</td>\n",
              "      <td>0.038197</td>\n",
              "      <td>0.004644</td>\n",
              "      <td>0.000280</td>\n",
              "    </tr>\n",
              "    <tr>\n",
              "      <th>min_num</th>\n",
              "      <td>0.003487</td>\n",
              "      <td>0.003501</td>\n",
              "      <td>0.003496</td>\n",
              "      <td>0.003482</td>\n",
              "      <td>0.003557</td>\n",
              "      <td>0.003492</td>\n",
              "      <td>0.004382</td>\n",
              "      <td>0.000000</td>\n",
              "    </tr>\n",
              "  </tbody>\n",
              "</table>\n",
              "</div>\n",
              "      <button class=\"colab-df-convert\" onclick=\"convertToInteractive('df-1fe77a29-9962-4965-85b8-83d78e4e26e9')\"\n",
              "              title=\"Convert this dataframe to an interactive table.\"\n",
              "              style=\"display:none;\">\n",
              "        \n",
              "  <svg xmlns=\"http://www.w3.org/2000/svg\" height=\"24px\"viewBox=\"0 0 24 24\"\n",
              "       width=\"24px\">\n",
              "    <path d=\"M0 0h24v24H0V0z\" fill=\"none\"/>\n",
              "    <path d=\"M18.56 5.44l.94 2.06.94-2.06 2.06-.94-2.06-.94-.94-2.06-.94 2.06-2.06.94zm-11 1L8.5 8.5l.94-2.06 2.06-.94-2.06-.94L8.5 2.5l-.94 2.06-2.06.94zm10 10l.94 2.06.94-2.06 2.06-.94-2.06-.94-.94-2.06-.94 2.06-2.06.94z\"/><path d=\"M17.41 7.96l-1.37-1.37c-.4-.4-.92-.59-1.43-.59-.52 0-1.04.2-1.43.59L10.3 9.45l-7.72 7.72c-.78.78-.78 2.05 0 2.83L4 21.41c.39.39.9.59 1.41.59.51 0 1.02-.2 1.41-.59l7.78-7.78 2.81-2.81c.8-.78.8-2.07 0-2.86zM5.41 20L4 18.59l7.72-7.72 1.47 1.35L5.41 20z\"/>\n",
              "  </svg>\n",
              "      </button>\n",
              "      \n",
              "  <style>\n",
              "    .colab-df-container {\n",
              "      display:flex;\n",
              "      flex-wrap:wrap;\n",
              "      gap: 12px;\n",
              "    }\n",
              "\n",
              "    .colab-df-convert {\n",
              "      background-color: #E8F0FE;\n",
              "      border: none;\n",
              "      border-radius: 50%;\n",
              "      cursor: pointer;\n",
              "      display: none;\n",
              "      fill: #1967D2;\n",
              "      height: 32px;\n",
              "      padding: 0 0 0 0;\n",
              "      width: 32px;\n",
              "    }\n",
              "\n",
              "    .colab-df-convert:hover {\n",
              "      background-color: #E2EBFA;\n",
              "      box-shadow: 0px 1px 2px rgba(60, 64, 67, 0.3), 0px 1px 3px 1px rgba(60, 64, 67, 0.15);\n",
              "      fill: #174EA6;\n",
              "    }\n",
              "\n",
              "    [theme=dark] .colab-df-convert {\n",
              "      background-color: #3B4455;\n",
              "      fill: #D2E3FC;\n",
              "    }\n",
              "\n",
              "    [theme=dark] .colab-df-convert:hover {\n",
              "      background-color: #434B5C;\n",
              "      box-shadow: 0px 1px 3px 1px rgba(0, 0, 0, 0.15);\n",
              "      filter: drop-shadow(0px 1px 2px rgba(0, 0, 0, 0.3));\n",
              "      fill: #FFFFFF;\n",
              "    }\n",
              "  </style>\n",
              "\n",
              "      <script>\n",
              "        const buttonEl =\n",
              "          document.querySelector('#df-1fe77a29-9962-4965-85b8-83d78e4e26e9 button.colab-df-convert');\n",
              "        buttonEl.style.display =\n",
              "          google.colab.kernel.accessAllowed ? 'block' : 'none';\n",
              "\n",
              "        async function convertToInteractive(key) {\n",
              "          const element = document.querySelector('#df-1fe77a29-9962-4965-85b8-83d78e4e26e9');\n",
              "          const dataTable =\n",
              "            await google.colab.kernel.invokeFunction('convertToInteractive',\n",
              "                                                     [key], {});\n",
              "          if (!dataTable) return;\n",
              "\n",
              "          const docLinkHtml = 'Like what you see? Visit the ' +\n",
              "            '<a target=\"_blank\" href=https://colab.research.google.com/notebooks/data_table.ipynb>data table notebook</a>'\n",
              "            + ' to learn more about interactive tables.';\n",
              "          element.innerHTML = '';\n",
              "          dataTable['output_type'] = 'display_data';\n",
              "          await google.colab.output.renderOutput(dataTable, element);\n",
              "          const docLink = document.createElement('div');\n",
              "          docLink.innerHTML = docLinkHtml;\n",
              "          element.appendChild(docLink);\n",
              "        }\n",
              "      </script>\n",
              "    </div>\n",
              "  </div>\n",
              "  "
            ]
          },
          "metadata": {},
          "execution_count": 12
        }
      ]
    },
    {
      "cell_type": "code",
      "source": [
        ""
      ],
      "metadata": {
        "id": "gBJjre4UDwJS"
      },
      "execution_count": 12,
      "outputs": []
    },
    {
      "cell_type": "markdown",
      "source": [
        "However, this is not a complete setting we would like to have, as we want to train the model and also test it. That means we need to divide the dataset into two parts: {Training set, Test set} and only use the training set to train the model. We also need to create the function for it."
      ],
      "metadata": {
        "id": "mj47zZ264Az0"
      }
    },
    {
      "cell_type": "code",
      "source": [
        "def train_test_split(X, y, test_ratio = 0.3):\n",
        "  # simulation\n",
        "  # cross-val\n",
        "  \n",
        "  \"\"\"\n",
        "  Input:\n",
        "    - X: features\n",
        "    - y: labels\n",
        "    - test_ratio: ratio of the test set\n",
        "    \n",
        "  Output:\n",
        "    - X_train: separated training instances\n",
        "    - X_test: separated test instances\n",
        "    - y_train: separated training labels\n",
        "    - y_test: separated test labels\n",
        "  \n",
        "  1. Randomly shuffled indices of the size of the data instances\n",
        "  2. Divide the indices into two parts with the ratio of [1-test ratio:test ratio]\n",
        "  3. Select training instances and labels with the first set of indices and test instances and labels with the second set of indices\n",
        "  4. Return the training set and the test set\n",
        "  \"\"\"\n",
        "\n",
        "  # shuffled_indices = np.random.permutation(len(data))\n",
        "  # test_set_size = int(len(data) * test_ratio)\n",
        "  # test_indices = shuffled_indices[:test_set_size]\n",
        "  # train_indices = shuffled_indices[test_set_size:]\n",
        "  # #return data.iloc[train_indices], data.iloc[test_indices]\n",
        "\n",
        "  u = int((1 - test_ratio) * X.shape[0]) \n",
        "  v = np.random.permutation(X.shape[0])\n",
        "    \n",
        "  X_train, X_test = np.split(np.take(X,v,axis=0), [u])\n",
        "  y_train, y_test = np.split(np.take(y,v), [u])\n",
        "  #return X_train, X_test, y_train, y_test\n",
        "\n",
        "  return X_train, X_test, y_train, y_test"
      ],
      "metadata": {
        "id": "ORFET61FbZVy"
      },
      "execution_count": 13,
      "outputs": []
    },
    {
      "cell_type": "markdown",
      "source": [
        "Split your dataset into training and test sets with `test ratio = 0.3`."
      ],
      "metadata": {
        "id": "twOo6_yniUGO"
      }
    },
    {
      "cell_type": "code",
      "source": [
        "X_train, X_test, y_train, y_test = train_test_split(X, y, 0.3)"
      ],
      "metadata": {
        "id": "f-iSb7IoijO1"
      },
      "execution_count": 14,
      "outputs": []
    },
    {
      "cell_type": "markdown",
      "source": [
        "After applying your train_test_split function, you can check the shape of each subset. The training set should have 14,448 rows while the test set might have 6,192 records. Uncommend the below line."
      ],
      "metadata": {
        "id": "d9PK6RGbkK7O"
      }
    },
    {
      "cell_type": "code",
      "source": [
        " X_train.shape, X_test.shape, y_train.shape, y_test.shape"
      ],
      "metadata": {
        "id": "bk_pMMo-iquK",
        "colab": {
          "base_uri": "https://localhost:8080/"
        },
        "outputId": "53442b8a-7835-437e-9ba9-aa53f5554470"
      },
      "execution_count": 15,
      "outputs": [
        {
          "output_type": "execute_result",
          "data": {
            "text/plain": [
              "((14447, 8), (6193, 8), (14447,), (6193,))"
            ]
          },
          "metadata": {},
          "execution_count": 15
        }
      ]
    },
    {
      "cell_type": "markdown",
      "source": [
        "You may remember, when you apply standardization or normalization on both training and test sets, you should not use any statistics from the test set. This means that you should use mean and standard deviation (or max and min values) of the training set and use those statistics to avoid cheating and make a valid model. \n",
        "\n",
        "- Create two functions (**apply_standardization**, **apply_normalization**) that uses training set's statistics and apply standardization or normalization to both sets."
      ],
      "metadata": {
        "id": "7T8JBhsTj00O"
      }
    },
    {
      "cell_type": "code",
      "source": [
        "def apply_standardization(X_train, X_test):\n",
        "  \"\"\"\n",
        "  Input:\n",
        "    - X_train: training instances\n",
        "    - X_test: test instances\n",
        "\n",
        "  Output:\n",
        "    - X_train_standardized\n",
        "    - X_test_standardized\n",
        "\n",
        "  Use training set's mean and standard deviation to standardize both training and test sets\n",
        "  \"\"\"\n",
        "  # x_data = np.array(X_train)\n",
        "  # #column = \n",
        "  # # x_data = np.std(data, axis=0)\n",
        "  # # np.mean(data, axis=1)\n",
        "  # standard_data = (x_data - np.mean(x_data)) / (np.std(x_data))\n",
        "\n",
        "  # return standard_data \n",
        "\n",
        "  x_standard_train = (X_train - np.mean(X_train)) / np.std(X_train)\n",
        "\n",
        "  x_standard_test = (X_test - np.mean(X_train)) / np.std(X_train)\n",
        "\n",
        "  return x_standard_train, x_standard_test"
      ],
      "metadata": {
        "id": "XLs3P181kYHA"
      },
      "execution_count": 16,
      "outputs": []
    },
    {
      "cell_type": "code",
      "source": [
        "def apply_normalization(X_train, X_test):\n",
        "  \"\"\"\n",
        "  Input:\n",
        "    - X_train\n",
        "    - X_test\n",
        "\n",
        "  Output:\n",
        "    - X_train_standardized\n",
        "    - X_test_standardized\n",
        "  \"\"\"\n",
        "  #testData = (X_test - np.mean(X_train)) / np.std(X_train)\n",
        "  x_normal_train = (X_train - np.min(X_train)) / (np.max(X_train) - np.min(X_train))\n",
        "  x_normal_test = (X_test - np.min(X_train)) / (np.max(X_train) - np.min(X_train))\n",
        "\n",
        "  #  for i in X_train.T:\n",
        "  #       fmean = np.mean(i)\n",
        "  #       frange = np.amax(i) - np.amin(i)\n",
        "\n",
        "  #       #Vector Subtraction\n",
        "  #       i -= fmean\n",
        "\n",
        "  #       #Vector Division\n",
        "  #       i /= frange\n",
        "  # return X_train\n",
        "\n",
        "  return x_normal_train, x_normal_test"
      ],
      "metadata": {
        "id": "sOx7Kd221jRq"
      },
      "execution_count": 17,
      "outputs": []
    },
    {
      "cell_type": "markdown",
      "source": [
        "- Apply two functions (**apply_standardization**, **apply_normalization**) to created standardized and normalized datasets."
      ],
      "metadata": {
        "id": "ujWQ84ZFCa10"
      }
    },
    {
      "cell_type": "code",
      "source": [
        "X_train_standardized, X_test_standardized = apply_standardization(X_train, X_test)\n",
        "X_train_normalized, X_test_normalized = apply_normalization(X_train, X_test)"
      ],
      "metadata": {
        "id": "Cw8tjyoCtnqI"
      },
      "execution_count": 18,
      "outputs": []
    },
    {
      "cell_type": "markdown",
      "source": [
        "Check the statistics using describe method. Test set should NOT have zero mean and standard deviation 1 or zero min and one max. Good test set however might show close value to zero or one."
      ],
      "metadata": {
        "id": "efxhH-DvCxBx"
      }
    },
    {
      "cell_type": "code",
      "source": [
        "describe(X_train_standardized)"
      ],
      "metadata": {
        "id": "ch5zQTDDDugQ",
        "colab": {
          "base_uri": "https://localhost:8080/",
          "height": 175
        },
        "outputId": "ab143c06-d897-43fc-a464-e03b02d2daa6"
      },
      "execution_count": 19,
      "outputs": [
        {
          "output_type": "execute_result",
          "data": {
            "text/plain": [
              "                0         1         2         3          4         5  \\\n",
              "mean    -0.272938 -0.232801 -0.270414 -0.277416   2.021863 -0.274149   \n",
              "sd       0.003043  0.020329  0.004037  0.000770   1.812410  0.020029   \n",
              "max_num -0.254925 -0.195075 -0.049642 -0.224084  45.928079  1.731980   \n",
              "min_num -0.278380 -0.277571 -0.277820 -0.278582  -0.274336 -0.278069   \n",
              "\n",
              "                6         7  \n",
              "mean    -0.221528 -0.472618  \n",
              "sd       0.003477  0.003248  \n",
              "max_num -0.211332 -0.464092  \n",
              "min_num -0.226553 -0.480332  "
            ],
            "text/html": [
              "\n",
              "  <div id=\"df-97c23ed3-0eb3-4f95-a587-28c628858fc5\">\n",
              "    <div class=\"colab-df-container\">\n",
              "      <div>\n",
              "<style scoped>\n",
              "    .dataframe tbody tr th:only-of-type {\n",
              "        vertical-align: middle;\n",
              "    }\n",
              "\n",
              "    .dataframe tbody tr th {\n",
              "        vertical-align: top;\n",
              "    }\n",
              "\n",
              "    .dataframe thead th {\n",
              "        text-align: right;\n",
              "    }\n",
              "</style>\n",
              "<table border=\"1\" class=\"dataframe\">\n",
              "  <thead>\n",
              "    <tr style=\"text-align: right;\">\n",
              "      <th></th>\n",
              "      <th>0</th>\n",
              "      <th>1</th>\n",
              "      <th>2</th>\n",
              "      <th>3</th>\n",
              "      <th>4</th>\n",
              "      <th>5</th>\n",
              "      <th>6</th>\n",
              "      <th>7</th>\n",
              "    </tr>\n",
              "  </thead>\n",
              "  <tbody>\n",
              "    <tr>\n",
              "      <th>mean</th>\n",
              "      <td>-0.272938</td>\n",
              "      <td>-0.232801</td>\n",
              "      <td>-0.270414</td>\n",
              "      <td>-0.277416</td>\n",
              "      <td>2.021863</td>\n",
              "      <td>-0.274149</td>\n",
              "      <td>-0.221528</td>\n",
              "      <td>-0.472618</td>\n",
              "    </tr>\n",
              "    <tr>\n",
              "      <th>sd</th>\n",
              "      <td>0.003043</td>\n",
              "      <td>0.020329</td>\n",
              "      <td>0.004037</td>\n",
              "      <td>0.000770</td>\n",
              "      <td>1.812410</td>\n",
              "      <td>0.020029</td>\n",
              "      <td>0.003477</td>\n",
              "      <td>0.003248</td>\n",
              "    </tr>\n",
              "    <tr>\n",
              "      <th>max_num</th>\n",
              "      <td>-0.254925</td>\n",
              "      <td>-0.195075</td>\n",
              "      <td>-0.049642</td>\n",
              "      <td>-0.224084</td>\n",
              "      <td>45.928079</td>\n",
              "      <td>1.731980</td>\n",
              "      <td>-0.211332</td>\n",
              "      <td>-0.464092</td>\n",
              "    </tr>\n",
              "    <tr>\n",
              "      <th>min_num</th>\n",
              "      <td>-0.278380</td>\n",
              "      <td>-0.277571</td>\n",
              "      <td>-0.277820</td>\n",
              "      <td>-0.278582</td>\n",
              "      <td>-0.274336</td>\n",
              "      <td>-0.278069</td>\n",
              "      <td>-0.226553</td>\n",
              "      <td>-0.480332</td>\n",
              "    </tr>\n",
              "  </tbody>\n",
              "</table>\n",
              "</div>\n",
              "      <button class=\"colab-df-convert\" onclick=\"convertToInteractive('df-97c23ed3-0eb3-4f95-a587-28c628858fc5')\"\n",
              "              title=\"Convert this dataframe to an interactive table.\"\n",
              "              style=\"display:none;\">\n",
              "        \n",
              "  <svg xmlns=\"http://www.w3.org/2000/svg\" height=\"24px\"viewBox=\"0 0 24 24\"\n",
              "       width=\"24px\">\n",
              "    <path d=\"M0 0h24v24H0V0z\" fill=\"none\"/>\n",
              "    <path d=\"M18.56 5.44l.94 2.06.94-2.06 2.06-.94-2.06-.94-.94-2.06-.94 2.06-2.06.94zm-11 1L8.5 8.5l.94-2.06 2.06-.94-2.06-.94L8.5 2.5l-.94 2.06-2.06.94zm10 10l.94 2.06.94-2.06 2.06-.94-2.06-.94-.94-2.06-.94 2.06-2.06.94z\"/><path d=\"M17.41 7.96l-1.37-1.37c-.4-.4-.92-.59-1.43-.59-.52 0-1.04.2-1.43.59L10.3 9.45l-7.72 7.72c-.78.78-.78 2.05 0 2.83L4 21.41c.39.39.9.59 1.41.59.51 0 1.02-.2 1.41-.59l7.78-7.78 2.81-2.81c.8-.78.8-2.07 0-2.86zM5.41 20L4 18.59l7.72-7.72 1.47 1.35L5.41 20z\"/>\n",
              "  </svg>\n",
              "      </button>\n",
              "      \n",
              "  <style>\n",
              "    .colab-df-container {\n",
              "      display:flex;\n",
              "      flex-wrap:wrap;\n",
              "      gap: 12px;\n",
              "    }\n",
              "\n",
              "    .colab-df-convert {\n",
              "      background-color: #E8F0FE;\n",
              "      border: none;\n",
              "      border-radius: 50%;\n",
              "      cursor: pointer;\n",
              "      display: none;\n",
              "      fill: #1967D2;\n",
              "      height: 32px;\n",
              "      padding: 0 0 0 0;\n",
              "      width: 32px;\n",
              "    }\n",
              "\n",
              "    .colab-df-convert:hover {\n",
              "      background-color: #E2EBFA;\n",
              "      box-shadow: 0px 1px 2px rgba(60, 64, 67, 0.3), 0px 1px 3px 1px rgba(60, 64, 67, 0.15);\n",
              "      fill: #174EA6;\n",
              "    }\n",
              "\n",
              "    [theme=dark] .colab-df-convert {\n",
              "      background-color: #3B4455;\n",
              "      fill: #D2E3FC;\n",
              "    }\n",
              "\n",
              "    [theme=dark] .colab-df-convert:hover {\n",
              "      background-color: #434B5C;\n",
              "      box-shadow: 0px 1px 3px 1px rgba(0, 0, 0, 0.15);\n",
              "      filter: drop-shadow(0px 1px 2px rgba(0, 0, 0, 0.3));\n",
              "      fill: #FFFFFF;\n",
              "    }\n",
              "  </style>\n",
              "\n",
              "      <script>\n",
              "        const buttonEl =\n",
              "          document.querySelector('#df-97c23ed3-0eb3-4f95-a587-28c628858fc5 button.colab-df-convert');\n",
              "        buttonEl.style.display =\n",
              "          google.colab.kernel.accessAllowed ? 'block' : 'none';\n",
              "\n",
              "        async function convertToInteractive(key) {\n",
              "          const element = document.querySelector('#df-97c23ed3-0eb3-4f95-a587-28c628858fc5');\n",
              "          const dataTable =\n",
              "            await google.colab.kernel.invokeFunction('convertToInteractive',\n",
              "                                                     [key], {});\n",
              "          if (!dataTable) return;\n",
              "\n",
              "          const docLinkHtml = 'Like what you see? Visit the ' +\n",
              "            '<a target=\"_blank\" href=https://colab.research.google.com/notebooks/data_table.ipynb>data table notebook</a>'\n",
              "            + ' to learn more about interactive tables.';\n",
              "          element.innerHTML = '';\n",
              "          dataTable['output_type'] = 'display_data';\n",
              "          await google.colab.output.renderOutput(dataTable, element);\n",
              "          const docLink = document.createElement('div');\n",
              "          docLink.innerHTML = docLinkHtml;\n",
              "          element.appendChild(docLink);\n",
              "        }\n",
              "      </script>\n",
              "    </div>\n",
              "  </div>\n",
              "  "
            ]
          },
          "metadata": {},
          "execution_count": 19
        }
      ]
    },
    {
      "cell_type": "code",
      "source": [
        "describe(X_test_standardized)"
      ],
      "metadata": {
        "id": "8qyxhAClDx7e",
        "colab": {
          "base_uri": "https://localhost:8080/",
          "height": 175
        },
        "outputId": "6c8f0331-a480-4407-c89b-3c44056920a7"
      },
      "execution_count": 20,
      "outputs": [
        {
          "output_type": "execute_result",
          "data": {
            "text/plain": [
              "                0         1         2         3          4         5  \\\n",
              "mean    -0.272904 -0.233005 -0.270391 -0.277412   2.037676 -0.274392   \n",
              "sd       0.003142  0.020424  0.003919  0.000759   1.876152  0.002175   \n",
              "max_num -0.254925 -0.195075 -0.178217 -0.254420  57.438649 -0.144654   \n",
              "min_num -0.278380 -0.277571 -0.277751 -0.278649  -0.269483 -0.277619   \n",
              "\n",
              "                6         7  \n",
              "mean    -0.221607 -0.472559  \n",
              "sd       0.003403  0.003223  \n",
              "max_num -0.211380 -0.464351  \n",
              "min_num -0.226537 -0.480203  "
            ],
            "text/html": [
              "\n",
              "  <div id=\"df-e9212393-1636-41be-a912-e928bff57d8b\">\n",
              "    <div class=\"colab-df-container\">\n",
              "      <div>\n",
              "<style scoped>\n",
              "    .dataframe tbody tr th:only-of-type {\n",
              "        vertical-align: middle;\n",
              "    }\n",
              "\n",
              "    .dataframe tbody tr th {\n",
              "        vertical-align: top;\n",
              "    }\n",
              "\n",
              "    .dataframe thead th {\n",
              "        text-align: right;\n",
              "    }\n",
              "</style>\n",
              "<table border=\"1\" class=\"dataframe\">\n",
              "  <thead>\n",
              "    <tr style=\"text-align: right;\">\n",
              "      <th></th>\n",
              "      <th>0</th>\n",
              "      <th>1</th>\n",
              "      <th>2</th>\n",
              "      <th>3</th>\n",
              "      <th>4</th>\n",
              "      <th>5</th>\n",
              "      <th>6</th>\n",
              "      <th>7</th>\n",
              "    </tr>\n",
              "  </thead>\n",
              "  <tbody>\n",
              "    <tr>\n",
              "      <th>mean</th>\n",
              "      <td>-0.272904</td>\n",
              "      <td>-0.233005</td>\n",
              "      <td>-0.270391</td>\n",
              "      <td>-0.277412</td>\n",
              "      <td>2.037676</td>\n",
              "      <td>-0.274392</td>\n",
              "      <td>-0.221607</td>\n",
              "      <td>-0.472559</td>\n",
              "    </tr>\n",
              "    <tr>\n",
              "      <th>sd</th>\n",
              "      <td>0.003142</td>\n",
              "      <td>0.020424</td>\n",
              "      <td>0.003919</td>\n",
              "      <td>0.000759</td>\n",
              "      <td>1.876152</td>\n",
              "      <td>0.002175</td>\n",
              "      <td>0.003403</td>\n",
              "      <td>0.003223</td>\n",
              "    </tr>\n",
              "    <tr>\n",
              "      <th>max_num</th>\n",
              "      <td>-0.254925</td>\n",
              "      <td>-0.195075</td>\n",
              "      <td>-0.178217</td>\n",
              "      <td>-0.254420</td>\n",
              "      <td>57.438649</td>\n",
              "      <td>-0.144654</td>\n",
              "      <td>-0.211380</td>\n",
              "      <td>-0.464351</td>\n",
              "    </tr>\n",
              "    <tr>\n",
              "      <th>min_num</th>\n",
              "      <td>-0.278380</td>\n",
              "      <td>-0.277571</td>\n",
              "      <td>-0.277751</td>\n",
              "      <td>-0.278649</td>\n",
              "      <td>-0.269483</td>\n",
              "      <td>-0.277619</td>\n",
              "      <td>-0.226537</td>\n",
              "      <td>-0.480203</td>\n",
              "    </tr>\n",
              "  </tbody>\n",
              "</table>\n",
              "</div>\n",
              "      <button class=\"colab-df-convert\" onclick=\"convertToInteractive('df-e9212393-1636-41be-a912-e928bff57d8b')\"\n",
              "              title=\"Convert this dataframe to an interactive table.\"\n",
              "              style=\"display:none;\">\n",
              "        \n",
              "  <svg xmlns=\"http://www.w3.org/2000/svg\" height=\"24px\"viewBox=\"0 0 24 24\"\n",
              "       width=\"24px\">\n",
              "    <path d=\"M0 0h24v24H0V0z\" fill=\"none\"/>\n",
              "    <path d=\"M18.56 5.44l.94 2.06.94-2.06 2.06-.94-2.06-.94-.94-2.06-.94 2.06-2.06.94zm-11 1L8.5 8.5l.94-2.06 2.06-.94-2.06-.94L8.5 2.5l-.94 2.06-2.06.94zm10 10l.94 2.06.94-2.06 2.06-.94-2.06-.94-.94-2.06-.94 2.06-2.06.94z\"/><path d=\"M17.41 7.96l-1.37-1.37c-.4-.4-.92-.59-1.43-.59-.52 0-1.04.2-1.43.59L10.3 9.45l-7.72 7.72c-.78.78-.78 2.05 0 2.83L4 21.41c.39.39.9.59 1.41.59.51 0 1.02-.2 1.41-.59l7.78-7.78 2.81-2.81c.8-.78.8-2.07 0-2.86zM5.41 20L4 18.59l7.72-7.72 1.47 1.35L5.41 20z\"/>\n",
              "  </svg>\n",
              "      </button>\n",
              "      \n",
              "  <style>\n",
              "    .colab-df-container {\n",
              "      display:flex;\n",
              "      flex-wrap:wrap;\n",
              "      gap: 12px;\n",
              "    }\n",
              "\n",
              "    .colab-df-convert {\n",
              "      background-color: #E8F0FE;\n",
              "      border: none;\n",
              "      border-radius: 50%;\n",
              "      cursor: pointer;\n",
              "      display: none;\n",
              "      fill: #1967D2;\n",
              "      height: 32px;\n",
              "      padding: 0 0 0 0;\n",
              "      width: 32px;\n",
              "    }\n",
              "\n",
              "    .colab-df-convert:hover {\n",
              "      background-color: #E2EBFA;\n",
              "      box-shadow: 0px 1px 2px rgba(60, 64, 67, 0.3), 0px 1px 3px 1px rgba(60, 64, 67, 0.15);\n",
              "      fill: #174EA6;\n",
              "    }\n",
              "\n",
              "    [theme=dark] .colab-df-convert {\n",
              "      background-color: #3B4455;\n",
              "      fill: #D2E3FC;\n",
              "    }\n",
              "\n",
              "    [theme=dark] .colab-df-convert:hover {\n",
              "      background-color: #434B5C;\n",
              "      box-shadow: 0px 1px 3px 1px rgba(0, 0, 0, 0.15);\n",
              "      filter: drop-shadow(0px 1px 2px rgba(0, 0, 0, 0.3));\n",
              "      fill: #FFFFFF;\n",
              "    }\n",
              "  </style>\n",
              "\n",
              "      <script>\n",
              "        const buttonEl =\n",
              "          document.querySelector('#df-e9212393-1636-41be-a912-e928bff57d8b button.colab-df-convert');\n",
              "        buttonEl.style.display =\n",
              "          google.colab.kernel.accessAllowed ? 'block' : 'none';\n",
              "\n",
              "        async function convertToInteractive(key) {\n",
              "          const element = document.querySelector('#df-e9212393-1636-41be-a912-e928bff57d8b');\n",
              "          const dataTable =\n",
              "            await google.colab.kernel.invokeFunction('convertToInteractive',\n",
              "                                                     [key], {});\n",
              "          if (!dataTable) return;\n",
              "\n",
              "          const docLinkHtml = 'Like what you see? Visit the ' +\n",
              "            '<a target=\"_blank\" href=https://colab.research.google.com/notebooks/data_table.ipynb>data table notebook</a>'\n",
              "            + ' to learn more about interactive tables.';\n",
              "          element.innerHTML = '';\n",
              "          dataTable['output_type'] = 'display_data';\n",
              "          await google.colab.output.renderOutput(dataTable, element);\n",
              "          const docLink = document.createElement('div');\n",
              "          docLink.innerHTML = docLinkHtml;\n",
              "          element.appendChild(docLink);\n",
              "        }\n",
              "      </script>\n",
              "    </div>\n",
              "  </div>\n",
              "  "
            ]
          },
          "metadata": {},
          "execution_count": 20
        }
      ]
    },
    {
      "cell_type": "code",
      "source": [
        "describe(X_train_normalized)"
      ],
      "metadata": {
        "id": "_tTsEozJ2_3a",
        "colab": {
          "base_uri": "https://localhost:8080/",
          "height": 175
        },
        "outputId": "c3c7f0f2-7cf7-48d7-bfbd-54fdddedf826"
      },
      "execution_count": 21,
      "outputs": [
        {
          "output_type": "execute_result",
          "data": {
            "text/plain": [
              "                0         1         2         3         4         5         6  \\\n",
              "mean     0.004469  0.005334  0.004523  0.004372  0.053917  0.004443  0.005577   \n",
              "sd       0.000066  0.000438  0.000087  0.000017  0.039053  0.000432  0.000075   \n",
              "max_num  0.004857  0.006147  0.009280  0.005522  1.000000  0.047671  0.005796   \n",
              "min_num  0.004352  0.004369  0.004364  0.004347  0.004439  0.004358  0.005468   \n",
              "\n",
              "                7  \n",
              "mean     0.000166  \n",
              "sd       0.000070  \n",
              "max_num  0.000350  \n",
              "min_num  0.000000  "
            ],
            "text/html": [
              "\n",
              "  <div id=\"df-835ce582-168a-4f16-a753-a5c24f40fdf2\">\n",
              "    <div class=\"colab-df-container\">\n",
              "      <div>\n",
              "<style scoped>\n",
              "    .dataframe tbody tr th:only-of-type {\n",
              "        vertical-align: middle;\n",
              "    }\n",
              "\n",
              "    .dataframe tbody tr th {\n",
              "        vertical-align: top;\n",
              "    }\n",
              "\n",
              "    .dataframe thead th {\n",
              "        text-align: right;\n",
              "    }\n",
              "</style>\n",
              "<table border=\"1\" class=\"dataframe\">\n",
              "  <thead>\n",
              "    <tr style=\"text-align: right;\">\n",
              "      <th></th>\n",
              "      <th>0</th>\n",
              "      <th>1</th>\n",
              "      <th>2</th>\n",
              "      <th>3</th>\n",
              "      <th>4</th>\n",
              "      <th>5</th>\n",
              "      <th>6</th>\n",
              "      <th>7</th>\n",
              "    </tr>\n",
              "  </thead>\n",
              "  <tbody>\n",
              "    <tr>\n",
              "      <th>mean</th>\n",
              "      <td>0.004469</td>\n",
              "      <td>0.005334</td>\n",
              "      <td>0.004523</td>\n",
              "      <td>0.004372</td>\n",
              "      <td>0.053917</td>\n",
              "      <td>0.004443</td>\n",
              "      <td>0.005577</td>\n",
              "      <td>0.000166</td>\n",
              "    </tr>\n",
              "    <tr>\n",
              "      <th>sd</th>\n",
              "      <td>0.000066</td>\n",
              "      <td>0.000438</td>\n",
              "      <td>0.000087</td>\n",
              "      <td>0.000017</td>\n",
              "      <td>0.039053</td>\n",
              "      <td>0.000432</td>\n",
              "      <td>0.000075</td>\n",
              "      <td>0.000070</td>\n",
              "    </tr>\n",
              "    <tr>\n",
              "      <th>max_num</th>\n",
              "      <td>0.004857</td>\n",
              "      <td>0.006147</td>\n",
              "      <td>0.009280</td>\n",
              "      <td>0.005522</td>\n",
              "      <td>1.000000</td>\n",
              "      <td>0.047671</td>\n",
              "      <td>0.005796</td>\n",
              "      <td>0.000350</td>\n",
              "    </tr>\n",
              "    <tr>\n",
              "      <th>min_num</th>\n",
              "      <td>0.004352</td>\n",
              "      <td>0.004369</td>\n",
              "      <td>0.004364</td>\n",
              "      <td>0.004347</td>\n",
              "      <td>0.004439</td>\n",
              "      <td>0.004358</td>\n",
              "      <td>0.005468</td>\n",
              "      <td>0.000000</td>\n",
              "    </tr>\n",
              "  </tbody>\n",
              "</table>\n",
              "</div>\n",
              "      <button class=\"colab-df-convert\" onclick=\"convertToInteractive('df-835ce582-168a-4f16-a753-a5c24f40fdf2')\"\n",
              "              title=\"Convert this dataframe to an interactive table.\"\n",
              "              style=\"display:none;\">\n",
              "        \n",
              "  <svg xmlns=\"http://www.w3.org/2000/svg\" height=\"24px\"viewBox=\"0 0 24 24\"\n",
              "       width=\"24px\">\n",
              "    <path d=\"M0 0h24v24H0V0z\" fill=\"none\"/>\n",
              "    <path d=\"M18.56 5.44l.94 2.06.94-2.06 2.06-.94-2.06-.94-.94-2.06-.94 2.06-2.06.94zm-11 1L8.5 8.5l.94-2.06 2.06-.94-2.06-.94L8.5 2.5l-.94 2.06-2.06.94zm10 10l.94 2.06.94-2.06 2.06-.94-2.06-.94-.94-2.06-.94 2.06-2.06.94z\"/><path d=\"M17.41 7.96l-1.37-1.37c-.4-.4-.92-.59-1.43-.59-.52 0-1.04.2-1.43.59L10.3 9.45l-7.72 7.72c-.78.78-.78 2.05 0 2.83L4 21.41c.39.39.9.59 1.41.59.51 0 1.02-.2 1.41-.59l7.78-7.78 2.81-2.81c.8-.78.8-2.07 0-2.86zM5.41 20L4 18.59l7.72-7.72 1.47 1.35L5.41 20z\"/>\n",
              "  </svg>\n",
              "      </button>\n",
              "      \n",
              "  <style>\n",
              "    .colab-df-container {\n",
              "      display:flex;\n",
              "      flex-wrap:wrap;\n",
              "      gap: 12px;\n",
              "    }\n",
              "\n",
              "    .colab-df-convert {\n",
              "      background-color: #E8F0FE;\n",
              "      border: none;\n",
              "      border-radius: 50%;\n",
              "      cursor: pointer;\n",
              "      display: none;\n",
              "      fill: #1967D2;\n",
              "      height: 32px;\n",
              "      padding: 0 0 0 0;\n",
              "      width: 32px;\n",
              "    }\n",
              "\n",
              "    .colab-df-convert:hover {\n",
              "      background-color: #E2EBFA;\n",
              "      box-shadow: 0px 1px 2px rgba(60, 64, 67, 0.3), 0px 1px 3px 1px rgba(60, 64, 67, 0.15);\n",
              "      fill: #174EA6;\n",
              "    }\n",
              "\n",
              "    [theme=dark] .colab-df-convert {\n",
              "      background-color: #3B4455;\n",
              "      fill: #D2E3FC;\n",
              "    }\n",
              "\n",
              "    [theme=dark] .colab-df-convert:hover {\n",
              "      background-color: #434B5C;\n",
              "      box-shadow: 0px 1px 3px 1px rgba(0, 0, 0, 0.15);\n",
              "      filter: drop-shadow(0px 1px 2px rgba(0, 0, 0, 0.3));\n",
              "      fill: #FFFFFF;\n",
              "    }\n",
              "  </style>\n",
              "\n",
              "      <script>\n",
              "        const buttonEl =\n",
              "          document.querySelector('#df-835ce582-168a-4f16-a753-a5c24f40fdf2 button.colab-df-convert');\n",
              "        buttonEl.style.display =\n",
              "          google.colab.kernel.accessAllowed ? 'block' : 'none';\n",
              "\n",
              "        async function convertToInteractive(key) {\n",
              "          const element = document.querySelector('#df-835ce582-168a-4f16-a753-a5c24f40fdf2');\n",
              "          const dataTable =\n",
              "            await google.colab.kernel.invokeFunction('convertToInteractive',\n",
              "                                                     [key], {});\n",
              "          if (!dataTable) return;\n",
              "\n",
              "          const docLinkHtml = 'Like what you see? Visit the ' +\n",
              "            '<a target=\"_blank\" href=https://colab.research.google.com/notebooks/data_table.ipynb>data table notebook</a>'\n",
              "            + ' to learn more about interactive tables.';\n",
              "          element.innerHTML = '';\n",
              "          dataTable['output_type'] = 'display_data';\n",
              "          await google.colab.output.renderOutput(dataTable, element);\n",
              "          const docLink = document.createElement('div');\n",
              "          docLink.innerHTML = docLinkHtml;\n",
              "          element.appendChild(docLink);\n",
              "        }\n",
              "      </script>\n",
              "    </div>\n",
              "  </div>\n",
              "  "
            ]
          },
          "metadata": {},
          "execution_count": 21
        }
      ]
    },
    {
      "cell_type": "code",
      "source": [
        "describe(X_test_normalized)"
      ],
      "metadata": {
        "id": "bNplCpND3Byu",
        "colab": {
          "base_uri": "https://localhost:8080/",
          "height": 175
        },
        "outputId": "24d0f089-735a-4006-8a22-60675003f329"
      },
      "execution_count": 22,
      "outputs": [
        {
          "output_type": "execute_result",
          "data": {
            "text/plain": [
              "                0         1         2         3         4         5         6  \\\n",
              "mean     0.004470  0.005329  0.004524  0.004372  0.054258  0.004438  0.005575   \n",
              "sd       0.000068  0.000440  0.000084  0.000016  0.040427  0.000047  0.000073   \n",
              "max_num  0.004857  0.006147  0.006510  0.004868  1.248028  0.007233  0.005795   \n",
              "min_num  0.004352  0.004369  0.004365  0.004346  0.004543  0.004368  0.005469   \n",
              "\n",
              "                7  \n",
              "mean     0.000168  \n",
              "sd       0.000069  \n",
              "max_num  0.000344  \n",
              "min_num  0.000003  "
            ],
            "text/html": [
              "\n",
              "  <div id=\"df-7099519c-7c66-4b73-b4f7-df7a74b8b982\">\n",
              "    <div class=\"colab-df-container\">\n",
              "      <div>\n",
              "<style scoped>\n",
              "    .dataframe tbody tr th:only-of-type {\n",
              "        vertical-align: middle;\n",
              "    }\n",
              "\n",
              "    .dataframe tbody tr th {\n",
              "        vertical-align: top;\n",
              "    }\n",
              "\n",
              "    .dataframe thead th {\n",
              "        text-align: right;\n",
              "    }\n",
              "</style>\n",
              "<table border=\"1\" class=\"dataframe\">\n",
              "  <thead>\n",
              "    <tr style=\"text-align: right;\">\n",
              "      <th></th>\n",
              "      <th>0</th>\n",
              "      <th>1</th>\n",
              "      <th>2</th>\n",
              "      <th>3</th>\n",
              "      <th>4</th>\n",
              "      <th>5</th>\n",
              "      <th>6</th>\n",
              "      <th>7</th>\n",
              "    </tr>\n",
              "  </thead>\n",
              "  <tbody>\n",
              "    <tr>\n",
              "      <th>mean</th>\n",
              "      <td>0.004470</td>\n",
              "      <td>0.005329</td>\n",
              "      <td>0.004524</td>\n",
              "      <td>0.004372</td>\n",
              "      <td>0.054258</td>\n",
              "      <td>0.004438</td>\n",
              "      <td>0.005575</td>\n",
              "      <td>0.000168</td>\n",
              "    </tr>\n",
              "    <tr>\n",
              "      <th>sd</th>\n",
              "      <td>0.000068</td>\n",
              "      <td>0.000440</td>\n",
              "      <td>0.000084</td>\n",
              "      <td>0.000016</td>\n",
              "      <td>0.040427</td>\n",
              "      <td>0.000047</td>\n",
              "      <td>0.000073</td>\n",
              "      <td>0.000069</td>\n",
              "    </tr>\n",
              "    <tr>\n",
              "      <th>max_num</th>\n",
              "      <td>0.004857</td>\n",
              "      <td>0.006147</td>\n",
              "      <td>0.006510</td>\n",
              "      <td>0.004868</td>\n",
              "      <td>1.248028</td>\n",
              "      <td>0.007233</td>\n",
              "      <td>0.005795</td>\n",
              "      <td>0.000344</td>\n",
              "    </tr>\n",
              "    <tr>\n",
              "      <th>min_num</th>\n",
              "      <td>0.004352</td>\n",
              "      <td>0.004369</td>\n",
              "      <td>0.004365</td>\n",
              "      <td>0.004346</td>\n",
              "      <td>0.004543</td>\n",
              "      <td>0.004368</td>\n",
              "      <td>0.005469</td>\n",
              "      <td>0.000003</td>\n",
              "    </tr>\n",
              "  </tbody>\n",
              "</table>\n",
              "</div>\n",
              "      <button class=\"colab-df-convert\" onclick=\"convertToInteractive('df-7099519c-7c66-4b73-b4f7-df7a74b8b982')\"\n",
              "              title=\"Convert this dataframe to an interactive table.\"\n",
              "              style=\"display:none;\">\n",
              "        \n",
              "  <svg xmlns=\"http://www.w3.org/2000/svg\" height=\"24px\"viewBox=\"0 0 24 24\"\n",
              "       width=\"24px\">\n",
              "    <path d=\"M0 0h24v24H0V0z\" fill=\"none\"/>\n",
              "    <path d=\"M18.56 5.44l.94 2.06.94-2.06 2.06-.94-2.06-.94-.94-2.06-.94 2.06-2.06.94zm-11 1L8.5 8.5l.94-2.06 2.06-.94-2.06-.94L8.5 2.5l-.94 2.06-2.06.94zm10 10l.94 2.06.94-2.06 2.06-.94-2.06-.94-.94-2.06-.94 2.06-2.06.94z\"/><path d=\"M17.41 7.96l-1.37-1.37c-.4-.4-.92-.59-1.43-.59-.52 0-1.04.2-1.43.59L10.3 9.45l-7.72 7.72c-.78.78-.78 2.05 0 2.83L4 21.41c.39.39.9.59 1.41.59.51 0 1.02-.2 1.41-.59l7.78-7.78 2.81-2.81c.8-.78.8-2.07 0-2.86zM5.41 20L4 18.59l7.72-7.72 1.47 1.35L5.41 20z\"/>\n",
              "  </svg>\n",
              "      </button>\n",
              "      \n",
              "  <style>\n",
              "    .colab-df-container {\n",
              "      display:flex;\n",
              "      flex-wrap:wrap;\n",
              "      gap: 12px;\n",
              "    }\n",
              "\n",
              "    .colab-df-convert {\n",
              "      background-color: #E8F0FE;\n",
              "      border: none;\n",
              "      border-radius: 50%;\n",
              "      cursor: pointer;\n",
              "      display: none;\n",
              "      fill: #1967D2;\n",
              "      height: 32px;\n",
              "      padding: 0 0 0 0;\n",
              "      width: 32px;\n",
              "    }\n",
              "\n",
              "    .colab-df-convert:hover {\n",
              "      background-color: #E2EBFA;\n",
              "      box-shadow: 0px 1px 2px rgba(60, 64, 67, 0.3), 0px 1px 3px 1px rgba(60, 64, 67, 0.15);\n",
              "      fill: #174EA6;\n",
              "    }\n",
              "\n",
              "    [theme=dark] .colab-df-convert {\n",
              "      background-color: #3B4455;\n",
              "      fill: #D2E3FC;\n",
              "    }\n",
              "\n",
              "    [theme=dark] .colab-df-convert:hover {\n",
              "      background-color: #434B5C;\n",
              "      box-shadow: 0px 1px 3px 1px rgba(0, 0, 0, 0.15);\n",
              "      filter: drop-shadow(0px 1px 2px rgba(0, 0, 0, 0.3));\n",
              "      fill: #FFFFFF;\n",
              "    }\n",
              "  </style>\n",
              "\n",
              "      <script>\n",
              "        const buttonEl =\n",
              "          document.querySelector('#df-7099519c-7c66-4b73-b4f7-df7a74b8b982 button.colab-df-convert');\n",
              "        buttonEl.style.display =\n",
              "          google.colab.kernel.accessAllowed ? 'block' : 'none';\n",
              "\n",
              "        async function convertToInteractive(key) {\n",
              "          const element = document.querySelector('#df-7099519c-7c66-4b73-b4f7-df7a74b8b982');\n",
              "          const dataTable =\n",
              "            await google.colab.kernel.invokeFunction('convertToInteractive',\n",
              "                                                     [key], {});\n",
              "          if (!dataTable) return;\n",
              "\n",
              "          const docLinkHtml = 'Like what you see? Visit the ' +\n",
              "            '<a target=\"_blank\" href=https://colab.research.google.com/notebooks/data_table.ipynb>data table notebook</a>'\n",
              "            + ' to learn more about interactive tables.';\n",
              "          element.innerHTML = '';\n",
              "          dataTable['output_type'] = 'display_data';\n",
              "          await google.colab.output.renderOutput(dataTable, element);\n",
              "          const docLink = document.createElement('div');\n",
              "          docLink.innerHTML = docLinkHtml;\n",
              "          element.appendChild(docLink);\n",
              "        }\n",
              "      </script>\n",
              "    </div>\n",
              "  </div>\n",
              "  "
            ]
          },
          "metadata": {},
          "execution_count": 22
        }
      ]
    },
    {
      "cell_type": "markdown",
      "metadata": {
        "id": "EgG7BAsDOx8B"
      },
      "source": [
        "### 2. Linear regression"
      ]
    },
    {
      "cell_type": "markdown",
      "source": [
        "Now we are ready to train and test our model. We will continue to use the linear regression that we have made in the lab using the normal equation. \n",
        "\n",
        "- Create the **solver** function that creates a linear regression line and return the coefficents. You can re-use the function from the first lab.\n",
        "- Here you should you all available features of the dataset.\n",
        "- You should add one column representing a bias to your feature matrix.\n",
        "\n",
        "The normal equation can be represented as follows:\n",
        "\n",
        "$\\theta = (\\textbf{X}^T \\cdot \\textbf{X})^{-1} \\cdot \\textbf{X}^T \\cdot \\textbf{y}$"
      ],
      "metadata": {
        "id": "aDLWBj56D6P6"
      }
    },
    {
      "cell_type": "code",
      "execution_count": 23,
      "metadata": {
        "id": "6EkjV6APOx8C"
      },
      "outputs": [],
      "source": [
        "def solver(X, y):\n",
        "  \"\"\"\n",
        "  Get the weight and bias of the linear regression line on the dataset X, using the labels y.\n",
        "\n",
        "  Input: \n",
        "   - X: features\n",
        "   - y: labels\n",
        "  Output:\n",
        "   - theta: weight and bias of the linear regression\n",
        "  \"\"\"\n",
        "  X_b = np.array(X)\n",
        "  theta_best = np.linalg.inv(X_b.T.dot(X_b)).dot(X_b.T).dot(y)\n",
        "\n",
        "  return theta_best"
      ]
    },
    {
      "cell_type": "markdown",
      "source": [
        "We will only run this solver function on the training set (**X_train**, **y_train**) to create the model and evalute it by using the test set.\n",
        "\n",
        "- Run the **solve** function on **X_train** and **y_train** and save the result to **theta**."
      ],
      "metadata": {
        "id": "xWZhZW4rExeQ"
      }
    },
    {
      "cell_type": "code",
      "source": [
        "theta = solver(X_train_standardized, y_train)\n",
        "print(theta)"
      ],
      "metadata": {
        "colab": {
          "base_uri": "https://localhost:8080/"
        },
        "id": "4_8ETLDgE_5p",
        "outputId": "10c7ff71-9c56-4c1c-938d-60237eee62d0"
      },
      "execution_count": 24,
      "outputs": [
        {
          "output_type": "stream",
          "name": "stdout",
          "text": [
            "[ 2.73793774e+02  6.04595233e+00 -7.07204934e+01  4.25586982e+02\n",
            " -4.20745872e-03 -2.02730636e+00 -2.48912544e+02 -2.56979259e+02]\n"
          ]
        }
      ]
    },
    {
      "cell_type": "markdown",
      "source": [
        "We now have a complete model trained on the training set. Then the next interesting thing is to evaluate if the model is good enough by using the test set. To do this, we need to create a predict function that can return the expected value. \n",
        "\n",
        "- Create the **predict** function which put each instance into the regression equation to predict the value. DO NOT USE ANY LOOP."
      ],
      "metadata": {
        "id": "dQDfYDDxF9o5"
      }
    },
    {
      "cell_type": "code",
      "source": [
        "def predict(X, theta):\n",
        "  \"\"\"\n",
        "  Input: \n",
        "   - X: data instances to predict\n",
        "   - theta: trained regression coefficients\n",
        "\n",
        "  Output:\n",
        "   - y_hat: predicted values (X @ weight) + bias\n",
        "  \"\"\"\n",
        "  X_new = np.array(X)\n",
        "  \n",
        "  predictions = X_new.dot(theta)\n",
        "\n",
        "  #X_new = np.c_[np.ones(len(X)), X]\n",
        "  #predictions =X_new.dot(theta)\n",
        "\n",
        "  return predictions"
      ],
      "metadata": {
        "id": "p-JxOI09ledN"
      },
      "execution_count": 25,
      "outputs": []
    },
    {
      "cell_type": "markdown",
      "source": [
        "This predict function should be able to return the predicted value of the housing price. Then now we might want to return the mean squared error of the whole model. There can be many different metrics but here we would like to measure rooted mean squared error. RMSE can be calculated as follows: "
      ],
      "metadata": {
        "id": "psp-L1wGRslu"
      }
    },
    {
      "cell_type": "markdown",
      "source": [
        "$RMSE = \\sqrt{\\frac{1}{n}\\sum_{t=1}^{n}(\\bar{y}_t - y_t)^2} $"
      ],
      "metadata": {
        "id": "ljB3uUqjWPbw"
      }
    },
    {
      "cell_type": "markdown",
      "source": [
        "- Create a function **rooted_mean_squared_error** that calculates the RMSE value."
      ],
      "metadata": {
        "id": "aMTnVQGPWfBv"
      }
    },
    {
      "cell_type": "code",
      "execution_count": 26,
      "metadata": {
        "id": "laAN9bTMOx8C"
      },
      "outputs": [],
      "source": [
        "import math\n",
        "import random\n",
        "import numpy \n",
        "def rooted_mean_squared_error(X, y, theta):\n",
        "  \"\"\"\n",
        "  Input:\n",
        "    - X_test: data instances to test\n",
        "    - y_test: true values of the corresponding data instances (X_test)\n",
        "    - theta: trained regression coefficients\n",
        "\n",
        "  Output:\n",
        "    - RMSE: RMSE score\n",
        "\n",
        "  Use predict function to calculate our predicted values.\n",
        "  \"\"\"\n",
        "\n",
        "  # sum_error = 0.0\n",
        "\t# for i in range(len(actual)):\n",
        "\t# \tprediction_error = predicted[i] - actual[i]\n",
        "\t# \tsum_error += (prediction_error ** 2)\n",
        "\t# mean_error = sum_error / float(len(actual))\n",
        "\t# return sqrt(mean_error)\n",
        "  #theta=np.random.randn()\n",
        "  #MSE = np.square(np.subtract(X, predict(X,theta).mean)\n",
        "  #RMSE = math.sqrt(MSE)\n",
        "  #predictions = predict(X,theta=[random.uniform(-1, 1), random.uniform(-1, 1)])\n",
        "  #theta = np.linalg.inv(X.T.dot(X)).dot(X.T).dot(y)\n",
        "\n",
        "\n",
        "  # predictions = predict(X,theta)\n",
        "  # y_test = np.array(y)\n",
        "  # y_test, predictions = np.array(y_test), np.array(predictions)\n",
        "  # MSE = np.square(np.subtract(y_test,predictions)).mean() \n",
        "  \n",
        " \n",
        "  # RMSE = math.sqrt(MSE)\n",
        "  # return RMSE\n",
        "\n",
        "  predictions = predict(X,theta)\n",
        "  RMSE = np.sqrt(np.sum(np.square(np.subtract(predictions,y)))/len(X))\n",
        "  return RMSE\n",
        "  #return np.sqrt(((X - y) ** 2).mean())"
      ]
    },
    {
      "cell_type": "markdown",
      "source": [
        "- Run RMSE function to test our model created by our solver function. Use predict function to calculate our predicted values. Report the RMSE value."
      ],
      "metadata": {
        "id": "TReu0cnIWiz2"
      }
    },
    {
      "cell_type": "markdown",
      "source": [
        "Even though the RMSE is generally the preferred performance measure for\n",
        "regression tasks, in some contexts you may prefer to use another function. For\n",
        "example, suppose that there are many outlier districts. In that case, you may\n",
        "consider using the mean absolute error (MAE). It's direct translation of l1 and l2 norm. The higher the norm index, the more it focuses on large values and\n",
        "neglects small ones. This is why the RMSE is more sensitive to\n",
        "outliers than the MAE. But when outliers are exponentially rare (like\n",
        "in a bell-shaped curve), the RMSE performs very well and is\n",
        "generally preferred.\n",
        "\n",
        "MAE can be calculated as follows:\n",
        "\n",
        "$MAE = \\frac{1}{n}\\sum_{t=1}^{n}|\\bar{y}_t - y_t|$\n",
        "\n",
        "- Implement a function for MAE **mean_absolute_error**, which receives the same parameters *X*, *y*, and *theta*."
      ],
      "metadata": {
        "id": "52aH-ML6Seu7"
      }
    },
    {
      "cell_type": "code",
      "source": [
        "def mean_absolute_error(X, y, theta):\n",
        "  \"\"\"\n",
        "  Input:\n",
        "    - X_test: data instances to test\n",
        "    - y_test: true values of the corresponding data instances (X_test)\n",
        "    - theta: trained regression coefficients\n",
        "\n",
        "  Output:\n",
        "    - MAE: MAE score\n",
        "\n",
        "  Use predict function to calculate our predicted values.\n",
        "  \"\"\"\n",
        "  # sum_error = 0.0\n",
        "\t# for i in range(len(X)):\n",
        "\t# \tsum_error += abs(predict(X)[i] - X[i])\n",
        "\t# return sum_error / float(len(X))\n",
        "  #predictions = predict(X, theta)\n",
        "  #theta = np.linalg.inv(X.T.dot(X)).dot(X.T).dot(y)\n",
        "  predictions = predict(X,theta)\n",
        "  #theta = np.linalg.inv(X.T.dot(X)).dot(X.T).dot(y)\n",
        "  y_test = np.array(y)\n",
        "  y_test, predictions = np.array(y_test), np.array(predictions)\n",
        "  return np.mean(np.abs(y_test - predictions))\n",
        "  \n",
        "  #return None"
      ],
      "metadata": {
        "id": "uFEGAF7fqqeg"
      },
      "execution_count": 27,
      "outputs": []
    },
    {
      "cell_type": "markdown",
      "source": [
        "Train your regression model on the training set and evaluate your method with two different scores: RMSE and MAE. Print two scores here."
      ],
      "metadata": {
        "id": "PNC0hszHqyIP"
      }
    },
    {
      "cell_type": "code",
      "source": [
        "rmse_score = rooted_mean_squared_error(X_test_standardized, y_test,theta) # CHANGE IT!\n",
        "mae_score = mean_absolute_error(X_test_standardized, y_test,theta) # CHANGE IT!\n",
        "#rmse_score = rooted_mean_squared_error(X_test_standardized, y_test) # CHANGE IT!\n",
        "#mae_score = mean_absolute_error(X_test_standardized, y_test) # CHANGE IT!\n",
        "#rmse_score = rooted_mean_squared_error(X_train_standardized, y_train,theta=np.random.randn())\n",
        "#mae_score = mean_absolute_error(X_train_standardized, y_train,theta=np.random.randn())"
      ],
      "metadata": {
        "id": "wm8gHjCSq64P"
      },
      "execution_count": 28,
      "outputs": []
    },
    {
      "cell_type": "code",
      "source": [
        "rmse_score, mae_score"
      ],
      "metadata": {
        "colab": {
          "base_uri": "https://localhost:8080/"
        },
        "id": "LWaJtiItrmDk",
        "outputId": "ed2d7349-b7db-4d07-99fe-064ca9f0a412"
      },
      "execution_count": 29,
      "outputs": [
        {
          "output_type": "execute_result",
          "data": {
            "text/plain": [
              "(0.7279779846196561, 0.5320768905504492)"
            ]
          },
          "metadata": {},
          "execution_count": 29
        }
      ]
    },
    {
      "cell_type": "markdown",
      "source": [
        "### 4. Linear regression with regularization"
      ],
      "metadata": {
        "id": "royxfFHjRjw2"
      }
    },
    {
      "cell_type": "markdown",
      "source": [
        "You have learned the Ridge regression in the lecture. Fortunately, the Ridge regression also can be represented as a closed form solution with the normal equation. \n",
        "\n",
        "Your task here is to create a variant of your previous solver function supporting the Ridge regression. \n",
        "\n",
        "A closed form solution to Ridge can be represented as follows:\n",
        "\n",
        "$\\theta = (\\textbf{X}^T \\cdot \\textbf{X} + \\alpha\\textbf{I})^{-1} \\cdot \\textbf{X}^T \\cdot \\textbf{y}$\n",
        "\n",
        "where $\\textbf{I}$ is an $(n+1) \\times (n+1) $ identity matrix, since the feature matrix also includes the bias column.\n"
      ],
      "metadata": {
        "id": "wphcDNvvkwL0"
      }
    },
    {
      "cell_type": "code",
      "source": [
        "def solver_with_ridge(X, y, alpha):\n",
        "  \"\"\"\n",
        "  Get the weight and bias of the linear regression line on the dataset X, using the labels y.\n",
        "\n",
        "  Input: \n",
        "   - X: features\n",
        "   - y: labels\n",
        "  Output:\n",
        "   - theta: weight and bias of the ridge regression\n",
        "  \"\"\"\n",
        "\n",
        "    \n",
        "  intercept_ones = np.ones((len(X),1))        # results in array( [ [1],..,[1] ] )\n",
        "  X_b = np.c_[intercept_ones,X]               # add the additional ones as a new column to our X\n",
        "  I = np.identity(X_b.shape[1])               # identity matrix with dimensions (n+1)\n",
        "  I[0][0] = 0                                 # adjusting the first value in I to be 0, to account for the intercept term\n",
        "  theta_optimal = np.linalg.inv(X_b.T.dot(X_b) + alpha * I).dot(X_b.T).dot(y) # the normal equation\n",
        "  #print(I.shape)\n",
        "  return theta_optimal"
      ],
      "metadata": {
        "id": "jvYlCgotRlcK"
      },
      "execution_count": 30,
      "outputs": []
    },
    {
      "cell_type": "code",
      "source": [
        "#solver_with_ridge()"
      ],
      "metadata": {
        "id": "x4C_NDUtkJ1r"
      },
      "execution_count": 31,
      "outputs": []
    },
    {
      "cell_type": "markdown",
      "source": [
        "Here, compare the performances changing the $\\alpha$ value. Use the $\\alpha$ value from 0 to 30 in increments of 0.1. Use RMSE as a score metric. Save those 300 scores into the list `scores`. \n",
        "\n",
        "- To iterate different $\\alpha$s, you can use a loop for your convenience."
      ],
      "metadata": {
        "id": "G-LrDqWSmaGW"
      }
    },
    {
      "cell_type": "code",
      "source": [
        "#scores = solver_with_ridge(X_train_standardized, y_train, 0.1)\n",
        "scores = []\n",
        "for alpha in range(0,300):\n",
        "  scores.append(solver_with_ridge(X_train_standardized, y_train, alpha *0.1)) \n",
        "\n",
        "\n",
        "#scores = solver_with_ridge(X_train_standardized, y_train, 0.1)\n"
      ],
      "metadata": {
        "id": "Vd9pJ8zUo_7u"
      },
      "execution_count": 32,
      "outputs": []
    },
    {
      "cell_type": "markdown",
      "source": [
        "Plot the graph of different scores here. If you saved all scores in the list `scores`, you can simply run the block below. The resulting plot behaves in a different way based on your split training and test sets. Sometimes, the error just decreases or increases, but you can also see that the error decreases first, but after some point, it starts to increase. If you are interested, repeat many times to check different plots and you can even change the range from [0, 30] to something else. Uncomment the block below!"
      ],
      "metadata": {
        "id": "ILjT1k5FpLVe"
      }
    },
    {
      "cell_type": "code",
      "source": [
        "plt.plot(np.arange(0, 30, 0.1), scores)\n",
        "plt.xlabel(\"alpha\")\n",
        "plt.ylabel(\"RMSE\")\n",
        "plt.show()"
      ],
      "metadata": {
        "id": "--Ky0LHO0wqM",
        "colab": {
          "base_uri": "https://localhost:8080/",
          "height": 281
        },
        "outputId": "5d44ee1a-f9a9-4100-84d8-24521e491d5a"
      },
      "execution_count": 33,
      "outputs": [
        {
          "output_type": "display_data",
          "data": {
            "text/plain": [
              "<Figure size 432x288 with 1 Axes>"
            ],
            "image/png": "[encoded data removed]"
          },
          "metadata": {
            "needs_background": "light"
          }
        }
      ]
    },
    {
      "cell_type": "markdown",
      "source": [
        "### 5. Model validation"
      ],
      "metadata": {
        "id": "S3nHFnagh0nC"
      }
    },
    {
      "cell_type": "markdown",
      "source": [
        "So far, you simply had one test set and one training set. Now the question is if those sets were enough to represent the dataset's distribution. To overcome this problem, various validation methods have been developed and used such as cross-validation or repeated holdout test. Here, you will develop one function that performs the repeated holdout test. The key strategy of it is to create a completely different training and test set pair for each iteration. You simply iterate holdout test that we performed many (k) times and return the average score.\n",
        "\n",
        "* You are allowed to use a for loop to iterate k different tests. However, you are not allowed to use the loop to create different indices to divide the dataset.\n",
        "* You can call the `train_test_split` function you have developed above if it helps your development process."
      ],
      "metadata": {
        "id": "p7MnVQ5Rryof"
      }
    },
    {
      "cell_type": "code",
      "source": [
        "def repeated_hold_out(X, y, k, test_ratio):\n",
        "  \"\"\"\n",
        "  Input:\n",
        "    - X: features\n",
        "    - y: labels\n",
        "    - test_ratio: ratio of the test set\n",
        "  Output:\n",
        "    - score: the average of k different test scores\n",
        "  \n",
        "  1. Iterate k times to perform k validation processes.\n",
        "  2. For each iteration, split the dataset into the training and test sets with *random* indices.\n",
        "   - Note that each iteration should create different training and test sets.\n",
        "  3. Use *standardization* to fix the scale of the dataset, you should only use the training set's properties.\n",
        "  4. Fit your model with *solver* (without ridge) on the training set.\n",
        "  5. Save your *RMSE* score into the list *scores*\n",
        "  6. After all the iterations, return the average of *scores*.\n",
        "\n",
        "  \"\"\"\n",
        "  scores = []\n",
        "  for i in range(k):\n",
        "    X_train, X_test, y_train, y_test = train_test_split(X,y, test_ratio)\n",
        "    X_train_standardized, X_test_standardized = apply_standardization(X_train, X_test)\n",
        "    theta = solver(X_train_standardized, y_train)\n",
        "    rmse_score = rooted_mean_squared_error(X_test_standardized, y_test, theta)\n",
        "    scores.append(rmse_score)\n",
        "\n",
        "\n",
        "\n",
        "\n",
        "\n",
        "  return np.mean(scores)"
      ],
      "metadata": {
        "id": "M7JEfZjGijfH"
      },
      "execution_count": 34,
      "outputs": []
    },
    {
      "cell_type": "markdown",
      "source": [
        "Run the line below to return your holdout score."
      ],
      "metadata": {
        "id": "Po5UX-gb2idF"
      }
    },
    {
      "cell_type": "code",
      "source": [
        "holdout_score = repeated_hold_out(X, y, k=5, test_ratio=0.2)\n",
        "holdout_score"
      ],
      "metadata": {
        "id": "QuMGeSGfLjAL",
        "colab": {
          "base_uri": "https://localhost:8080/"
        },
        "outputId": "69d80357-ed0e-4796-aa7d-02606d57bc19"
      },
      "execution_count": 35,
      "outputs": [
        {
          "output_type": "execute_result",
          "data": {
            "text/plain": [
              "0.7331173680728389"
            ]
          },
          "metadata": {},
          "execution_count": 35
        }
      ]
    },
    {
      "cell_type": "markdown",
      "source": [
        "### 6. Put things together"
      ],
      "metadata": {
        "id": "D7mSIvYbRoQq"
      }
    },
    {
      "cell_type": "markdown",
      "source": [
        "It's time to put everything you have done together here. We will create a function that manages whole process from receiving raw datasets to returning performance metrics, by modifying the repeated holdout function. This will help you manage your process clearly since it must contain all the functions you use for your dataset (Later we will replace it with scikit-learn's pipeline technique for the same purpose) - By having these management functions, you can switch off some of the techniques or add more techniques in the middle without any problem.\n",
        "\n",
        "* Complete three functions (preprocess, fit, run) following the instruction."
      ],
      "metadata": {
        "id": "DWjft22LHEJm"
      }
    },
    {
      "cell_type": "code",
      "source": [
        "def repeated_hold_out_2(X, y, k = 5, test_ratio = 0.2, norm_method = \"standardization\", eval_method = \"RMSE\", alpha = 0):\n",
        "  \"\"\"\n",
        "  Input:\n",
        "    - X: features\n",
        "    - y: labels\n",
        "    - test_ratio: ratio of the test set\n",
        "  Output:\n",
        "    - score: the average of k different test scores\n",
        "  \n",
        "  1. Iterate k times to perform k validation processes.\n",
        "  2. For each iteration, split the dataset into the training and test sets with *random* indices.\n",
        "   - Note that each iteration should create different training and test sets.\n",
        "  3. Check the parameter *norm_method*\n",
        "    - if norm_method == standardization:\n",
        "      - Use *standardization* to fix the scale of the dataset, you should only use the training set's properties.\n",
        "    - if norm_method == normalization:\n",
        "      - Use *normalization* to fix the scale of the dataset, you should only use the training set's properties.\n",
        "  4. Fit your model with *solver_with_ridge\" on the training set. Use alpha from the parameter.\n",
        "  5. Check the parameter \"eval_method\"\n",
        "    - if eval_method == \"RMSE\"\n",
        "      - Save your *RMSE* score into the list *scores*\n",
        "    - if eval_method == \"MAE\"\n",
        "      - Save your *MAE* score into the list *scores*\n",
        "\n",
        "  6. After all the iterations, return the average of *scores*.\n",
        "\n",
        "  \"\"\"\n",
        "  scores = []\n",
        "  for i in range(k):\n",
        "    X_train, X_test, y_train, y_test = train_test_split(X,y, test_ratio)\n",
        "    if norm_method == \"standardization\":\n",
        "      X_train_st, X_test_st = apply_standardization(X_train, X_test)\n",
        "      if norm_method == \"normalization\":\n",
        "        X_train_st, X_test_st = apply_normalization(X_train, X_test)\n",
        "    theta = solver_with_ridge(X_train_st, y_train,alpha)\n",
        "    if eval_method == \"RMSE\":\n",
        "      rmse_score = rooted_mean_squared_error(X_test_st, y_test, theta)\n",
        "      scores.append(rmse_score)\n",
        "    if eval_method == \"MAE\":\n",
        "      mae_score = mean_absolute_error(X_test_standardized, y_test, theta)\n",
        "      scores.append(mae_score)\n",
        "\n",
        "\n",
        "  return np.mean(scores)"
      ],
      "metadata": {
        "id": "6CU_kV0DRpYg"
      },
      "execution_count": 36,
      "outputs": []
    },
    {
      "cell_type": "markdown",
      "source": [
        "Now you are ready to run various tasks by using this single function. Will the best model the same under RMSE or MAE? Will different k or test ratio result in different best model? You can do many different trials to find a good model.\n",
        "\n",
        "- (Optional) Change a normalization method, an alpha value to find out the best classifier under either RMSE or MAE score. This task is completely optional and will not affect your homework grade."
      ],
      "metadata": {
        "id": "P7GKrthoLOlD"
      }
    },
    {
      "cell_type": "code",
      "source": [
        "best_model = None"
      ],
      "metadata": {
        "id": "bkCeCDoPLNGp"
      },
      "execution_count": 37,
      "outputs": []
    },
    {
      "cell_type": "markdown",
      "source": [
        "# END"
      ],
      "metadata": {
        "id": "cWugHCgB2Cpq"
      }
    }
  ],
  "metadata": {
    "interpreter": {
      "hash": "b3ba2566441a7c06988d0923437866b63cedc61552a5af99d1f4fb67d367b25f"
    },
    "kernelspec": {
      "display_name": "Python 3.8.8 64-bit ('base': conda)",
      "language": "python",
      "name": "python3"
    },
    "language_info": {
      "codemirror_mode": {
        "name": "ipython",
        "version": 3
      },
      "file_extension": ".py",
      "mimetype": "text/x-python",
      "name": "python",
      "nbconvert_exporter": "python",
      "pygments_lexer": "ipython3",
      "version": "3.8.5"
    },
    "orig_nbformat": 4,
    "colab": {
      "name": "HW1.ipynb",
      "provenance": [],
      "collapsed_sections": []
    }
  },
  "nbformat": 4,
  "nbformat_minor": 0
}