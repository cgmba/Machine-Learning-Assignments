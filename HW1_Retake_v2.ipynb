{
  "cells": [
    {
      "cell_type": "markdown",
      "metadata": {
        "id": "7vNf-yPJOx75"
      },
      "source": [
        "# Homework 1 - Retake"
      ]
    },
    {
      "cell_type": "markdown",
      "metadata": {
        "id": "JKdfRsPZOx7-"
      },
      "source": [
        "This homework evaluates if you are familar with NumPy to create machine learning related functions. Thus, all your functions here should be only made using NumPy, without using any other libraries like pandas, scikit-learn, or scipy. You will run a complete machine learning process from preprocessing to model performance testing by using the functions you will develop.\n",
        "\n",
        "### This assignment is made to practice the features of NumPy. Therefore, the use of for loops is strictly prohibited. All problems can be solved without explicit loops. "
      ]
    },
    {
      "cell_type": "code",
      "execution_count": 137,
      "metadata": {
        "id": "9BPzS0g9Ox7-"
      },
      "outputs": [],
      "source": [
        "import numpy as np\n",
        "import matplotlib.pyplot as plt"
      ]
    },
    {
      "cell_type": "markdown",
      "source": [
        "In this homework, you will continue to use the same dataset you have used in the first lab, as well as the code you have made. However, this time, you will create a model and even test it - by dividing the dataset into training and test sets. You will practice applying each function one after the other in a correct order. \n",
        "\n",
        "To practice NumPy efficiently, unlike the lab, you will only use the values of the dataset, ignoring Pandas properties such as column names.\n",
        "\n",
        "- Run the block below to load the dataset (**X** and **y**)."
      ],
      "metadata": {
        "id": "svj3G7hj4ZxY"
      }
    },
    {
      "cell_type": "code",
      "source": [
        "from sklearn.datasets import fetch_california_housing\n",
        "\n",
        "california_housing = fetch_california_housing(as_frame=False)\n",
        "\n",
        "X = california_housing.data\n",
        "y = california_housing.target"
      ],
      "metadata": {
        "id": "2HAUc00Wmu0E"
      },
      "execution_count": 138,
      "outputs": []
    },
    {
      "cell_type": "markdown",
      "source": [
        "Now, you are ready to use both features and labels. To handle it correctly, you need to be familiar with its axis concept as it no longer has indices and columns that you can check by printing the variable."
      ],
      "metadata": {
        "id": "-txQY1eUoWeg"
      }
    },
    {
      "cell_type": "code",
      "source": [
        "X"
      ],
      "metadata": {
        "id": "u4KbMNxMm9Oi",
        "colab": {
          "base_uri": "https://localhost:8080/"
        },
        "outputId": "2db7dda7-f67c-46a4-9539-e211e7b8bdfd"
      },
      "execution_count": 139,
      "outputs": [
        {
          "output_type": "execute_result",
          "data": {
            "text/plain": [
              "array([[   8.3252    ,   41.        ,    6.98412698, ...,    2.55555556,\n",
              "          37.88      , -122.23      ],\n",
              "       [   8.3014    ,   21.        ,    6.23813708, ...,    2.10984183,\n",
              "          37.86      , -122.22      ],\n",
              "       [   7.2574    ,   52.        ,    8.28813559, ...,    2.80225989,\n",
              "          37.85      , -122.24      ],\n",
              "       ...,\n",
              "       [   1.7       ,   17.        ,    5.20554273, ...,    2.3256351 ,\n",
              "          39.43      , -121.22      ],\n",
              "       [   1.8672    ,   18.        ,    5.32951289, ...,    2.12320917,\n",
              "          39.43      , -121.32      ],\n",
              "       [   2.3886    ,   16.        ,    5.25471698, ...,    2.61698113,\n",
              "          39.37      , -121.24      ]])"
            ]
          },
          "metadata": {},
          "execution_count": 139
        }
      ]
    },
    {
      "cell_type": "code",
      "source": [
        "y"
      ],
      "metadata": {
        "id": "9rTO_NYMNHlg",
        "colab": {
          "base_uri": "https://localhost:8080/"
        },
        "outputId": "f345da6a-d221-4f6d-815f-aa9de384a499"
      },
      "execution_count": 140,
      "outputs": [
        {
          "output_type": "execute_result",
          "data": {
            "text/plain": [
              "array([4.526, 3.585, 3.521, ..., 0.923, 0.847, 0.894])"
            ]
          },
          "metadata": {},
          "execution_count": 140
        }
      ]
    },
    {
      "cell_type": "markdown",
      "metadata": {
        "id": "Fbj_IpkHOx8A"
      },
      "source": [
        "### 1. Preprocessing"
      ]
    },
    {
      "cell_type": "markdown",
      "metadata": {
        "id": "EE0ALwTyOx8A"
      },
      "source": [
        "The first task is to open the dataset and preprocess it into the form that the model can understand. It involves imputation, train_test_split, standardization, and normalization. Some functions are already covered by the first lab, so if you finished the lab before, you can freely bring your code here to finish your homework.\n",
        "\n"
      ]
    },
    {
      "cell_type": "markdown",
      "source": [
        "First, you need to develop both standardization and normalization functions. You can re-use your lab functions here if you have finished your lab tasks. Please carefully refer to the definitions of those two functions as follows:\n",
        "\n",
        "\n",
        "- Standardization: Make features have the same standard deviaton and mean.\n",
        "\n",
        "- Normalization: Make the range of value normalized into [0, 1]. This means that each column's minimum value should be zero and maximum value should be one."
      ],
      "metadata": {
        "id": "t2uFZSUuoh9t"
      }
    },
    {
      "cell_type": "code",
      "execution_count": 141,
      "metadata": {
        "id": "bQRVVievOx8A"
      },
      "outputs": [],
      "source": [
        "def standardize(data):\n",
        "  \"\"\"\n",
        "  Input: NumPy ndarray\n",
        "  Output: NumPy ndarray with column mean == 0 and std == 1\n",
        "  \"\"\"\n",
        "  mean = np.mean(data, axis=0)\n",
        "  std = np.std(data, axis=0)\n",
        "  data_new = (data - mean) / std\n",
        "  return data_new\n",
        "\n",
        "def normalize(data):\n",
        "  \"\"\"\"\n",
        "  Input: NumPy ndarray\n",
        "  Output: NumPy ndarray with column min == 0 and max == 1\n",
        "  \"\"\"\n",
        "  return (data - np.min(data, axis=0))/(np.max(data, axis=0) - np.min(data, axis=0))\n",
        "\n",
        "def standardize(data):\n",
        "  \"\"\"\n",
        "  Input: Pandas DataFrame\n",
        "  Output: Pandas DataFrame with mean == 0 and std == 1\n",
        "  \"\"\"\n",
        "  mean = np.mean(data, axis=0)\n",
        "  std = np.std(data, axis=0)\n",
        "  data_new = (data - mean) / std\n",
        "  return data_new\n",
        "\n",
        "def normalize(data):\n",
        "  \"\"\"\"\n",
        "  Input: Pandas DataFrame\n",
        "  Output: Pandas DataFrame with min == 0 and max == 1\n",
        "  \"\"\"\n",
        "\n",
        "  return (data - np.min(data, axis=0))/(np.max(data, axis=0) - np.min(data, axis=0))\n"
      ]
    },
    {
      "cell_type": "markdown",
      "source": [
        "Let's apply both functions separately and create X_standardized and X_normalized."
      ],
      "metadata": {
        "id": "Cb4WgGQ0o_9G"
      }
    },
    {
      "cell_type": "code",
      "source": [
        "X_standardized = standardize(X)\n",
        "X_normalized = normalize(X)"
      ],
      "metadata": {
        "id": "2qf7fOZG54MA"
      },
      "execution_count": 142,
      "outputs": []
    },
    {
      "cell_type": "markdown",
      "source": [
        "You may also need to check if those functions are correctly made. Create a function to check the dataset's min, max, mean, std of each feature. You can re-use your lab function (**describe**) but this time you are not allowed to use Pandas DataFrame. There is no expected format for this function if you are successfully able to plot four statistics (min, max, mean, std). "
      ],
      "metadata": {
        "id": "So46vKNl53KL"
      }
    },
    {
      "cell_type": "code",
      "source": [
        "def describe(data):\n",
        "  \"\"\"\n",
        "  Describe four statistics of the dataset.\n",
        "  \n",
        "  Input: NumPy ndarray\n",
        "  Output: vertical min, max, mean, standard deviation\n",
        "  \"\"\"\n",
        "  \n",
        "  print(\"Min: \", np.min(data, axis=0))\n",
        "  print(\"Max: \", np.max(data, axis=0))\n",
        "  print(\"Mean: \", np.mean(data, axis=0))\n",
        "  print(\"Std: \", np.std(data, axis=0))"
      ],
      "metadata": {
        "id": "l9BqVsG36Tsl"
      },
      "execution_count": 143,
      "outputs": []
    },
    {
      "cell_type": "markdown",
      "source": [
        "Using this function, let's check if your **standardize** and **normalize** functions are correctly working. \n",
        "- **Your output should be the same as the one below.**"
      ],
      "metadata": {
        "id": "FZEPPjpJ6W3B"
      }
    },
    {
      "cell_type": "code",
      "source": [
        "describe(X_standardized)"
      ],
      "metadata": {
        "id": "1NY6wtki6c84",
        "colab": {
          "base_uri": "https://localhost:8080/"
        },
        "outputId": "a7309879-f8b9-4273-a268-46a6bba3407c"
      },
      "execution_count": 144,
      "outputs": [
        {
          "output_type": "stream",
          "name": "stdout",
          "text": [
            "Min:  [-1.77429947 -2.19618048 -1.8523186  -1.61076772 -1.25612255 -0.22899997\n",
            " -1.447568   -2.38599234]\n",
            "Max:  [  5.85828581   1.85618152  55.16323628  69.57171326  30.25033022\n",
            " 119.41910319   2.95806762   2.62528006]\n",
            "Mean:  [ 6.60969987e-17  5.50808322e-18  6.60969987e-17 -1.06030602e-16\n",
            " -1.10161664e-17  3.44255201e-18 -1.07958431e-15 -8.52651283e-15]\n",
            "Std:  [1. 1. 1. 1. 1. 1. 1. 1.]\n"
          ]
        }
      ]
    },
    {
      "cell_type": "code",
      "source": [
        "describe(X_normalized)"
      ],
      "metadata": {
        "id": "G7-p5vdl3H4F",
        "colab": {
          "base_uri": "https://localhost:8080/"
        },
        "outputId": "1956c76d-2c9d-406c-add0-c45ed3b5ff5b"
      },
      "execution_count": 145,
      "outputs": [
        {
          "output_type": "stream",
          "name": "stdout",
          "text": [
            "Min:  [0. 0. 0. 0. 0. 0. 0. 0.]\n",
            "Max:  [1. 1. 1. 1. 1. 1. 1. 1.]\n",
            "Mean:  [0.23246376 0.54195071 0.03248795 0.02262871 0.03986874 0.00191395\n",
            " 0.32857188 0.47612505]\n",
            "Std:  [0.13101721 0.24676966 0.01753907 0.0140484  0.03173953 0.00835784\n",
            " 0.226982   0.19955012]\n"
          ]
        }
      ]
    },
    {
      "cell_type": "markdown",
      "source": [
        "However, this is not a complete setting, as you need to both train the model and test it. That means you need to divide the dataset into two parts: {a training set, a test set} and only use the training set to train the model. This means that you also need to create the function for it."
      ],
      "metadata": {
        "id": "mj47zZ264Az0"
      }
    },
    {
      "cell_type": "code",
      "source": [
        "def train_test_split(X, y, test_ratio = 0.3, shuffle=True):\n",
        "  # simulation\n",
        "  # cross-val\n",
        "  \n",
        "  \"\"\"\n",
        "  Input:\n",
        "    - X: a set of features\n",
        "    - y: corresponding labels\n",
        "    - test_ratio: ratio of the test set\n",
        "    \n",
        "  Output:\n",
        "    - X_train: separated training instances\n",
        "    - X_test: separated test instances\n",
        "    - y_train: separated training labels\n",
        "    - y_test: separated test labels\n",
        "  \n",
        "  1. Randomly shuffle the indices of the data instances if the shuffle option is True.\n",
        "  2. Divide the indices into two parts with the ratio of [1-test ratio:test ratio]\n",
        "  3. Select training instances and labels with the first set of indices and test instances and labels with the second set of indices\n",
        "  4. Return the training set and the test set\n",
        "  \"\"\"\n",
        "  indices = np.random.permutation(len(X))\n",
        "  test_size = int(len(X) * test_ratio)\n",
        "  test_indices, train_indices = indices[:test_size], indices[test_size:]\n",
        "\n",
        "  X_train, X_test = X[train_indices], X[test_indices]\n",
        "  y_train, y_test = y[train_indices], y[test_indices]\n",
        "  return X_train, X_test, y_train, y_test"
      ],
      "metadata": {
        "id": "ORFET61FbZVy"
      },
      "execution_count": 146,
      "outputs": []
    },
    {
      "cell_type": "markdown",
      "source": [
        "Split your dataset into training and test sets with `test ratio = 0.2`."
      ],
      "metadata": {
        "id": "twOo6_yniUGO"
      }
    },
    {
      "cell_type": "code",
      "source": [
        "X_train, X_test, y_train, y_test = train_test_split(X, y, 0.2) # CHANGE IT"
      ],
      "metadata": {
        "id": "f-iSb7IoijO1"
      },
      "execution_count": 147,
      "outputs": []
    },
    {
      "cell_type": "markdown",
      "source": [
        "After applying your train_test_split function, you can check the shape of each subset. The test set might have 4,128 records. Uncommend the below line and check the shapes."
      ],
      "metadata": {
        "id": "d9PK6RGbkK7O"
      }
    },
    {
      "cell_type": "code",
      "source": [
        "X_train.shape, X_test.shape, y_train.shape, y_test.shape"
      ],
      "metadata": {
        "id": "bk_pMMo-iquK",
        "colab": {
          "base_uri": "https://localhost:8080/"
        },
        "outputId": "be21426e-f60e-4e6a-bd69-c0272c75fc58"
      },
      "execution_count": 148,
      "outputs": [
        {
          "output_type": "execute_result",
          "data": {
            "text/plain": [
              "((16512, 8), (4128, 8), (16512,), (4128,))"
            ]
          },
          "metadata": {},
          "execution_count": 148
        }
      ]
    },
    {
      "cell_type": "markdown",
      "source": [
        "You may remember, when you apply standardization or normalization on both training and test sets, you should not use any statistics from the test set. This means that you should use mean and standard deviation (or max and min values) of the training set and use those statistics to avoid cheating and make a valid model. \n",
        "\n",
        "- Create two functions (**apply_standardization**, **apply_normalization**) that uses training set's statistics and apply standardization or normalization to both sets."
      ],
      "metadata": {
        "id": "7T8JBhsTj00O"
      }
    },
    {
      "cell_type": "code",
      "source": [
        "def apply_standardization(X_train, X_test):\n",
        "  \"\"\"\n",
        "  Input:\n",
        "    - X_train: training instances\n",
        "    - X_test: test instances\n",
        "\n",
        "  Output:\n",
        "    - X_train_standardized\n",
        "    - X_test_standardized\n",
        "\n",
        "  Use training set's mean and standard deviation to standardize both training and test sets\n",
        "  \"\"\"\n",
        "\n",
        "  mean = np.mean(X_train, axis=0)\n",
        "  std = np.std(X_train, axis=0)\n",
        "  X_test_new = (X_test - mean) / std\n",
        "  X_train_new = standardize(X_train)\n",
        "\n",
        "  return X_train_new, X_test_new"
      ],
      "metadata": {
        "id": "XLs3P181kYHA"
      },
      "execution_count": 149,
      "outputs": []
    },
    {
      "cell_type": "code",
      "source": [
        "def apply_normalization(X_train, X_test):\n",
        "  \"\"\"\n",
        "  Input:\n",
        "    - X_train\n",
        "    - X_test\n",
        "\n",
        "  Output:\n",
        "    - X_train_standardized\n",
        "    - X_test_standardized\n",
        "  \"\"\"\n",
        "\n",
        "  X_test_new = (X_test - np.min(X_train, axis=0))/(np.max(X_train, axis=0) - np.min(X_train, axis=0))\n",
        "  X_train_new = normalize(X_train)\n",
        "  \n",
        "\n",
        "  return X_train_new, X_test_new "
      ],
      "metadata": {
        "id": "sOx7Kd221jRq"
      },
      "execution_count": 150,
      "outputs": []
    },
    {
      "cell_type": "markdown",
      "source": [
        "- Apply two functions (**apply_standardization**, **apply_normalization**) to created standardized and normalized datasets."
      ],
      "metadata": {
        "id": "ujWQ84ZFCa10"
      }
    },
    {
      "cell_type": "code",
      "source": [
        "X_train_standardized, X_test_standardized = apply_standardization(X_train, X_test)\n",
        "X_train_normalized, X_test_normalized = apply_normalization(X_train, X_test)"
      ],
      "metadata": {
        "id": "Cw8tjyoCtnqI"
      },
      "execution_count": 151,
      "outputs": []
    },
    {
      "cell_type": "markdown",
      "source": [
        "Check the statistics using describe method. Test set should **NOT** have zero mean and standard deviation 1 or zero min and one max. Good test set however might show close value to zero or one."
      ],
      "metadata": {
        "id": "efxhH-DvCxBx"
      }
    },
    {
      "cell_type": "code",
      "source": [
        "describe(X_train_standardized)"
      ],
      "metadata": {
        "id": "ch5zQTDDDugQ",
        "colab": {
          "base_uri": "https://localhost:8080/"
        },
        "outputId": "7f1a7116-f890-4ddc-927e-272418aa8b51"
      },
      "execution_count": 152,
      "outputs": [
        {
          "output_type": "stream",
          "name": "stdout",
          "text": [
            "Min:  [-1.76899983 -2.1958624  -1.79015891 -1.45343819 -1.26952881 -0.2072649\n",
            " -1.44757438 -2.39088841]\n",
            "Max:  [  5.82844129   1.85245499  53.20859203  66.26205434  30.69582385\n",
            " 107.22180001   2.95641198   2.6293792 ]\n",
            "Mean:  [-8.48989134e-15  5.05355878e-17  3.57269662e-15  2.81627818e-15\n",
            " -8.44501041e-17  1.68919959e-16 -1.53828016e-14 -4.77213418e-14]\n",
            "Std:  [1. 1. 1. 1. 1. 1. 1. 1.]\n"
          ]
        }
      ]
    },
    {
      "cell_type": "code",
      "source": [
        "describe(X_test_standardized)"
      ],
      "metadata": {
        "id": "8qyxhAClDx7e",
        "colab": {
          "base_uri": "https://localhost:8080/"
        },
        "outputId": "fa3f39a6-c880-4ceb-c8fa-f33c9f5ab2e8"
      },
      "execution_count": 153,
      "outputs": [
        {
          "output_type": "stream",
          "name": "stdout",
          "text": [
            "Min:  [-1.76899983 -2.1958624  -1.77349703 -1.53718231 -1.26684106 -0.17294682\n",
            " -1.44289426 -2.36588708]\n",
            "Max:  [ 5.82844129  1.85245499 21.97988982 20.72678921 24.32049244  6.92323751\n",
            "  2.91429096  2.50937281]\n",
            "Mean:  [-0.01435055 -0.0093695  -0.0168107  -0.01486524  0.02444749 -0.00825751\n",
            " -0.0027414  -0.00306612]\n",
            "Std:  [0.97667618 0.99496425 0.80765178 0.73200179 1.07062377 0.17562702\n",
            " 0.99812382 1.00893933]\n"
          ]
        }
      ]
    },
    {
      "cell_type": "code",
      "source": [
        "describe(X_train_normalized)"
      ],
      "metadata": {
        "id": "_tTsEozJ2_3a",
        "colab": {
          "base_uri": "https://localhost:8080/"
        },
        "outputId": "fa7fa3a4-3d53-479c-f46f-b84815113a41"
      },
      "execution_count": 154,
      "outputs": [
        {
          "output_type": "stream",
          "name": "stdout",
          "text": [
            "Min:  [0. 0. 0. 0. 0. 0. 0. 0.]\n",
            "Max:  [1. 1. 1. 1. 1. 1. 1. 1.]\n",
            "Mean:  [0.23284153 0.5424136  0.03254908 0.02146389 0.03971578 0.00192932\n",
            " 0.32869638 0.4762472 ]\n",
            "Std:  [0.13162326 0.24701621 0.01818223 0.01476767 0.03128387 0.00930847\n",
            " 0.22706701 0.19919257]\n"
          ]
        }
      ]
    },
    {
      "cell_type": "code",
      "source": [
        "describe(X_test_normalized)"
      ],
      "metadata": {
        "id": "bNplCpND3Byu",
        "colab": {
          "base_uri": "https://localhost:8080/"
        },
        "outputId": "1b5d01ff-a7b2-40c5-bb2e-8b5e80d15fd4"
      },
      "execution_count": 155,
      "outputs": [
        {
          "output_type": "stream",
          "name": "stdout",
          "text": [
            "Min:  [ 0.00000000e+00  0.00000000e+00  3.02950184e-04 -1.23670542e-03\n",
            "  8.40830741e-05  3.19448741e-04  1.06269926e-03  4.98007968e-03]\n",
            "Max:  [1.         1.         0.43219252 0.32755026 0.80055495 0.06637405\n",
            " 0.99043571 0.97609562]\n",
            "Mean:  [0.23095267 0.54009918 0.03224343 0.02124437 0.04048059 0.00185245\n",
            " 0.3280739  0.47563646]\n",
            "Std:  [0.12855331 0.24577229 0.01468491 0.01080996 0.03349326 0.00163482\n",
            " 0.22664099 0.20097322]\n"
          ]
        }
      ]
    },
    {
      "cell_type": "markdown",
      "metadata": {
        "id": "EgG7BAsDOx8B"
      },
      "source": [
        "### 2. Linear regression"
      ]
    },
    {
      "cell_type": "markdown",
      "source": [
        "Now you are ready to put your dataset to train a model. You will continue to use the linear regression that you have made in the lab using the normal equation. \n",
        "\n",
        "- Create the **solver** function that creates a linear regression line and return the coefficents. You can re-use the function from the first lab.\n",
        "- Here you should use **all available features** of the dataset.\n",
        "- You should add one column representing a bias to your feature matrix.\n",
        "\n",
        "The normal equation can be represented as follows:\n",
        "\n",
        "$\\theta = (\\textbf{X}^T \\cdot \\textbf{X})^{-1} \\cdot \\textbf{X}^T \\cdot \\textbf{y}$"
      ],
      "metadata": {
        "id": "aDLWBj56D6P6"
      }
    },
    {
      "cell_type": "code",
      "execution_count": 156,
      "metadata": {
        "id": "6EkjV6APOx8C"
      },
      "outputs": [],
      "source": [
        "def solver(X, y):\n",
        "  \"\"\"\n",
        "  Get the weights and bias of linear regression classifier on the input dataset (X, y).\n",
        "\n",
        "  Input: \n",
        "   - X: a set of features\n",
        "   - y: labels\n",
        "  Output:\n",
        "   - theta: weights and bias of the linear regression\n",
        "  \"\"\"\n",
        "  X = np.array(X)\n",
        "  bias_feature = np.ones((X.shape[0], 1))\n",
        "  \n",
        "  X = np.concatenate((X, bias_feature), axis=1)\n",
        "  theta = np.linalg.inv(X.T.dot(X)).dot(X.T).dot(y)\n",
        "  return theta"
      ]
    },
    {
      "cell_type": "markdown",
      "source": [
        "You should run this solver function only on the standardized training set (**X_train_standardized**, **y_train**) to create the model and evalute it later on the test set.\n",
        "\n",
        "- Run the **solver** function on **X_train_standardized** and **y_train** and save the result to **theta**."
      ],
      "metadata": {
        "id": "xWZhZW4rExeQ"
      }
    },
    {
      "cell_type": "code",
      "source": [
        "theta = solver(X_train_standardized, y_train)\n",
        "print(theta)"
      ],
      "metadata": {
        "colab": {
          "base_uri": "https://localhost:8080/"
        },
        "id": "4_8ETLDgE_5p",
        "outputId": "8b52e5ba-88b5-43eb-da04-9ccd0508785f"
      },
      "execution_count": 157,
      "outputs": [
        {
          "output_type": "stream",
          "name": "stdout",
          "text": [
            "[ 0.83516524  0.11863992 -0.27934302  0.31869933 -0.0073823  -0.04017865\n",
            " -0.89598737 -0.86380951  2.07323369]\n"
          ]
        }
      ]
    },
    {
      "cell_type": "markdown",
      "source": [
        "You now have a complete model trained on the training set. Then the next interesting thing is to evaluate if the model is good enough by using the test set. To do this, you need to create a predict function that can return the expected value. \n",
        "\n",
        "- Create the **predict** function which put each instance into the regression equation to predict the value. **DO NOT USE ANY LOOP**."
      ],
      "metadata": {
        "id": "dQDfYDDxF9o5"
      }
    },
    {
      "cell_type": "code",
      "source": [
        "def predict(X, theta):\n",
        "  \"\"\"\n",
        "  Input: \n",
        "   - X: data instances to predict\n",
        "   - theta: trained regression coefficients\n",
        "\n",
        "  Output:\n",
        "   - y_hat: predicted values (X @ weight) + bias\n",
        "  \"\"\"\n",
        "\n",
        "  bias = theta[-1]\n",
        "  theta = np.array(theta[:-1])\n",
        "  predictions = X @ theta + bias\n",
        "  return predictions"
      ],
      "metadata": {
        "id": "p-JxOI09ledN"
      },
      "execution_count": 158,
      "outputs": []
    },
    {
      "cell_type": "markdown",
      "source": [
        "This predict function should be able to return the predicted value of the housing price. Then now you might want to return the mean squared error (and its variants) of the whole model. There can be many different metrics but here you will measure the mean squared error (MSE). MSE can be calculated as follows: "
      ],
      "metadata": {
        "id": "psp-L1wGRslu"
      }
    },
    {
      "cell_type": "markdown",
      "source": [
        "$MSE = {\\frac{1}{n}\\sum_{t=1}^{n}(\\hat{y}_t - y_t)^2} $.\n",
        "\n",
        "Note that $\\hat{y}$ is a predicted label and $y$ is a true label."
      ],
      "metadata": {
        "id": "ljB3uUqjWPbw"
      }
    },
    {
      "cell_type": "markdown",
      "source": [
        "- Create a function **mean_squared_error** that calculates the MSE value."
      ],
      "metadata": {
        "id": "aMTnVQGPWfBv"
      }
    },
    {
      "cell_type": "code",
      "execution_count": 159,
      "metadata": {
        "id": "laAN9bTMOx8C"
      },
      "outputs": [],
      "source": [
        "def mean_squared_error(X, y, theta):\n",
        "  \"\"\"\n",
        "  Input:\n",
        "    - X_test: data instances to test.\n",
        "    - y_test: true values of the corresponding data instances (X_test).\n",
        "    - theta: trained regression coefficients.\n",
        "\n",
        "  Output:\n",
        "    - MSE: A MSE score.\n",
        "\n",
        "  Use predict function to calculate our predicted values.\n",
        "  \"\"\"\n",
        "  \n",
        "  predictions = predict(X, theta)\n",
        "  n = predictions.shape[0]\n",
        "  mse = (1/n) * np.sum( np.square(predictions - y) ) \n",
        "  return mse"
      ]
    },
    {
      "cell_type": "markdown",
      "source": [
        "- Run MSE function to test our model created by our solver function. Use predict function to calculate our predicted values. Report the MSE value. Since you used the standardized dataset for training, you should do the same for testing."
      ],
      "metadata": {
        "id": "TReu0cnIWiz2"
      }
    },
    {
      "cell_type": "markdown",
      "source": [
        "There is another score called mean absolute percentage error (MAPE). MAPE is the percentage equivalent of MAE. Each residual is scaled against the actual value. MAPE has a clear interpretation since percentages are easier for \n",
        "people to conceptualize.\n",
        "\n",
        "MAPE can be calculated as follows:\n",
        "\n",
        "$MAPE = \\frac{100\\%}{n}\\sum_{t=1}^{n}|\\frac{y_t - \\hat{y}_t}{y_t}|$\n",
        "\n",
        "- Implement a function for MAPE **mean_absolute_percentage_error**, which receives the same parameters *X*, *y*, and *theta*."
      ],
      "metadata": {
        "id": "52aH-ML6Seu7"
      }
    },
    {
      "cell_type": "code",
      "source": [
        "def mean_absolute_percentage_error(X, y, theta):\n",
        "  \"\"\"\n",
        "  Input:\n",
        "    - X_test: data instances to test.\n",
        "    - y_test: true values of the corresponding data instances (X_test).\n",
        "    - theta: trained regression coefficients.\n",
        "\n",
        "  Output:\n",
        "    - MAPE: a MAPE score.\n",
        "\n",
        "  Use predict function to calculate our predicted values.\n",
        "  \"\"\"\n",
        "  \n",
        "  predictions = predict(X, theta)\n",
        "  mape = (1 / len(predictions)) * np.sum(np.abs((y - predictions) / y))\n",
        "  return mape\n",
        "  # predictions = predict(X, theta)\n",
        "  # mape = np.mean(np.abs((y - predictions) / y)) * 100\n",
        "  #return mape"
      ],
      "metadata": {
        "id": "uFEGAF7fqqeg"
      },
      "execution_count": 160,
      "outputs": []
    },
    {
      "cell_type": "markdown",
      "source": [
        "Train your regression model on the **standardized** training set and evaluate your method with two different scores: MSE and MAPE. Print two scores here."
      ],
      "metadata": {
        "id": "PNC0hszHqyIP"
      }
    },
    {
      "cell_type": "code",
      "source": [
        "mse_score = mean_squared_error(X_test_standardized, y_test, theta) \n",
        "mape_score = mean_absolute_percentage_error(X_test_standardized, y_test, theta)"
      ],
      "metadata": {
        "id": "wm8gHjCSq64P"
      },
      "execution_count": 161,
      "outputs": []
    },
    {
      "cell_type": "code",
      "source": [
        "mse_score, mape_score"
      ],
      "metadata": {
        "colab": {
          "base_uri": "https://localhost:8080/"
        },
        "id": "LWaJtiItrmDk",
        "outputId": "61f94adc-4a43-4d8b-a5d6-7b42a4912897"
      },
      "execution_count": 162,
      "outputs": [
        {
          "output_type": "execute_result",
          "data": {
            "text/plain": [
              "(0.5164098402037773, 0.32584551595752903)"
            ]
          },
          "metadata": {},
          "execution_count": 162
        }
      ]
    },
    {
      "cell_type": "markdown",
      "source": [
        "### 4. Linear regression with regularization"
      ],
      "metadata": {
        "id": "royxfFHjRjw2"
      }
    },
    {
      "cell_type": "markdown",
      "source": [
        "You have learned the Ridge regression in the lecture. Fortunately, the Ridge regression also can be represented as a closed form solution with the normal equation. \n",
        "\n",
        "Your task here is to create a variant of your previous solver function supporting the Ridge regression. \n",
        "\n",
        "A closed form solution to Ridge can be represented as follows:\n",
        "\n",
        "$\\theta = (\\textbf{X}^T \\cdot \\textbf{X} + \\lambda \\textbf{I})^{-1} \\cdot \\textbf{X}^T \\cdot \\textbf{y}$\n",
        "\n",
        "where $\\textbf{I}$ is an $(n+1) \\times (n+1) $ identity matrix, since the feature matrix also includes the bias column.\n"
      ],
      "metadata": {
        "id": "wphcDNvvkwL0"
      }
    },
    {
      "cell_type": "code",
      "source": [
        "def solver_with_ridge(X, y, alpha):\n",
        "  \"\"\"\n",
        "  Get the weights and bias of the linear regression line on the dataset X, using the labels y.\n",
        "\n",
        "  Input: \n",
        "   - X: a set of features to get weights\n",
        "   - y: class labels\n",
        "  Output:\n",
        "   - theta: weights and bias of the ridge regression\n",
        "  \"\"\"\n",
        "\n",
        "  intercept_ones = np.ones((len(X), 1))\n",
        "  X = np.c_[X, intercept_ones] \n",
        "  I = np.identity(X.shape[1]) \n",
        "  I[0][0] = 1\n",
        "  theta = np.linalg.inv(X.T.dot(X) + alpha * I).dot(X.T).dot(y)\n",
        "\n",
        "  return theta"
      ],
      "metadata": {
        "id": "jvYlCgotRlcK"
      },
      "execution_count": 163,
      "outputs": []
    },
    {
      "cell_type": "markdown",
      "source": [
        "Here, compare the performances changing the $\\lambda$ value. Use the $\\lambda$ value from 0 to 100 in increments of 0.5. Use MSE as a score metric. Save those 300 scores into the list `scores`. \n",
        "\n",
        "- To iterate different $\\lambda$s, you can use a loop for your convenience."
      ],
      "metadata": {
        "id": "G-LrDqWSmaGW"
      }
    },
    {
      "cell_type": "code",
      "source": [
        "scores = []\n",
        "\n",
        "for alpha in np.arange(0, 100, 0.5):\n",
        "    theta = solver_with_ridge(X_train_standardized, y_train, alpha)\n",
        "    mse = mean_squared_error(X_test_standardized, y_test, theta)\n",
        "    scores.append(mse)"
      ],
      "metadata": {
        "id": "Vd9pJ8zUo_7u"
      },
      "execution_count": 164,
      "outputs": []
    },
    {
      "cell_type": "markdown",
      "source": [
        "Plot the graph of different scores here. If you saved all scores in the list `scores`, you can simply run the block below. The resulting plot behaves in a different way based on your split training and test sets. Sometimes, the error just decreases or increases, but you can also see that the error decreases first, but after some point, it starts to increase. If you are interested, repeat many times to check different plots and you can even change the range from [0, 100] to something else. Uncomment the block below!"
      ],
      "metadata": {
        "id": "ILjT1k5FpLVe"
      }
    },
    {
      "cell_type": "code",
      "source": [
        "plt.plot(np.arange(0, 100, 0.5), scores)\n",
        "plt.xlabel(\"alpha\")\n",
        "plt.ylabel(\"MSE\")\n",
        "plt.show()"
      ],
      "metadata": {
        "id": "--Ky0LHO0wqM",
        "colab": {
          "base_uri": "https://localhost:8080/",
          "height": 449
        },
        "outputId": "1e58f283-0fea-4dd4-c679-5898e45e6a7c"
      },
      "execution_count": 165,
      "outputs": [
        {
          "output_type": "display_data",
          "data": {
            "text/plain": [
              "<Figure size 640x480 with 1 Axes>"
            ],
            "image/png": "[encoded data removed]"
          },
          "metadata": {}
        }
      ]
    },
    {
      "cell_type": "markdown",
      "source": [
        "### 5. Model validation"
      ],
      "metadata": {
        "id": "S3nHFnagh0nC"
      }
    },
    {
      "cell_type": "markdown",
      "source": [
        "So far, you simply had one test set and one training set. Now the question is if those sets were enough to represent the dataset's distribution. To overcome this problem, various validation methods have been developed and used such as cross-validation or a repeated holdout test. Here, you will develop one function that performs the repeated holdout test. The key strategy of it is to create a completely different training and test set pair for each iteration. You need to iterate the holdout test that you performed many (k) times and return the average score.\n",
        "\n",
        "* You are allowed to use a for loop to iterate k different tests. However, you are not allowed to use the loop to create different indices to divide the dataset.\n",
        "* You can call the `train_test_split` function you have developed above if it helps your development process."
      ],
      "metadata": {
        "id": "p7MnVQ5Rryof"
      }
    },
    {
      "cell_type": "code",
      "source": [
        "def repeated_hold_out(X, y, k, test_ratio):\n",
        "  \"\"\"\n",
        "  Input:\n",
        "    - X: features\n",
        "    - y: labels\n",
        "    - test_ratio: ratio of the test set\n",
        "  Output:\n",
        "    - score: the average of k different test scores\n",
        "  \n",
        "  1. Iterate k times to perform k validation processes.\n",
        "  2. For each iteration, split the dataset into training and test sets with *random* indices.\n",
        "   - Note that each iteration should create different training and test sets.\n",
        "  3. Use *standardization* to fix the scale of the dataset, you should only use the training set's properties.\n",
        "  4. Fit your model with *solver* (without ridge) on the training set.\n",
        "  5. Save your *MSE* score into the list *scores*\n",
        "  6. After all the iterations, return the average of *scores*.\n",
        "\n",
        "  \"\"\"\n",
        "\n",
        "  scores = []\n",
        "  for i in range(k):\n",
        "    X_train, X_test, y_train, y_test = train_test_split(X,y, test_ratio)\n",
        "    X_train_standardized, X_test_standardized = apply_standardization(X_train, X_test)\n",
        "    theta = solver(X_train_standardized, y_train)\n",
        "    mse_score = mean_squared_error(X_test_standardized, y_test, theta)\n",
        "    scores.append(mse_score)\n",
        "\n",
        "\n",
        "\n",
        "\n",
        "\n",
        "  return np.mean(scores)"
      ],
      "metadata": {
        "id": "M7JEfZjGijfH"
      },
      "execution_count": 166,
      "outputs": []
    },
    {
      "cell_type": "markdown",
      "source": [
        "Run repeated_hold_out on X and y with the test ratio = 0.3. Report the holdout score."
      ],
      "metadata": {
        "id": "Po5UX-gb2idF"
      }
    },
    {
      "cell_type": "code",
      "source": [
        "holdout_score = repeated_hold_out(X, y, k=5, test_ratio=0.3) # CHANGE IT\n",
        "holdout_score"
      ],
      "metadata": {
        "id": "QuMGeSGfLjAL",
        "colab": {
          "base_uri": "https://localhost:8080/"
        },
        "outputId": "cdfbd9d9-778b-4bd8-9f3c-8689c04b1c4c"
      },
      "execution_count": 167,
      "outputs": [
        {
          "output_type": "execute_result",
          "data": {
            "text/plain": [
              "0.5311063091592342"
            ]
          },
          "metadata": {},
          "execution_count": 167
        }
      ]
    },
    {
      "cell_type": "markdown",
      "source": [
        "- You have also learned k-fold cross validation which uses k different parts of the original datasets for training and validation. \n",
        "- You first need to divide the dataset into k parts. Iterate those chunks (so, k times) and use each part as a test set.\n",
        "- You need to merge the other k-1 sets and use it as a training set.\n",
        "- Finally you should have the dataset split into two parts: one of size (k-1)/k * original size as a training set, and the other one of size 1/k * original size as a test set. Test set should be mutually exclusive - it should not have the same instance for each instance.\n"
      ],
      "metadata": {
        "id": "uqr-5g3HBo6n"
      }
    },
    {
      "cell_type": "code",
      "source": [
        "def kfold(X, y, k = 10, shuffle=True):\n",
        "  \"\"\"\n",
        "  Input:\n",
        "    - X: features.\n",
        "    - y: labels.\n",
        "    - k: the number of folds.\n",
        "    - shuffle: a parameter that controls suffling indices\n",
        "  Output:\n",
        "    - score: the average of k different test scores. \n",
        "\n",
        "  1. Check if the suffle parameter is True:\n",
        "    if True: Create randomly shuffled indices of the size of the data instances.\n",
        "    else: Do not take any action. \n",
        "  2. Divide the dataset into k parts. \n",
        "  3. Iterate those chunks (so, k times). For each iteration, create the training and test sets with *random* indices.\n",
        "   - Use each part of k chunks as a test set.\n",
        "   - You need to merge the other k-1 sets and use it as a training set.\n",
        "   - Note that each iteration should create different training and test sets.\n",
        "  4. Use *normalization* to fix the scale of the dataset, you should only use the training set's properties.\n",
        "  5. Fit your model with *solver* (without ridge) on the training set.\n",
        "  6. Save your *MAPE* score into the list *scores*\n",
        "  7. After all the iterations, return the average of *scores*.\n",
        "  \"\"\"\n",
        "  n_samples = X.shape[0]\n",
        "  fold_size = n_samples // k\n",
        "  indices = np.arange(n_samples)\n",
        "  if shuffle:\n",
        "      np.random.shuffle(indices)\n",
        "  scores = []\n",
        "  for i in range(k):\n",
        "    test_indices = indices[i*fold_size:(i+1)*fold_size]\n",
        "    train_indices = np.concatenate((indices[:i*fold_size], indices[(i+1)*fold_size:]))\n",
        "    X_train, y_train = X[train_indices], y[train_indices]\n",
        "    X_test, y_test = X[test_indices], y[test_indices]\n",
        "    #X_train, X_test, y_train, y_test = train_test_split(X,y)\n",
        "    X_train_norm, X_test_norm = apply_normalization(X_train, X_test)\n",
        "    theta = solver(X_train_norm, y_train)\n",
        "    mape_score = mean_absolute_percentage_error(X_test_norm, y_test, theta)\n",
        "    #scores = 0.0\n",
        "    scores.append(mape_score)\n",
        "\n",
        "  return np.mean(scores)"
      ],
      "metadata": {
        "id": "j3GoCvNZBl_I"
      },
      "execution_count": 168,
      "outputs": []
    },
    {
      "cell_type": "markdown",
      "source": [
        "### 6. Put things together"
      ],
      "metadata": {
        "id": "D7mSIvYbRoQq"
      }
    },
    {
      "cell_type": "markdown",
      "source": [
        "It's time to put everything you have done together here. Here you will create a function that manages whole process from receiving raw datasets to returning performance metrics, by modifying the repeated holdout function. This will help you manage your process clearly since it must contain all the functions you use for your dataset (Later you will replace it with scikit-learn's pipeline technique for the same purpose) - By having these management functions, you can switch off some of the techniques, add more techniques in the middle, or replace some of them with other methods, without any problem or confusion.\n",
        "\n",
        "* Complete `pipeline` following the instruction."
      ],
      "metadata": {
        "id": "DWjft22LHEJm"
      }
    },
    {
      "cell_type": "code",
      "source": [
        "def pipeline(X, y, k = 5, test_ratio = 0.2, norm_method = \"standardization\", eval_method = \"MSE\", alpha = 0):\n",
        "  \"\"\"\n",
        "  Input:\n",
        "    - X: features\n",
        "    - y: labels\n",
        "    - test_ratio: ratio of the test set\n",
        "  Output:\n",
        "    - score: the average of k different test scores\n",
        "  \n",
        "  1. Iterate k times to perform k validation processes.\n",
        "  2. For each iteration, split the dataset into the training and test sets with *random* indices.\n",
        "   - Note that each iteration should create different training and test sets.\n",
        "  3. Check the parameter *norm_method*\n",
        "    - if norm_method == standardization:\n",
        "      - Use *standardization* to fix the scale of the dataset, you should only use the training set's properties.\n",
        "    - if norm_method == normalization:\n",
        "      - Use *normalization* to fix the scale of the dataset, you should only use the training set's properties.\n",
        "  4. Fit your model with *solver_with_ridge\" on the training set. Use alpha from the parameter.\n",
        "  5. Check the parameter \"eval_method\"\n",
        "    - if eval_method == \"MSE\"\n",
        "      - Save your *MSE* score into the list *scores*\n",
        "    - if eval_method == \"MAPE\"\n",
        "      - Save your *MAPE* score into the list *scores*\n",
        "\n",
        "  6. After all the iterations, return the average of *scores*.\n",
        "\n",
        "  \"\"\"\n",
        "\n",
        "  scores = []\n",
        "  for i in range(k):\n",
        "    X_train, X_test, y_train, y_test = train_test_split(X,y, test_ratio)\n",
        "    if norm_method == \"standardization\":\n",
        "      X_train_st, X_test_st = apply_standardization(X_train, X_test)\n",
        "    if norm_method == \"normalization\":\n",
        "      X_train_st, X_test_st = apply_normalization(X_train, X_test)\n",
        "    theta = solver_with_ridge(X_train_st, y_train,alpha)\n",
        "    if eval_method == \"MSE\":\n",
        "      mse_score = mean_squared_error(X_test_st, y_test, theta)\n",
        "      scores.append(mse_score)\n",
        "    if eval_method == \"MAPE\":\n",
        "      mape_score = mean_absolute_percentage_error(X_test_st, y_test, theta)\n",
        "      scores.append(mape_score)\n",
        "\n",
        "\n",
        "  return np.mean(scores)"
      ],
      "metadata": {
        "id": "6CU_kV0DRpYg"
      },
      "execution_count": 169,
      "outputs": []
    },
    {
      "cell_type": "markdown",
      "source": [
        "Now you are ready to run various tasks by using this single function. Will the best model the same under MSE or MAPE? Will different k or test ratio result in different best model? You can do many different trials to find a good model.\n",
        "\n",
        "- Change a normalization method, an alpha value to find out the best classifier under either MSE or MAPE score. This task is **mandatory**.\n",
        "- Report at least five different trials under different settings.\n",
        "- This is not an optional task for retake homework."
      ],
      "metadata": {
        "id": "P7GKrthoLOlD"
      }
    },
    {
      "cell_type": "code",
      "source": [
        "print(\"Solver without ridge MSE\")\n",
        "print(pipeline(X, y, k=3, test_ratio=0.2, norm_method=\"standardization\", eval_method=\"MSE\", alpha=0))\n",
        "print(pipeline(X, y, k=3, test_ratio=0.2, norm_method=\"normalization\", eval_method=\"MSE\", alpha=0))\n",
        "print(pipeline(X, y, k=5, test_ratio=0.2, norm_method=\"standardization\", eval_method=\"MSE\", alpha=0))\n",
        "print(pipeline(X, y, k=5, test_ratio=0.2, norm_method=\"normalization\", eval_method=\"MSE\", alpha=0))\n",
        "\n",
        "print(\"\\nSolver with ridge MSE\")\n",
        "print(pipeline(X, y, k=3, test_ratio=0.2, norm_method=\"standardization\", eval_method=\"MSE\", alpha=0.2))\n",
        "print(pipeline(X, y, k=3, test_ratio=0.2, norm_method=\"normalization\", eval_method=\"MSE\", alpha=0.2))\n",
        "print(pipeline(X, y, k=5, test_ratio=0.2, norm_method=\"standardization\", eval_method=\"MSE\", alpha=0.2))\n",
        "print(pipeline(X, y, k=5, test_ratio=0.2, norm_method=\"normalization\", eval_method=\"MSE\", alpha=0.2))\n",
        "\n",
        "print(\"\\nSolver without ridge MAPE\")\n",
        "print(pipeline(X, y, k=3, test_ratio=0.2, norm_method=\"standardization\", eval_method=\"MAPE\", alpha=0))\n",
        "print(pipeline(X, y, k=3, test_ratio=0.2, norm_method=\"normalization\", eval_method=\"MAPE\", alpha=0))\n",
        "print(pipeline(X, y, k=5, test_ratio=0.2, norm_method=\"standardization\", eval_method=\"MAPE\", alpha=0))\n",
        "print(pipeline(X, y, k=5, test_ratio=0.2, norm_method=\"normalization\", eval_method=\"MAPE\", alpha=0))\n",
        "\n",
        "print(\"\\nSolver with ridge MAPE\")\n",
        "print(pipeline(X, y, k=3, test_ratio=0.2, norm_method=\"standardization\", eval_method=\"MAPE\", alpha=0.2))\n",
        "print(pipeline(X, y, k=3, test_ratio=0.2, norm_method=\"normalization\", eval_method=\"MAPE\", alpha=0.2))\n",
        "print(pipeline(X, y, k=5, test_ratio=0.2, norm_method=\"standardization\", eval_method=\"MAPE\", alpha=0.2))\n",
        "print(pipeline(X, y, k=5, test_ratio=0.2, norm_method=\"normalization\", eval_method=\"MAPE\", alpha=0.2))"
      ],
      "metadata": {
        "id": "bkCeCDoPLNGp",
        "colab": {
          "base_uri": "https://localhost:8080/"
        },
        "outputId": "0152adb7-0cb0-46f5-e1c8-92ffc8db0596"
      },
      "execution_count": 170,
      "outputs": [
        {
          "output_type": "stream",
          "name": "stdout",
          "text": [
            "Solver without ridge MSE\n",
            "0.5420392646433403\n",
            "0.5307609692163232\n",
            "0.5447419946705783\n",
            "0.519108658743221\n",
            "\n",
            "Solver with ridge MSE\n",
            "0.5399951992945297\n",
            "0.5266755001663338\n",
            "0.7190067900298208\n",
            "0.5204786539510342\n",
            "\n",
            "Solver without ridge MAPE\n",
            "0.3127040789197047\n",
            "0.31766375593444013\n",
            "0.318592554790508\n",
            "0.3315455778896893\n",
            "\n",
            "Solver with ridge MAPE\n",
            "0.3160500762758513\n",
            "0.31862121871054533\n",
            "0.32023929686216196\n",
            "0.328315765877526\n"
          ]
        }
      ]
    },
    {
      "cell_type": "markdown",
      "source": [
        "# END"
      ],
      "metadata": {
        "id": "cWugHCgB2Cpq"
      }
    }
  ],
  "metadata": {
    "interpreter": {
      "hash": "b3ba2566441a7c06988d0923437866b63cedc61552a5af99d1f4fb67d367b25f"
    },
    "kernelspec": {
      "display_name": "Python 3.8.8 64-bit ('base': conda)",
      "language": "python",
      "name": "python3"
    },
    "language_info": {
      "codemirror_mode": {
        "name": "ipython",
        "version": 3
      },
      "file_extension": ".py",
      "mimetype": "text/x-python",
      "name": "python",
      "nbconvert_exporter": "python",
      "pygments_lexer": "ipython3",
      "version": "3.8.5"
    },
    "orig_nbformat": 4,
    "colab": {
      "provenance": []
    }
  },
  "nbformat": 4,
  "nbformat_minor": 0
}