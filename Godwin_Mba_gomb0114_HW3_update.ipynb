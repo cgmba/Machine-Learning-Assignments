{
  "nbformat": 4,
  "nbformat_minor": 0,
  "metadata": {
    "colab": {
      "provenance": []
    },
    "kernelspec": {
      "name": "python3",
      "display_name": "Python 3"
    },
    "language_info": {
      "name": "python"
    }
  },
  "cells": [
    {
      "cell_type": "markdown",
      "source": [
        "# Homework 3"
      ],
      "metadata": {
        "id": "5lF_YzgAFBUy"
      }
    },
    {
      "cell_type": "markdown",
      "source": [
        "In this homework, you will test various time series classification methods. You must choose **three** datasets from [the UCR/UEA time series repository](http://timeseriesclassification.com) and perform the tasks by evaluating the models on three selected datasets.\n",
        "\n",
        "Note that the questions are not 100% the same as the lab tasks. Please carefully read all descriptions. Compared to previous homework, there is no fixed answer, and we will evaluate your assignment based on your trials rather than the results. When the description does not specify or restrict things during your implementation process, you can choose your way freely. We will always grade based on the written description on each task only.\n"
      ],
      "metadata": {
        "id": "jlUZyP2xFCZx"
      }
    },
    {
      "cell_type": "markdown",
      "source": [
        "### Task 0: Preparation"
      ],
      "metadata": {
        "id": "Va23r8yGIfjW"
      }
    },
    {
      "cell_type": "markdown",
      "source": [
        "You need to choose **three** datasets from the UCR/UEA time series repository. Please be careful since some UCR datasets can take a long time to be processed - You do not need to choose heavy datasets since it would slow your training/testing process. Use sktime's `load_UCR_UEA_dataset` function to perform. Please note that **you should use each dataset's original train/test splits** to train and report the test scores."
      ],
      "metadata": {
        "id": "v2oklHd9Igso"
      }
    },
    {
      "cell_type": "code",
      "source": [
        "!pip install sktime -q\n",
        "!pip install sktime[all_extras] -q\n",
        "!pip install sktime-dl -q "
      ],
      "metadata": {
        "id": "OsP1q2UuIdwo",
        "colab": {
          "base_uri": "https://localhost:8080/"
        },
        "outputId": "9c702c17-91c0-47fb-91d7-1313d9789d9e"
      },
      "execution_count": null,
      "outputs": [
        {
          "output_type": "stream",
          "name": "stdout",
          "text": [
            "\u001b[2K     \u001b[90m━━━━━━━━━━━━━━━━━━━━━━━━━━━━━━━━━━━━━━━━\u001b[0m \u001b[32m16.9/16.9 MB\u001b[0m \u001b[31m66.7 MB/s\u001b[0m eta \u001b[36m0:00:00\u001b[0m\n",
            "\u001b[2K     \u001b[90m━━━━━━━━━━━━━━━━━━━━━━━━━━━━━━━━━━━━━━\u001b[0m \u001b[32m115.2/115.2 kB\u001b[0m \u001b[31m13.1 MB/s\u001b[0m eta \u001b[36m0:00:00\u001b[0m\n",
            "\u001b[2K     \u001b[90m━━━━━━━━━━━━━━━━━━━━━━━━━━━━━━━━━━━━━━━\u001b[0m \u001b[32m100.0/100.0 kB\u001b[0m \u001b[31m2.9 MB/s\u001b[0m eta \u001b[36m0:00:00\u001b[0m\n",
            "\u001b[2K     \u001b[90m━━━━━━━━━━━━━━━━━━━━━━━━━━━━━━━━━━━━━━\u001b[0m \u001b[32m160.4/160.4 kB\u001b[0m \u001b[31m12.5 MB/s\u001b[0m eta \u001b[36m0:00:00\u001b[0m\n",
            "\u001b[2K     \u001b[90m━━━━━━━━━━━━━━━━━━━━━━━━━━━━━━━━━━━━━━━━\u001b[0m \u001b[32m44.0/44.0 kB\u001b[0m \u001b[31m4.5 MB/s\u001b[0m eta \u001b[36m0:00:00\u001b[0m\n",
            "\u001b[?25h  Preparing metadata (setup.py) ... \u001b[?25l\u001b[?25hdone\n",
            "\u001b[2K     \u001b[90m━━━━━━━━━━━━━━━━━━━━━━━━━━━━━━━━━━━━━━\u001b[0m \u001b[32m228.9/228.9 kB\u001b[0m \u001b[31m18.0 MB/s\u001b[0m eta \u001b[36m0:00:00\u001b[0m\n",
            "\u001b[?25h  Preparing metadata (setup.py) ... \u001b[?25l\u001b[?25hdone\n",
            "\u001b[2K     \u001b[90m━━━━━━━━━━━━━━━━━━━━━━━━━━━━━━━━━━━━━━\u001b[0m \u001b[32m178.0/178.0 kB\u001b[0m \u001b[31m16.3 MB/s\u001b[0m eta \u001b[36m0:00:00\u001b[0m\n",
            "\u001b[?25h  Preparing metadata (setup.py) ... \u001b[?25l\u001b[?25hdone\n",
            "\u001b[2K     \u001b[90m━━━━━━━━━━━━━━━━━━━━━━━━━━━━━━━━━━━━━━━━\u001b[0m \u001b[32m7.6/7.6 MB\u001b[0m \u001b[31m38.7 MB/s\u001b[0m eta \u001b[36m0:00:00\u001b[0m\n",
            "\u001b[2K     \u001b[90m━━━━━━━━━━━━━━━━━━━━━━━━━━━━━━━━━━━━━━━━\u001b[0m \u001b[32m10.2/10.2 MB\u001b[0m \u001b[31m60.1 MB/s\u001b[0m eta \u001b[36m0:00:00\u001b[0m\n",
            "\u001b[2K     \u001b[90m━━━━━━━━━━━━━━━━━━━━━━━━━━━━━━━━━━━━━━\u001b[0m \u001b[32m358.2/358.2 kB\u001b[0m \u001b[31m22.7 MB/s\u001b[0m eta \u001b[36m0:00:00\u001b[0m\n",
            "\u001b[2K     \u001b[90m━━━━━━━━━━━━━━━━━━━━━━━━━━━━━━━━━━━━━━━━\u001b[0m \u001b[32m1.8/1.8 MB\u001b[0m \u001b[31m52.5 MB/s\u001b[0m eta \u001b[36m0:00:00\u001b[0m\n",
            "\u001b[2K     \u001b[90m━━━━━━━━━━━━━━━━━━━━━━━━━━━━━━━━━━━━━━━\u001b[0m \u001b[32m150.0/150.0 kB\u001b[0m \u001b[31m9.2 MB/s\u001b[0m eta \u001b[36m0:00:00\u001b[0m\n",
            "\u001b[?25h  Preparing metadata (setup.py) ... \u001b[?25l\u001b[?25hdone\n",
            "\u001b[2K     \u001b[90m━━━━━━━━━━━━━━━━━━━━━━━━━━━━━━━━━━━━━━━━\u001b[0m \u001b[32m1.2/1.2 MB\u001b[0m \u001b[31m53.4 MB/s\u001b[0m eta \u001b[36m0:00:00\u001b[0m\n",
            "\u001b[2K     \u001b[90m━━━━━━━━━━━━━━━━━━━━━━━━━━━━━━━━━━━━━━\u001b[0m \u001b[32m136.2/136.2 kB\u001b[0m \u001b[31m10.9 MB/s\u001b[0m eta \u001b[36m0:00:00\u001b[0m\n",
            "\u001b[2K     \u001b[90m━━━━━━━━━━━━━━━━━━━━━━━━━━━━━━━━━━━━━━\u001b[0m \u001b[32m645.5/645.5 kB\u001b[0m \u001b[31m35.6 MB/s\u001b[0m eta \u001b[36m0:00:00\u001b[0m\n",
            "\u001b[2K     \u001b[90m━━━━━━━━━━━━━━━━━━━━━━━━━━━━━━━━━━━━━━\u001b[0m \u001b[32m372.4/372.4 kB\u001b[0m \u001b[31m20.3 MB/s\u001b[0m eta \u001b[36m0:00:00\u001b[0m\n",
            "\u001b[2K     \u001b[90m━━━━━━━━━━━━━━━━━━━━━━━━━━━━━━━━━━━━━━━━\u001b[0m \u001b[32m46.4/46.4 kB\u001b[0m \u001b[31m5.2 MB/s\u001b[0m eta \u001b[36m0:00:00\u001b[0m\n",
            "\u001b[?25h  Installing build dependencies ... \u001b[?25l\u001b[?25hdone\n",
            "  Getting requirements to build wheel ... \u001b[?25l\u001b[?25hdone\n",
            "  Preparing metadata (pyproject.toml) ... \u001b[?25l\u001b[?25hdone\n",
            "\u001b[2K     \u001b[90m━━━━━━━━━━━━━━━━━━━━━━━━━━━━━━━━━━━━━━\u001b[0m \u001b[32m187.9/187.9 kB\u001b[0m \u001b[31m19.6 MB/s\u001b[0m eta \u001b[36m0:00:00\u001b[0m\n",
            "\u001b[2K     \u001b[90m━━━━━━━━━━━━━━━━━━━━━━━━━━━━━━━━━━━━━━\u001b[0m \u001b[32m154.6/154.6 kB\u001b[0m \u001b[31m18.6 MB/s\u001b[0m eta \u001b[36m0:00:00\u001b[0m\n",
            "\u001b[?25h  Preparing metadata (setup.py) ... \u001b[?25l\u001b[?25hdone\n",
            "\u001b[2K     \u001b[90m━━━━━━━━━━━━━━━━━━━━━━━━━━━━━━━━━━━━━━━━\u001b[0m \u001b[32m77.2/77.2 kB\u001b[0m \u001b[31m9.8 MB/s\u001b[0m eta \u001b[36m0:00:00\u001b[0m\n",
            "\u001b[2K     \u001b[90m━━━━━━━━━━━━━━━━━━━━━━━━━━━━━━━━━━━━━━\u001b[0m \u001b[32m250.6/250.6 kB\u001b[0m \u001b[31m29.7 MB/s\u001b[0m eta \u001b[36m0:00:00\u001b[0m\n",
            "\u001b[2K     \u001b[90m━━━━━━━━━━━━━━━━━━━━━━━━━━━━━━━━━━━━━━\u001b[0m \u001b[32m185.2/185.2 kB\u001b[0m \u001b[31m24.9 MB/s\u001b[0m eta \u001b[36m0:00:00\u001b[0m\n",
            "\u001b[2K     \u001b[90m━━━━━━━━━━━━━━━━━━━━━━━━━━━━━━━━━━━━━━\u001b[0m \u001b[32m135.6/135.6 kB\u001b[0m \u001b[31m16.6 MB/s\u001b[0m eta \u001b[36m0:00:00\u001b[0m\n",
            "\u001b[2K     \u001b[90m━━━━━━━━━━━━━━━━━━━━━━━━━━━━━━━━━━━━━━\u001b[0m \u001b[32m144.2/144.2 kB\u001b[0m \u001b[31m16.7 MB/s\u001b[0m eta \u001b[36m0:00:00\u001b[0m\n",
            "\u001b[2K     \u001b[90m━━━━━━━━━━━━━━━━━━━━━━━━━━━━━━━━━━━━━━\u001b[0m \u001b[32m135.3/135.3 kB\u001b[0m \u001b[31m16.7 MB/s\u001b[0m eta \u001b[36m0:00:00\u001b[0m\n",
            "\u001b[2K     \u001b[90m━━━━━━━━━━━━━━━━━━━━━━━━━━━━━━━━━━━━━━━━\u001b[0m \u001b[32m1.6/1.6 MB\u001b[0m \u001b[31m73.1 MB/s\u001b[0m eta \u001b[36m0:00:00\u001b[0m\n",
            "\u001b[?25h  Building wheel for filterpy (setup.py) ... \u001b[?25l\u001b[?25hdone\n",
            "  Building wheel for pykalman (setup.py) ... \u001b[?25l\u001b[?25hdone\n",
            "  Building wheel for pyod (setup.py) ... \u001b[?25l\u001b[?25hdone\n",
            "  Building wheel for keras-self-attention (setup.py) ... \u001b[?25l\u001b[?25hdone\n",
            "  Building wheel for plotly-resampler (pyproject.toml) ... \u001b[?25l\u001b[?25hdone\n",
            "  Building wheel for fugue-sql-antlr (setup.py) ... \u001b[?25l\u001b[?25hdone\n"
          ]
        }
      ]
    },
    {
      "cell_type": "code",
      "source": [
        "from sktime.datasets import load_UCR_UEA_dataset\n",
        "from sktime.datasets import load_italy_power_demand\n",
        "from sktime.utils.slope_and_trend import _slope"
      ],
      "metadata": {
        "id": "dE7t-P2xnl8A"
      },
      "execution_count": null,
      "outputs": []
    },
    {
      "cell_type": "code",
      "source": [
        "ECG200_Train = load_UCR_UEA_dataset('ECG200', split='train', return_type='numpy2D')\n",
        "ECG200_Test = load_UCR_UEA_dataset('ECG200', split='test', return_type='numpy2D')\n",
        "\n",
        "Earthquake_Train = load_UCR_UEA_dataset('Earthquakes', split='train', return_type='numpy2D')\n",
        "Earthquake_Test = load_UCR_UEA_dataset('Earthquakes', split='test', return_type='numpy2D')\n",
        "\n",
        "\n",
        "GunPoint_Train = load_UCR_UEA_dataset('GunPoint', split='train', return_type='numpy2D')\n",
        "GunPoint_Test = load_UCR_UEA_dataset('GunPoint', split='test', return_type='numpy2D')\n"
      ],
      "metadata": {
        "id": "Y7jjC8o5nq61"
      },
      "execution_count": null,
      "outputs": []
    },
    {
      "cell_type": "code",
      "source": [
        "GunPoint_Train = GunPoint_Train[0], GunPoint_Train[1].astype(int) - 1\n",
        "GunPoint_Test = GunPoint_Test[0], GunPoint_Test[1].astype(int) - 1"
      ],
      "metadata": {
        "id": "-b6epLzGThFk"
      },
      "execution_count": null,
      "outputs": []
    },
    {
      "cell_type": "markdown",
      "source": [
        "### Task 1: Time series classification using deep learning 1\n"
      ],
      "metadata": {
        "id": "h2NHZckcFUuu"
      }
    },
    {
      "cell_type": "markdown",
      "source": [
        "\n",
        "Time series classification problems can be solved using networks like CNN, RNN, or FCN. You can even try to merge different networks. In this task, you must test your three chosen datasets on four other models.\n",
        "\n",
        "Try to implement four different models: 1) Fully connected network, 2) **[Bi-directional RNN](https://keras.io/api/layers/recurrent_layers/bidirectional/)**, 3) 1D-CNN only, and 4) 1D-CNN + Any RNN variant. Note that you can always link the network to a fully connected layer to match the output size. You can freely construct any structure you want. Report the average test scores of four models on three datasets you chose. It would be four scores in total. Mark the best model in terms of the average test score. Briefly explain the structure you constructed. There is no definitive answer, and it is up to your own model. Here it would be best if you keep the following rules:\n",
        "\n",
        "- When initially loading the dataset, use sktime's `load_UCR_UEA_dataset` function. This is for our grading purpose.\n",
        "- You should use at least **two** Tensorflow callbacks when you fit your model. These can be built-in ones or your personalized callback.\n",
        "- You should use Tensorflow's data API (`tf.data`) to manage your dataset and use `shuffle`, `batch,` and `prefetch` functions. This means that you need to convert the data format using the `from_tensor_slices` function. This also means that you need to create your own validation set. You are not limited to using any methods to do this, but you may also need to shuffle the dataset before (for that, you can use `np.random.permutation`).\n",
        "- You need to clearly report the **test accuracy** of the four models. Training and validation accuracy scores are not enough.\n",
        "- You may need to deal with datasets of different sizes. In this case, it might be helpful to make a function to create a model that can receive different input sizes as a parameter.\n"
      ],
      "metadata": {
        "id": "cT53IJowFR6e"
      }
    },
    {
      "cell_type": "code",
      "source": [
        "import tensorflow as tf\n",
        "from tensorflow.keras.layers import Input, Dense, Dropout, Conv1D, MaxPooling1D, LSTM, Bidirectional, Flatten, GRU\n",
        "from tensorflow.keras.regularizers import l2\n",
        "from tensorflow.keras.models import Model, Sequential\n",
        "from tensorflow.keras.callbacks import EarlyStopping, ModelCheckpoint\n",
        "from tensorflow.keras.optimizers import Adam\n",
        "from tensorflow.keras.metrics import Accuracy\n",
        "from sklearn.model_selection import train_test_split\n",
        "\n",
        "import numpy as np\n",
        "from tensorflow import keras\n",
        "from tensorflow.keras.utils import to_categorical\n",
        "import matplotlib.pyplot as plt\n",
        "from sklearn.model_selection import train_test_split, RandomizedSearchCV\n",
        "from sklearn.metrics import accuracy_score\n",
        "from sklearn.base import BaseEstimator, TransformerMixin\n",
        "from sklearn.pipeline import Pipeline\n",
        "RANDOM_STATE = 12345"
      ],
      "metadata": {
        "id": "ejkNHc0eFB7w"
      },
      "execution_count": null,
      "outputs": []
    },
    {
      "cell_type": "code",
      "source": [
        "# Set random seeds for reproducibility\n",
        "import random\n",
        "seed_value = 42\n",
        "tf.random.set_seed(seed_value)\n",
        "np.random.seed(seed_value)\n",
        "random.seed(seed_value)"
      ],
      "metadata": {
        "id": "2BFQEhC6lJc3"
      },
      "execution_count": null,
      "outputs": []
    },
    {
      "cell_type": "code",
      "source": [
        "Ecg_train, Ecg_val, Ecg_ytest, Ecg_valtest = train_test_split(ECG200_Train[0],ECG200_Train[1], test_size=0.1,random_state=seed_value)"
      ],
      "metadata": {
        "id": "vIJEzpI24hda"
      },
      "execution_count": null,
      "outputs": []
    },
    {
      "cell_type": "code",
      "source": [
        "Eq_train, Eq_val, Eq_ytest, Eq_valtest = train_test_split(Earthquake_Train[0],Earthquake_Train[1], test_size=0.1,random_state=seed_value)"
      ],
      "metadata": {
        "id": "n62NhJfp44lp"
      },
      "execution_count": null,
      "outputs": []
    },
    {
      "cell_type": "code",
      "source": [
        "Gp_train, Gp_val, Gp_ytest, Gp_valtest = train_test_split(GunPoint_Train[0],GunPoint_Train[1], test_size=0.1,random_state=seed_value)"
      ],
      "metadata": {
        "id": "MHYfAvV45_b9"
      },
      "execution_count": null,
      "outputs": []
    },
    {
      "cell_type": "code",
      "source": [
        "def preprocess_data(X, y):\n",
        "    # Convert to TensorFlow dataset\n",
        "    dataset = tf.data.Dataset.from_tensor_slices((X, y))\n",
        "    # Shuffle and batch the data\n",
        "    dataset = dataset.shuffle(buffer_size=len(X))\n",
        "    dataset = dataset.batch(batch_size=16)\n",
        "    dataset = dataset.prefetch(buffer_size=tf.data.AUTOTUNE)\n",
        "    return dataset\n",
        "\n",
        "\n",
        "def load_data(X_train, y_train, X_test=None, y_test=None, val=True):\n",
        "  y_train_binary = to_categorical(y_train)\n",
        "  train_dataset = preprocess_data(X_train, y_train_binary)\n",
        "  if val:\n",
        "    y_test_binary = to_categorical(y_test)\n",
        "    val_dataset = preprocess_data(X_test, y_test_binary)\n",
        "    return train_dataset, val_dataset, X_train\n",
        "  return train_dataset\n",
        "\n",
        "\n",
        "\n"
      ],
      "metadata": {
        "id": "3uOIWEBS3yy1"
      },
      "execution_count": null,
      "outputs": []
    },
    {
      "cell_type": "code",
      "source": [
        "def load_data_rnn(X_train, y_train, X_test=None, y_test=None, timestep=1, val=True):\n",
        "  X_train = X_train.reshape(X_train.shape[0],X_train.shape[1],timestep)\n",
        "  y_train_binary = to_categorical(y_train)\n",
        "  train_dataset = preprocess_data(X_train, y_train_binary)\n",
        "  if val:\n",
        "    X_test = X_test.reshape(X_test.shape[0],X_test.shape[1],timestep)\n",
        "    y_test_binary = to_categorical(y_test)\n",
        "    val_dataset = preprocess_data(X_test, y_test_binary)\n",
        "    return train_dataset, val_dataset, X_train\n",
        "  return train_dataset"
      ],
      "metadata": {
        "id": "v9ypBqz2O4sk"
      },
      "execution_count": null,
      "outputs": []
    },
    {
      "cell_type": "markdown",
      "source": [
        "#Fully Connected Network"
      ],
      "metadata": {
        "id": "RftsYooonNow"
      }
    },
    {
      "cell_type": "code",
      "source": [
        "def create_fc_model(input_shape, num_classes):\n",
        "    inputs = Input(shape=input_shape)\n",
        "    x = Flatten()(inputs)\n",
        "    x = Dense(64, activation='relu')(x)\n",
        "    x = Dense(32, activation='relu')(x)\n",
        "    x = Dense(16, activation='relu')(x)\n",
        "    outputs = Dense(num_classes, activation='softmax')(x)\n",
        "    model = Model(inputs=inputs, outputs=outputs)\n",
        "    return model\n",
        "\n",
        "# Define the callbacks\n",
        "early_stopping = EarlyStopping(monitor='val_loss', patience=5, mode='min', restore_best_weights=True)\n",
        "model_checkpoint = ModelCheckpoint('FCN.h5', monitor='val_accuracy', mode='max', save_best_only=True, save_weights_only=False)\n",
        "\n",
        "# Create the model\n",
        "def train_model(train_dataset, val_dataset, test_dataset, X_train, num_classes, epochs, lr=0.01):\n",
        "  model = create_fc_model(input_shape=X_train.shape[1:], num_classes=num_classes)\n",
        "  optimizer = Adam(learning_rate=lr)\n",
        "  model.compile(optimizer=optimizer, loss='categorical_crossentropy', metrics=['accuracy'])\n",
        "  history = model.fit(train_dataset, epochs=epochs, validation_data=val_dataset, callbacks=[early_stopping, model_checkpoint])\n",
        "  test_loss, test_acc = model.evaluate(test_dataset)\n",
        "  print('Test accuracy:', test_acc)\n",
        "  return test_loss, test_acc\n"
      ],
      "metadata": {
        "id": "dWGxSD_n39C0"
      },
      "execution_count": null,
      "outputs": []
    },
    {
      "cell_type": "code",
      "source": [
        "train_dataset, val_dataset, inputs = load_data(Ecg_train, Ecg_ytest, Ecg_val, Ecg_valtest, val=True)\n",
        "test_dataset = load_data(ECG200_Test[0],ECG200_Test[1],val=False)\n",
        "\n",
        "ECG_loss, ECG_acc = train_model(train_dataset, val_dataset, test_dataset, inputs, 2, 100)"
      ],
      "metadata": {
        "colab": {
          "base_uri": "https://localhost:8080/"
        },
        "id": "qFb3GT0anV6Y",
        "outputId": "de354b63-ba40-40a8-9eb6-0474c6392a8b"
      },
      "execution_count": null,
      "outputs": [
        {
          "output_type": "stream",
          "name": "stdout",
          "text": [
            "Epoch 1/100\n",
            "6/6 [==============================] - 5s 108ms/step - loss: 0.1315 - accuracy: 0.9667 - val_loss: 0.0000e+00 - val_accuracy: 1.0000\n",
            "Epoch 2/100\n",
            "6/6 [==============================] - 0s 7ms/step - loss: 7.0201e-08 - accuracy: 1.0000 - val_loss: 0.0000e+00 - val_accuracy: 1.0000\n",
            "Epoch 3/100\n",
            "6/6 [==============================] - 0s 6ms/step - loss: 0.0000e+00 - accuracy: 1.0000 - val_loss: 0.0000e+00 - val_accuracy: 1.0000\n",
            "Epoch 4/100\n",
            "6/6 [==============================] - 0s 14ms/step - loss: 0.0000e+00 - accuracy: 1.0000 - val_loss: 0.0000e+00 - val_accuracy: 1.0000\n",
            "Epoch 5/100\n",
            "6/6 [==============================] - 0s 6ms/step - loss: 0.0000e+00 - accuracy: 1.0000 - val_loss: 0.0000e+00 - val_accuracy: 1.0000\n",
            "Epoch 6/100\n",
            "6/6 [==============================] - 0s 18ms/step - loss: 0.0000e+00 - accuracy: 1.0000 - val_loss: 0.0000e+00 - val_accuracy: 1.0000\n",
            "7/7 [==============================] - 0s 3ms/step - loss: 6.7937e-05 - accuracy: 1.0000\n",
            "Test accuracy: 1.0\n"
          ]
        }
      ]
    },
    {
      "cell_type": "code",
      "source": [
        "train_dataset, val_dataset, inputs = load_data(Eq_train, Eq_ytest, Eq_val, Eq_valtest, val=True)\n",
        "test_dataset = load_data(Earthquake_Test[0],Earthquake_Test[1],val=False)\n",
        "\n",
        "Eq_loss, Eq_acc = train_model(train_dataset, val_dataset, test_dataset, inputs, 2, 100)"
      ],
      "metadata": {
        "colab": {
          "base_uri": "https://localhost:8080/"
        },
        "id": "F7XnmuHzFhxD",
        "outputId": "313b95a3-6417-419e-f374-5c50b16999ca"
      },
      "execution_count": null,
      "outputs": [
        {
          "output_type": "stream",
          "name": "stdout",
          "text": [
            "Epoch 1/100\n",
            "19/19 [==============================] - 2s 21ms/step - loss: 0.5959 - accuracy: 0.7785 - val_loss: 0.4254 - val_accuracy: 0.8182\n",
            "Epoch 2/100\n",
            "19/19 [==============================] - 0s 6ms/step - loss: 0.3836 - accuracy: 0.8304 - val_loss: 0.5437 - val_accuracy: 0.5758\n",
            "Epoch 3/100\n",
            "19/19 [==============================] - 0s 9ms/step - loss: 0.1266 - accuracy: 0.9481 - val_loss: 0.5498 - val_accuracy: 0.7273\n",
            "Epoch 4/100\n",
            "19/19 [==============================] - 0s 9ms/step - loss: 0.0211 - accuracy: 0.9965 - val_loss: 0.8555 - val_accuracy: 0.7273\n",
            "Epoch 5/100\n",
            "19/19 [==============================] - 0s 5ms/step - loss: 0.0032 - accuracy: 1.0000 - val_loss: 0.9681 - val_accuracy: 0.6970\n",
            "Epoch 6/100\n",
            "19/19 [==============================] - 0s 7ms/step - loss: 3.3739e-04 - accuracy: 1.0000 - val_loss: 1.0255 - val_accuracy: 0.7273\n",
            "9/9 [==============================] - 0s 3ms/step - loss: 0.6289 - accuracy: 0.7338\n",
            "Test accuracy: 0.7338129281997681\n"
          ]
        }
      ]
    },
    {
      "cell_type": "code",
      "source": [
        "train_dataset, val_dataset, inputs = load_data(Gp_train, Gp_ytest, Gp_val, Gp_valtest, val=True)\n",
        "test_dataset = load_data(GunPoint_Test[0],GunPoint_Test[1],val=False)\n",
        "\n",
        "Gp_loss, Gp_acc = train_model(train_dataset, val_dataset, test_dataset, inputs, 2, 100)"
      ],
      "metadata": {
        "colab": {
          "base_uri": "https://localhost:8080/"
        },
        "id": "DM-UeeokGXbS",
        "outputId": "2dcbac0d-d923-427e-bad0-cae1ece8d3a7"
      },
      "execution_count": null,
      "outputs": [
        {
          "output_type": "stream",
          "name": "stdout",
          "text": [
            "Epoch 1/100\n",
            "3/3 [==============================] - 2s 170ms/step - loss: 0.7457 - accuracy: 0.5111 - val_loss: 0.6687 - val_accuracy: 0.6000\n",
            "Epoch 2/100\n",
            "3/3 [==============================] - 0s 26ms/step - loss: 0.6921 - accuracy: 0.5778 - val_loss: 0.9217 - val_accuracy: 0.4000\n",
            "Epoch 3/100\n",
            "3/3 [==============================] - 0s 41ms/step - loss: 0.6934 - accuracy: 0.5778 - val_loss: 0.6139 - val_accuracy: 0.6000\n",
            "Epoch 4/100\n",
            "3/3 [==============================] - 0s 34ms/step - loss: 0.4131 - accuracy: 0.8222 - val_loss: 0.4415 - val_accuracy: 1.0000\n",
            "Epoch 5/100\n",
            "3/3 [==============================] - 0s 43ms/step - loss: 0.4043 - accuracy: 0.8222 - val_loss: 0.4839 - val_accuracy: 0.8000\n",
            "Epoch 6/100\n",
            "3/3 [==============================] - 0s 19ms/step - loss: 0.3439 - accuracy: 0.8444 - val_loss: 0.3505 - val_accuracy: 0.8000\n",
            "Epoch 7/100\n",
            "3/3 [==============================] - 0s 26ms/step - loss: 0.2746 - accuracy: 0.8889 - val_loss: 0.2438 - val_accuracy: 0.8000\n",
            "Epoch 8/100\n",
            "3/3 [==============================] - 0s 26ms/step - loss: 0.2317 - accuracy: 0.9111 - val_loss: 0.1284 - val_accuracy: 1.0000\n",
            "Epoch 9/100\n",
            "3/3 [==============================] - 0s 30ms/step - loss: 0.2214 - accuracy: 0.8444 - val_loss: 0.1619 - val_accuracy: 1.0000\n",
            "Epoch 10/100\n",
            "3/3 [==============================] - 0s 23ms/step - loss: 0.2059 - accuracy: 0.8889 - val_loss: 0.1648 - val_accuracy: 0.8000\n",
            "Epoch 11/100\n",
            "3/3 [==============================] - 0s 28ms/step - loss: 0.1786 - accuracy: 0.8889 - val_loss: 0.1399 - val_accuracy: 1.0000\n",
            "Epoch 12/100\n",
            "3/3 [==============================] - 0s 14ms/step - loss: 0.2341 - accuracy: 0.8000 - val_loss: 0.2707 - val_accuracy: 0.8000\n",
            "Epoch 13/100\n",
            "3/3 [==============================] - 0s 28ms/step - loss: 0.1968 - accuracy: 0.9111 - val_loss: 0.1248 - val_accuracy: 1.0000\n",
            "Epoch 14/100\n",
            "3/3 [==============================] - 0s 25ms/step - loss: 0.2013 - accuracy: 0.8889 - val_loss: 0.0877 - val_accuracy: 1.0000\n",
            "Epoch 15/100\n",
            "3/3 [==============================] - 0s 31ms/step - loss: 0.1236 - accuracy: 0.9333 - val_loss: 0.2486 - val_accuracy: 0.8000\n",
            "Epoch 16/100\n",
            "3/3 [==============================] - 0s 38ms/step - loss: 0.1427 - accuracy: 0.9111 - val_loss: 0.0307 - val_accuracy: 1.0000\n",
            "Epoch 17/100\n",
            "3/3 [==============================] - 0s 27ms/step - loss: 0.1795 - accuracy: 0.8667 - val_loss: 0.0550 - val_accuracy: 1.0000\n",
            "Epoch 18/100\n",
            "3/3 [==============================] - 0s 30ms/step - loss: 0.1237 - accuracy: 0.9778 - val_loss: 0.1496 - val_accuracy: 0.8000\n",
            "Epoch 19/100\n",
            "3/3 [==============================] - 0s 33ms/step - loss: 0.1338 - accuracy: 0.9333 - val_loss: 0.1326 - val_accuracy: 1.0000\n",
            "Epoch 20/100\n",
            "3/3 [==============================] - 0s 29ms/step - loss: 0.1131 - accuracy: 0.9556 - val_loss: 0.0432 - val_accuracy: 1.0000\n",
            "Epoch 21/100\n",
            "3/3 [==============================] - 0s 33ms/step - loss: 0.1155 - accuracy: 0.9778 - val_loss: 0.0990 - val_accuracy: 1.0000\n",
            "10/10 [==============================] - 0s 4ms/step - loss: 0.3894 - accuracy: 0.7533\n",
            "Test accuracy: 0.753333330154419\n"
          ]
        }
      ]
    },
    {
      "cell_type": "code",
      "source": [
        "Avg_test_acc = np.mean([ECG_acc, Eq_acc, Gp_acc])\n",
        "Avg_test_loss = np.mean([ECG_loss, Eq_loss, Gp_loss])\n",
        "print(f\"Average Test Accuracy of the Fully Connected Network:{round(Avg_test_acc,4)}\")\n",
        "print(f\"Average Test Loss of the Fully Connected Network: {round(Avg_test_loss,4)}\")"
      ],
      "metadata": {
        "colab": {
          "base_uri": "https://localhost:8080/"
        },
        "id": "xXGulsIUCxmn",
        "outputId": "31b0bbdf-a53d-413d-970c-93592cfa76be"
      },
      "execution_count": null,
      "outputs": [
        {
          "output_type": "stream",
          "name": "stdout",
          "text": [
            "Average Test Accuracy of the Fully Connected Network:0.829\n",
            "Average Test Loss of the Fully Connected Network: 0.3394\n"
          ]
        }
      ]
    },
    {
      "cell_type": "markdown",
      "source": [
        "#Bi-Directional RNN"
      ],
      "metadata": {
        "id": "BMnk_ShCMp6B"
      }
    },
    {
      "cell_type": "code",
      "source": [
        "def create_bidirectional_rnn_model(input_shape, num_classes, num_units=64, dropout_rate=0.2):\n",
        "    model = Sequential([\n",
        "        Input(shape=input_shape),\n",
        "        Bidirectional(GRU(num_units, dropout=dropout_rate, recurrent_dropout=dropout_rate, return_sequences=True)),\n",
        "        Bidirectional(GRU(num_units, dropout=dropout_rate, recurrent_dropout=dropout_rate)),\n",
        "        Dense(num_classes, activation='softmax')\n",
        "    ])\n",
        "    return model\n",
        "\n",
        "# Define the callbacks\n",
        "early_stopping = EarlyStopping(monitor='val_loss', patience=5, mode='min', restore_best_weights=True)\n",
        "model_checkpoint = ModelCheckpoint('bidirectional_rnn_model.h5', monitor='val_accuracy', mode='max', save_best_only=True, save_weights_only=False)\n",
        "\n",
        "# Create the model\n",
        "def train_model(train_dataset, val_dataset, test_dataset, X_train, num_classes, epochs, lr=0.01):\n",
        "  model = create_bidirectional_rnn_model(input_shape=X_train.shape[1:], num_classes=num_classes)\n",
        "  optimizer = Adam(learning_rate=lr)\n",
        "  model.compile(optimizer=optimizer, loss='categorical_crossentropy', metrics=['accuracy'])\n",
        "  history = model.fit(train_dataset, epochs=epochs, validation_data=val_dataset, callbacks=[early_stopping, model_checkpoint])\n",
        "  test_loss, test_acc = model.evaluate(test_dataset)\n",
        "  print('Test accuracy:', test_acc)\n",
        "  return test_loss, test_acc"
      ],
      "metadata": {
        "id": "GS0KXul6Moz2"
      },
      "execution_count": null,
      "outputs": []
    },
    {
      "cell_type": "code",
      "source": [
        "train_dataset, val_dataset, inputs = load_data_rnn(Ecg_train, Ecg_ytest, Ecg_val, Ecg_valtest, val=True)\n",
        "test_dataset = load_data_rnn(ECG200_Test[0],ECG200_Test[1],val=False)\n",
        "\n",
        "ECG_loss, ECG_acc = train_model(train_dataset, val_dataset, test_dataset, inputs, 2, 100)"
      ],
      "metadata": {
        "colab": {
          "base_uri": "https://localhost:8080/"
        },
        "id": "BlPJXl6YN8N3",
        "outputId": "0a029a68-98db-477d-dca3-85d427761680"
      },
      "execution_count": null,
      "outputs": [
        {
          "output_type": "stream",
          "name": "stdout",
          "text": [
            "Epoch 1/100\n",
            "6/6 [==============================] - 18s 892ms/step - loss: 0.1508 - accuracy: 0.8333 - val_loss: 2.2868e-04 - val_accuracy: 1.0000\n",
            "Epoch 2/100\n",
            "6/6 [==============================] - 3s 538ms/step - loss: 4.3587e-06 - accuracy: 1.0000 - val_loss: 3.2804e-04 - val_accuracy: 1.0000\n",
            "Epoch 3/100\n",
            "6/6 [==============================] - 2s 379ms/step - loss: 5.2451e-07 - accuracy: 1.0000 - val_loss: 3.8965e-04 - val_accuracy: 1.0000\n",
            "Epoch 4/100\n",
            "6/6 [==============================] - 2s 374ms/step - loss: 1.5077e-05 - accuracy: 1.0000 - val_loss: 2.7354e-04 - val_accuracy: 1.0000\n",
            "Epoch 5/100\n",
            "6/6 [==============================] - 2s 378ms/step - loss: 0.0000e+00 - accuracy: 1.0000 - val_loss: 0.0000e+00 - val_accuracy: 1.0000\n",
            "Epoch 6/100\n",
            "6/6 [==============================] - 4s 729ms/step - loss: 5.2982e-09 - accuracy: 1.0000 - val_loss: 0.0000e+00 - val_accuracy: 1.0000\n",
            "Epoch 7/100\n",
            "6/6 [==============================] - 3s 374ms/step - loss: 0.0000e+00 - accuracy: 1.0000 - val_loss: 0.0000e+00 - val_accuracy: 1.0000\n",
            "Epoch 8/100\n",
            "6/6 [==============================] - 4s 707ms/step - loss: 0.0000e+00 - accuracy: 1.0000 - val_loss: 0.0000e+00 - val_accuracy: 1.0000\n",
            "Epoch 9/100\n",
            "6/6 [==============================] - 3s 502ms/step - loss: 0.0000e+00 - accuracy: 1.0000 - val_loss: 0.0000e+00 - val_accuracy: 1.0000\n",
            "Epoch 10/100\n",
            "6/6 [==============================] - 3s 601ms/step - loss: 0.0000e+00 - accuracy: 1.0000 - val_loss: 0.0000e+00 - val_accuracy: 1.0000\n",
            "7/7 [==============================] - 1s 83ms/step - loss: 0.0000e+00 - accuracy: 1.0000\n",
            "Test accuracy: 1.0\n"
          ]
        }
      ]
    },
    {
      "cell_type": "code",
      "source": [
        "train_dataset, val_dataset, inputs = load_data_rnn(Eq_train, Eq_ytest, Eq_val, Eq_valtest, val=True)\n",
        "test_dataset = load_data_rnn(Earthquake_Test[0],Earthquake_Test[1],val=False)\n",
        "\n",
        "Eq_loss, Eq_acc = train_model(train_dataset, val_dataset, test_dataset, inputs, 2, 100)"
      ],
      "metadata": {
        "colab": {
          "base_uri": "https://localhost:8080/"
        },
        "id": "6C5Xnz-6N8gE",
        "outputId": "1317c4f0-c916-4e25-cdfa-be8b4b7f9e27"
      },
      "execution_count": null,
      "outputs": [
        {
          "output_type": "stream",
          "name": "stdout",
          "text": [
            "Epoch 1/100\n",
            "19/19 [==============================] - 61s 3s/step - loss: 0.5069 - accuracy: 0.8235 - val_loss: 0.4247 - val_accuracy: 0.8485\n",
            "Epoch 2/100\n",
            "19/19 [==============================] - 66s 4s/step - loss: 0.4614 - accuracy: 0.8166 - val_loss: 0.4140 - val_accuracy: 0.8788\n",
            "Epoch 3/100\n",
            "19/19 [==============================] - 49s 3s/step - loss: 0.4498 - accuracy: 0.8270 - val_loss: 0.4320 - val_accuracy: 0.8485\n",
            "Epoch 4/100\n",
            "19/19 [==============================] - 54s 3s/step - loss: 0.4382 - accuracy: 0.8304 - val_loss: 0.4615 - val_accuracy: 0.8485\n",
            "Epoch 5/100\n",
            "19/19 [==============================] - 49s 3s/step - loss: 0.4520 - accuracy: 0.8062 - val_loss: 0.4230 - val_accuracy: 0.8485\n",
            "Epoch 6/100\n",
            "19/19 [==============================] - 52s 3s/step - loss: 0.4282 - accuracy: 0.8131 - val_loss: 0.4943 - val_accuracy: 0.7576\n",
            "Epoch 7/100\n",
            "19/19 [==============================] - 49s 3s/step - loss: 0.4124 - accuracy: 0.8339 - val_loss: 0.4920 - val_accuracy: 0.7273\n",
            "9/9 [==============================] - 2s 209ms/step - loss: 0.5214 - accuracy: 0.7770\n",
            "Test accuracy: 0.7769784331321716\n"
          ]
        }
      ]
    },
    {
      "cell_type": "code",
      "source": [
        "train_dataset, val_dataset, inputs = load_data_rnn(Gp_train, Gp_ytest, Gp_val, Gp_valtest, val=True)\n",
        "test_dataset = load_data_rnn(GunPoint_Test[0],GunPoint_Test[1],val=False)\n",
        "\n",
        "Gp_loss, Gp_acc = train_model(train_dataset, val_dataset, test_dataset, inputs, 2, 100)"
      ],
      "metadata": {
        "colab": {
          "base_uri": "https://localhost:8080/"
        },
        "id": "_QzYTbLhN8se",
        "outputId": "fceaaf51-049f-4b49-a13b-9e3945acf8b6"
      },
      "execution_count": null,
      "outputs": [
        {
          "output_type": "stream",
          "name": "stdout",
          "text": [
            "Epoch 1/100\n",
            "3/3 [==============================] - 16s 1s/step - loss: 1.1354 - accuracy: 0.4889 - val_loss: 0.7559 - val_accuracy: 0.4000\n",
            "Epoch 2/100\n",
            "3/3 [==============================] - 2s 601ms/step - loss: 0.7504 - accuracy: 0.4889 - val_loss: 0.6837 - val_accuracy: 0.6000\n",
            "Epoch 3/100\n",
            "3/3 [==============================] - 3s 1s/step - loss: 0.7021 - accuracy: 0.5556 - val_loss: 0.7024 - val_accuracy: 0.6000\n",
            "Epoch 4/100\n",
            "3/3 [==============================] - 4s 1s/step - loss: 0.6924 - accuracy: 0.5111 - val_loss: 0.7206 - val_accuracy: 0.4000\n",
            "Epoch 5/100\n",
            "3/3 [==============================] - 4s 1s/step - loss: 0.6996 - accuracy: 0.4889 - val_loss: 0.7310 - val_accuracy: 0.4000\n",
            "Epoch 6/100\n",
            "3/3 [==============================] - 2s 678ms/step - loss: 0.7049 - accuracy: 0.4889 - val_loss: 0.7201 - val_accuracy: 0.4000\n",
            "Epoch 7/100\n",
            "3/3 [==============================] - 2s 601ms/step - loss: 0.6964 - accuracy: 0.4444 - val_loss: 0.7020 - val_accuracy: 0.6000\n",
            "10/10 [==============================] - 1s 69ms/step - loss: 0.6972 - accuracy: 0.4867\n",
            "Test accuracy: 0.4866666793823242\n"
          ]
        }
      ]
    },
    {
      "cell_type": "code",
      "source": [
        "Avg_test_acc = np.mean([ECG_acc, Eq_acc, Gp_acc])\n",
        "Avg_test_loss = np.mean([ECG_loss, Eq_loss, Gp_loss])\n",
        "print(f\"Average Test Accuracy of the Bi-Directional RNN:{round(Avg_test_acc,4)}\")\n",
        "print(f\"Average Test Loss of the Bi-Directional RNN: {round(Avg_test_loss,4)}\")"
      ],
      "metadata": {
        "colab": {
          "base_uri": "https://localhost:8080/"
        },
        "id": "ZSlKYihhF3_Z",
        "outputId": "103eb4ea-7b68-43e4-809d-5ace939f325a"
      },
      "execution_count": null,
      "outputs": [
        {
          "output_type": "stream",
          "name": "stdout",
          "text": [
            "Average Test Accuracy of the Bi-Directional RNN:0.7545\n",
            "Average Test Loss of the Bi-Directional RNN: 0.4062\n"
          ]
        }
      ]
    },
    {
      "cell_type": "markdown",
      "source": [
        "#1D-CNN Only"
      ],
      "metadata": {
        "id": "SlhOhZrcUHgj"
      }
    },
    {
      "cell_type": "code",
      "source": [
        "def create_1d_cnn_model(input_shape, num_classes, num_filters=64, kernel_size=5, pool_size=2, dropout_rate=0.2):\n",
        "    model = Sequential([\n",
        "        Input(shape=input_shape),\n",
        "        Conv1D(num_filters, kernel_size, padding='same', kernel_regularizer=l2(0.01)),\n",
        "        keras.layers.BatchNormalization(),\n",
        "        keras.layers.Activation('relu'),\n",
        "        keras.layers.MaxPooling1D(pool_size=pool_size),\n",
        "        Conv1D(num_filters, kernel_size, padding='same', kernel_regularizer=l2(0.01)),\n",
        "        keras.layers.BatchNormalization(),\n",
        "        keras.layers.Activation('relu'),\n",
        "        keras.layers.MaxPooling1D(pool_size=pool_size),\n",
        "        Flatten(),\n",
        "        Dropout(dropout_rate),\n",
        "        Dense(num_classes, activation='softmax')\n",
        "    ])\n",
        "    return model\n",
        "\n",
        "# Define the callbacks\n",
        "early_stopping = EarlyStopping(monitor='val_loss', patience=5, mode='min', restore_best_weights=True)\n",
        "model_checkpoint = ModelCheckpoint('1d_cnn_model.h5', monitor='val_accuracy', mode='max', save_best_only=True, save_weights_only=False)\n",
        "\n",
        "# Create the model\n",
        "def train_model(train_dataset, val_dataset, test_dataset, X_train, num_classes, epochs, lr=0.01):\n",
        "  model = create_1d_cnn_model(input_shape=X_train.shape[1:], num_classes=num_classes)\n",
        "  optimizer = Adam(learning_rate=lr)\n",
        "  model.compile(optimizer=optimizer, loss='categorical_crossentropy', metrics=['accuracy'])\n",
        "  history = model.fit(train_dataset, epochs=epochs, validation_data=val_dataset, callbacks=[early_stopping, model_checkpoint])\n",
        "  test_loss, test_acc = model.evaluate(test_dataset)\n",
        "  print('Test accuracy:', test_acc)\n",
        "  return test_loss, test_acc"
      ],
      "metadata": {
        "id": "BgnnWrp4UQCm"
      },
      "execution_count": null,
      "outputs": []
    },
    {
      "cell_type": "code",
      "source": [
        "train_dataset, val_dataset, inputs = load_data_rnn(Ecg_train, Ecg_ytest, Ecg_val, Ecg_valtest, val=True)\n",
        "test_dataset = load_data_rnn(ECG200_Test[0],ECG200_Test[1],val=False)\n",
        "\n",
        "ECG_loss, ECG_acc = train_model(train_dataset, val_dataset, test_dataset, inputs, 2, 100)"
      ],
      "metadata": {
        "colab": {
          "base_uri": "https://localhost:8080/"
        },
        "id": "LhlmtyLKUQdP",
        "outputId": "6e57173d-6b0b-4b1e-fed3-b461eccbcdec"
      },
      "execution_count": null,
      "outputs": [
        {
          "output_type": "stream",
          "name": "stdout",
          "text": [
            "Epoch 1/100\n",
            "6/6 [==============================] - 2s 65ms/step - loss: 0.9121 - accuracy: 0.8778 - val_loss: 0.7769 - val_accuracy: 1.0000\n",
            "Epoch 2/100\n",
            "6/6 [==============================] - 0s 17ms/step - loss: 0.7974 - accuracy: 1.0000 - val_loss: 0.8090 - val_accuracy: 1.0000\n",
            "Epoch 3/100\n",
            "6/6 [==============================] - 0s 15ms/step - loss: 0.7960 - accuracy: 1.0000 - val_loss: 0.7634 - val_accuracy: 1.0000\n",
            "Epoch 4/100\n",
            "6/6 [==============================] - 0s 15ms/step - loss: 0.7321 - accuracy: 1.0000 - val_loss: 0.6779 - val_accuracy: 1.0000\n",
            "Epoch 5/100\n",
            "6/6 [==============================] - 0s 14ms/step - loss: 0.6402 - accuracy: 1.0000 - val_loss: 0.5804 - val_accuracy: 1.0000\n",
            "Epoch 6/100\n",
            "6/6 [==============================] - 0s 14ms/step - loss: 0.5433 - accuracy: 1.0000 - val_loss: 0.4867 - val_accuracy: 1.0000\n",
            "Epoch 7/100\n",
            "6/6 [==============================] - 0s 15ms/step - loss: 0.4534 - accuracy: 1.0000 - val_loss: 0.4035 - val_accuracy: 1.0000\n",
            "Epoch 8/100\n",
            "6/6 [==============================] - 0s 14ms/step - loss: 0.3750 - accuracy: 1.0000 - val_loss: 0.3328 - val_accuracy: 1.0000\n",
            "Epoch 9/100\n",
            "6/6 [==============================] - 0s 14ms/step - loss: 0.3091 - accuracy: 1.0000 - val_loss: 0.2742 - val_accuracy: 1.0000\n",
            "Epoch 10/100\n",
            "6/6 [==============================] - 0s 17ms/step - loss: 0.2548 - accuracy: 1.0000 - val_loss: 0.2263 - val_accuracy: 1.0000\n",
            "Epoch 11/100\n",
            "6/6 [==============================] - 0s 16ms/step - loss: 0.2104 - accuracy: 1.0000 - val_loss: 0.1873 - val_accuracy: 1.0000\n",
            "Epoch 12/100\n",
            "6/6 [==============================] - 0s 16ms/step - loss: 0.1745 - accuracy: 1.0000 - val_loss: 0.1558 - val_accuracy: 1.0000\n",
            "Epoch 13/100\n",
            "6/6 [==============================] - 0s 14ms/step - loss: 0.1454 - accuracy: 1.0000 - val_loss: 0.1302 - val_accuracy: 1.0000\n",
            "Epoch 14/100\n",
            "6/6 [==============================] - 0s 15ms/step - loss: 0.1217 - accuracy: 1.0000 - val_loss: 0.1094 - val_accuracy: 1.0000\n",
            "Epoch 15/100\n",
            "6/6 [==============================] - 0s 14ms/step - loss: 0.1025 - accuracy: 1.0000 - val_loss: 0.0924 - val_accuracy: 1.0000\n",
            "Epoch 16/100\n",
            "6/6 [==============================] - 0s 17ms/step - loss: 0.0868 - accuracy: 1.0000 - val_loss: 0.0785 - val_accuracy: 1.0000\n",
            "Epoch 17/100\n",
            "6/6 [==============================] - 0s 14ms/step - loss: 0.0738 - accuracy: 1.0000 - val_loss: 0.0670 - val_accuracy: 1.0000\n",
            "Epoch 18/100\n",
            "6/6 [==============================] - 0s 17ms/step - loss: 0.0631 - accuracy: 1.0000 - val_loss: 0.0575 - val_accuracy: 1.0000\n",
            "Epoch 19/100\n",
            "6/6 [==============================] - 0s 14ms/step - loss: 0.0543 - accuracy: 1.0000 - val_loss: 0.0496 - val_accuracy: 1.0000\n",
            "Epoch 20/100\n",
            "6/6 [==============================] - 0s 14ms/step - loss: 0.0469 - accuracy: 1.0000 - val_loss: 0.0429 - val_accuracy: 1.0000\n",
            "Epoch 21/100\n",
            "6/6 [==============================] - 0s 14ms/step - loss: 0.0407 - accuracy: 1.0000 - val_loss: 0.0374 - val_accuracy: 1.0000\n",
            "Epoch 22/100\n",
            "6/6 [==============================] - 0s 15ms/step - loss: 0.0355 - accuracy: 1.0000 - val_loss: 0.0327 - val_accuracy: 1.0000\n",
            "Epoch 23/100\n",
            "6/6 [==============================] - 0s 14ms/step - loss: 0.0311 - accuracy: 1.0000 - val_loss: 0.0287 - val_accuracy: 1.0000\n",
            "Epoch 24/100\n",
            "6/6 [==============================] - 0s 14ms/step - loss: 0.0273 - accuracy: 1.0000 - val_loss: 0.0253 - val_accuracy: 1.0000\n",
            "Epoch 25/100\n",
            "6/6 [==============================] - 0s 14ms/step - loss: 0.0242 - accuracy: 1.0000 - val_loss: 0.0224 - val_accuracy: 1.0000\n",
            "Epoch 26/100\n",
            "6/6 [==============================] - 0s 15ms/step - loss: 0.0214 - accuracy: 1.0000 - val_loss: 0.0199 - val_accuracy: 1.0000\n",
            "Epoch 27/100\n",
            "6/6 [==============================] - 0s 14ms/step - loss: 0.0191 - accuracy: 1.0000 - val_loss: 0.0178 - val_accuracy: 1.0000\n",
            "Epoch 28/100\n",
            "6/6 [==============================] - 0s 14ms/step - loss: 0.0171 - accuracy: 1.0000 - val_loss: 0.0160 - val_accuracy: 1.0000\n",
            "Epoch 29/100\n",
            "6/6 [==============================] - 0s 12ms/step - loss: 0.0153 - accuracy: 1.0000 - val_loss: 0.0144 - val_accuracy: 1.0000\n",
            "Epoch 30/100\n",
            "6/6 [==============================] - 0s 21ms/step - loss: 0.0138 - accuracy: 1.0000 - val_loss: 0.0130 - val_accuracy: 1.0000\n",
            "Epoch 31/100\n",
            "6/6 [==============================] - 0s 23ms/step - loss: 0.0125 - accuracy: 1.0000 - val_loss: 0.0117 - val_accuracy: 1.0000\n",
            "Epoch 32/100\n",
            "6/6 [==============================] - 0s 20ms/step - loss: 0.0113 - accuracy: 1.0000 - val_loss: 0.0107 - val_accuracy: 1.0000\n",
            "Epoch 33/100\n",
            "6/6 [==============================] - 0s 21ms/step - loss: 0.0103 - accuracy: 1.0000 - val_loss: 0.0097 - val_accuracy: 1.0000\n",
            "Epoch 34/100\n",
            "6/6 [==============================] - 0s 20ms/step - loss: 0.0094 - accuracy: 1.0000 - val_loss: 0.0089 - val_accuracy: 1.0000\n",
            "Epoch 35/100\n",
            "6/6 [==============================] - 0s 19ms/step - loss: 0.0086 - accuracy: 1.0000 - val_loss: 0.0082 - val_accuracy: 1.0000\n",
            "Epoch 36/100\n",
            "6/6 [==============================] - 0s 21ms/step - loss: 0.0079 - accuracy: 1.0000 - val_loss: 0.0075 - val_accuracy: 1.0000\n",
            "Epoch 37/100\n",
            "6/6 [==============================] - 0s 20ms/step - loss: 0.0073 - accuracy: 1.0000 - val_loss: 0.0069 - val_accuracy: 1.0000\n",
            "Epoch 38/100\n",
            "6/6 [==============================] - 0s 20ms/step - loss: 0.0067 - accuracy: 1.0000 - val_loss: 0.0064 - val_accuracy: 1.0000\n",
            "Epoch 39/100\n",
            "6/6 [==============================] - 0s 20ms/step - loss: 0.0062 - accuracy: 1.0000 - val_loss: 0.0059 - val_accuracy: 1.0000\n",
            "Epoch 40/100\n",
            "6/6 [==============================] - 0s 27ms/step - loss: 0.0058 - accuracy: 1.0000 - val_loss: 0.0055 - val_accuracy: 1.0000\n",
            "Epoch 41/100\n",
            "6/6 [==============================] - 0s 24ms/step - loss: 0.0054 - accuracy: 1.0000 - val_loss: 0.0051 - val_accuracy: 1.0000\n",
            "Epoch 42/100\n",
            "6/6 [==============================] - 0s 22ms/step - loss: 0.0050 - accuracy: 1.0000 - val_loss: 0.0048 - val_accuracy: 1.0000\n",
            "Epoch 43/100\n",
            "6/6 [==============================] - 0s 23ms/step - loss: 0.0047 - accuracy: 1.0000 - val_loss: 0.0045 - val_accuracy: 1.0000\n",
            "Epoch 44/100\n",
            "6/6 [==============================] - 0s 21ms/step - loss: 0.0044 - accuracy: 1.0000 - val_loss: 0.0042 - val_accuracy: 1.0000\n",
            "Epoch 45/100\n",
            "6/6 [==============================] - 0s 22ms/step - loss: 0.0041 - accuracy: 1.0000 - val_loss: 0.0039 - val_accuracy: 1.0000\n",
            "Epoch 46/100\n",
            "6/6 [==============================] - 0s 23ms/step - loss: 0.0038 - accuracy: 1.0000 - val_loss: 0.0037 - val_accuracy: 1.0000\n",
            "Epoch 47/100\n",
            "6/6 [==============================] - 0s 26ms/step - loss: 0.0036 - accuracy: 1.0000 - val_loss: 0.0035 - val_accuracy: 1.0000\n",
            "Epoch 48/100\n",
            "6/6 [==============================] - 0s 23ms/step - loss: 0.0034 - accuracy: 1.0000 - val_loss: 0.0033 - val_accuracy: 1.0000\n",
            "Epoch 49/100\n",
            "6/6 [==============================] - 0s 21ms/step - loss: 0.0032 - accuracy: 1.0000 - val_loss: 0.0031 - val_accuracy: 1.0000\n",
            "Epoch 50/100\n",
            "6/6 [==============================] - 0s 21ms/step - loss: 0.0030 - accuracy: 1.0000 - val_loss: 0.0029 - val_accuracy: 1.0000\n",
            "Epoch 51/100\n",
            "6/6 [==============================] - 0s 23ms/step - loss: 0.0029 - accuracy: 1.0000 - val_loss: 0.0028 - val_accuracy: 1.0000\n",
            "Epoch 52/100\n",
            "6/6 [==============================] - 0s 21ms/step - loss: 0.0027 - accuracy: 1.0000 - val_loss: 0.0026 - val_accuracy: 1.0000\n",
            "Epoch 53/100\n",
            "6/6 [==============================] - 0s 25ms/step - loss: 0.0026 - accuracy: 1.0000 - val_loss: 0.0025 - val_accuracy: 1.0000\n",
            "Epoch 54/100\n",
            "6/6 [==============================] - 0s 19ms/step - loss: 0.0024 - accuracy: 1.0000 - val_loss: 0.0024 - val_accuracy: 1.0000\n",
            "Epoch 55/100\n",
            "6/6 [==============================] - 0s 22ms/step - loss: 0.0023 - accuracy: 1.0000 - val_loss: 0.0022 - val_accuracy: 1.0000\n",
            "Epoch 56/100\n",
            "6/6 [==============================] - 0s 20ms/step - loss: 0.0022 - accuracy: 1.0000 - val_loss: 0.0021 - val_accuracy: 1.0000\n",
            "Epoch 57/100\n",
            "6/6 [==============================] - 0s 22ms/step - loss: 0.0021 - accuracy: 1.0000 - val_loss: 0.0020 - val_accuracy: 1.0000\n",
            "Epoch 58/100\n",
            "6/6 [==============================] - 0s 21ms/step - loss: 0.0020 - accuracy: 1.0000 - val_loss: 0.0019 - val_accuracy: 1.0000\n",
            "Epoch 59/100\n",
            "6/6 [==============================] - 0s 23ms/step - loss: 0.0019 - accuracy: 1.0000 - val_loss: 0.0019 - val_accuracy: 1.0000\n",
            "Epoch 60/100\n",
            "6/6 [==============================] - 0s 24ms/step - loss: 0.0018 - accuracy: 1.0000 - val_loss: 0.0018 - val_accuracy: 1.0000\n",
            "Epoch 61/100\n",
            "6/6 [==============================] - 0s 22ms/step - loss: 0.0017 - accuracy: 1.0000 - val_loss: 0.0017 - val_accuracy: 1.0000\n",
            "Epoch 62/100\n",
            "6/6 [==============================] - 0s 21ms/step - loss: 0.0017 - accuracy: 1.0000 - val_loss: 0.0016 - val_accuracy: 1.0000\n",
            "Epoch 63/100\n",
            "6/6 [==============================] - 0s 22ms/step - loss: 0.0016 - accuracy: 1.0000 - val_loss: 0.0016 - val_accuracy: 1.0000\n",
            "Epoch 64/100\n",
            "6/6 [==============================] - 0s 24ms/step - loss: 0.0015 - accuracy: 1.0000 - val_loss: 0.0015 - val_accuracy: 1.0000\n",
            "Epoch 65/100\n",
            "6/6 [==============================] - 0s 23ms/step - loss: 0.0015 - accuracy: 1.0000 - val_loss: 0.0014 - val_accuracy: 1.0000\n",
            "Epoch 66/100\n",
            "6/6 [==============================] - 0s 20ms/step - loss: 0.0014 - accuracy: 1.0000 - val_loss: 0.0014 - val_accuracy: 1.0000\n",
            "Epoch 67/100\n",
            "6/6 [==============================] - 0s 24ms/step - loss: 0.0013 - accuracy: 1.0000 - val_loss: 0.0013 - val_accuracy: 1.0000\n",
            "Epoch 68/100\n",
            "6/6 [==============================] - 0s 20ms/step - loss: 0.0013 - accuracy: 1.0000 - val_loss: 0.0013 - val_accuracy: 1.0000\n",
            "Epoch 69/100\n",
            "6/6 [==============================] - 0s 14ms/step - loss: 0.0012 - accuracy: 1.0000 - val_loss: 0.0012 - val_accuracy: 1.0000\n",
            "Epoch 70/100\n",
            "6/6 [==============================] - 0s 14ms/step - loss: 0.0012 - accuracy: 1.0000 - val_loss: 0.0012 - val_accuracy: 1.0000\n",
            "Epoch 71/100\n",
            "6/6 [==============================] - 0s 16ms/step - loss: 0.0011 - accuracy: 1.0000 - val_loss: 0.0011 - val_accuracy: 1.0000\n",
            "Epoch 72/100\n",
            "6/6 [==============================] - 0s 13ms/step - loss: 0.0011 - accuracy: 1.0000 - val_loss: 0.0011 - val_accuracy: 1.0000\n",
            "Epoch 73/100\n",
            "6/6 [==============================] - 0s 14ms/step - loss: 0.0011 - accuracy: 1.0000 - val_loss: 0.0010 - val_accuracy: 1.0000\n",
            "Epoch 74/100\n",
            "6/6 [==============================] - 0s 14ms/step - loss: 0.0010 - accuracy: 1.0000 - val_loss: 9.9181e-04 - val_accuracy: 1.0000\n",
            "Epoch 75/100\n",
            "6/6 [==============================] - 0s 15ms/step - loss: 9.7698e-04 - accuracy: 1.0000 - val_loss: 9.5470e-04 - val_accuracy: 1.0000\n",
            "Epoch 76/100\n",
            "6/6 [==============================] - 0s 12ms/step - loss: 9.4043e-04 - accuracy: 1.0000 - val_loss: 9.1931e-04 - val_accuracy: 1.0000\n",
            "Epoch 77/100\n",
            "6/6 [==============================] - 0s 15ms/step - loss: 9.0552e-04 - accuracy: 1.0000 - val_loss: 8.8559e-04 - val_accuracy: 1.0000\n",
            "Epoch 78/100\n",
            "6/6 [==============================] - 0s 14ms/step - loss: 8.7215e-04 - accuracy: 1.0000 - val_loss: 8.5337e-04 - val_accuracy: 1.0000\n",
            "Epoch 79/100\n",
            "6/6 [==============================] - 0s 17ms/step - loss: 8.4024e-04 - accuracy: 1.0000 - val_loss: 8.2270e-04 - val_accuracy: 1.0000\n",
            "Epoch 80/100\n",
            "6/6 [==============================] - 0s 12ms/step - loss: 8.0975e-04 - accuracy: 1.0000 - val_loss: 7.9339e-04 - val_accuracy: 1.0000\n",
            "Epoch 81/100\n",
            "6/6 [==============================] - 0s 15ms/step - loss: 7.8052e-04 - accuracy: 1.0000 - val_loss: 7.6542e-04 - val_accuracy: 1.0000\n",
            "Epoch 82/100\n",
            "6/6 [==============================] - 0s 13ms/step - loss: 7.5259e-04 - accuracy: 1.0000 - val_loss: 7.3885e-04 - val_accuracy: 1.0000\n",
            "Epoch 83/100\n",
            "6/6 [==============================] - 0s 14ms/step - loss: 7.2578e-04 - accuracy: 1.0000 - val_loss: 7.1348e-04 - val_accuracy: 1.0000\n",
            "Epoch 84/100\n",
            "6/6 [==============================] - 0s 14ms/step - loss: 7.0005e-04 - accuracy: 1.0000 - val_loss: 6.8938e-04 - val_accuracy: 1.0000\n",
            "Epoch 85/100\n",
            "6/6 [==============================] - 0s 14ms/step - loss: 6.7538e-04 - accuracy: 1.0000 - val_loss: 6.6626e-04 - val_accuracy: 1.0000\n",
            "Epoch 86/100\n",
            "6/6 [==============================] - 0s 15ms/step - loss: 6.5174e-04 - accuracy: 1.0000 - val_loss: 6.4439e-04 - val_accuracy: 1.0000\n",
            "Epoch 87/100\n",
            "6/6 [==============================] - 0s 14ms/step - loss: 6.2908e-04 - accuracy: 1.0000 - val_loss: 6.2356e-04 - val_accuracy: 1.0000\n",
            "Epoch 88/100\n",
            "6/6 [==============================] - 0s 17ms/step - loss: 6.0726e-04 - accuracy: 1.0000 - val_loss: 6.0392e-04 - val_accuracy: 1.0000\n",
            "Epoch 89/100\n",
            "6/6 [==============================] - 0s 14ms/step - loss: 5.8634e-04 - accuracy: 1.0000 - val_loss: 5.8508e-04 - val_accuracy: 1.0000\n",
            "Epoch 90/100\n",
            "6/6 [==============================] - 0s 16ms/step - loss: 5.6622e-04 - accuracy: 1.0000 - val_loss: 5.6746e-04 - val_accuracy: 1.0000\n",
            "Epoch 91/100\n",
            "6/6 [==============================] - 0s 14ms/step - loss: 5.4688e-04 - accuracy: 1.0000 - val_loss: 5.5111e-04 - val_accuracy: 1.0000\n",
            "Epoch 92/100\n",
            "6/6 [==============================] - 0s 15ms/step - loss: 5.2831e-04 - accuracy: 1.0000 - val_loss: 5.3545e-04 - val_accuracy: 1.0000\n",
            "Epoch 93/100\n",
            "6/6 [==============================] - 0s 12ms/step - loss: 5.1040e-04 - accuracy: 1.0000 - val_loss: 5.2032e-04 - val_accuracy: 1.0000\n",
            "Epoch 94/100\n",
            "6/6 [==============================] - 0s 14ms/step - loss: 4.9318e-04 - accuracy: 1.0000 - val_loss: 5.0572e-04 - val_accuracy: 1.0000\n",
            "Epoch 95/100\n",
            "6/6 [==============================] - 0s 14ms/step - loss: 4.7665e-04 - accuracy: 1.0000 - val_loss: 4.9178e-04 - val_accuracy: 1.0000\n",
            "Epoch 96/100\n",
            "6/6 [==============================] - 0s 16ms/step - loss: 4.6071e-04 - accuracy: 1.0000 - val_loss: 4.7846e-04 - val_accuracy: 1.0000\n",
            "Epoch 97/100\n",
            "6/6 [==============================] - 0s 14ms/step - loss: 4.4538e-04 - accuracy: 1.0000 - val_loss: 4.6557e-04 - val_accuracy: 1.0000\n",
            "Epoch 98/100\n",
            "6/6 [==============================] - 0s 14ms/step - loss: 4.3058e-04 - accuracy: 1.0000 - val_loss: 4.5301e-04 - val_accuracy: 1.0000\n",
            "Epoch 99/100\n",
            "6/6 [==============================] - 0s 14ms/step - loss: 4.1632e-04 - accuracy: 1.0000 - val_loss: 4.4058e-04 - val_accuracy: 1.0000\n",
            "Epoch 100/100\n",
            "6/6 [==============================] - 0s 12ms/step - loss: 4.0259e-04 - accuracy: 1.0000 - val_loss: 4.3073e-04 - val_accuracy: 1.0000\n",
            "7/7 [==============================] - 0s 4ms/step - loss: 4.3089e-04 - accuracy: 1.0000\n",
            "Test accuracy: 1.0\n"
          ]
        }
      ]
    },
    {
      "cell_type": "code",
      "source": [
        "train_dataset, val_dataset, inputs = load_data_rnn(Eq_train, Eq_ytest, Eq_val, Eq_valtest, val=True)\n",
        "test_dataset = load_data_rnn(Earthquake_Test[0],Earthquake_Test[1],val=False)\n",
        "\n",
        "Eq_loss, Eq_acc = train_model(train_dataset, val_dataset, test_dataset, inputs, 2, 100)"
      ],
      "metadata": {
        "colab": {
          "base_uri": "https://localhost:8080/"
        },
        "id": "MFubTRPSUQo_",
        "outputId": "2e3a74f1-648c-4fe6-8b9c-8f0c336661f1"
      },
      "execution_count": null,
      "outputs": [
        {
          "output_type": "stream",
          "name": "stdout",
          "text": [
            "Epoch 1/100\n",
            "19/19 [==============================] - 2s 47ms/step - loss: 9.1402 - accuracy: 0.7301 - val_loss: 6.0494 - val_accuracy: 0.3636\n",
            "Epoch 2/100\n",
            "19/19 [==============================] - 1s 36ms/step - loss: 2.6754 - accuracy: 0.8097 - val_loss: 1.7566 - val_accuracy: 0.7273\n",
            "Epoch 3/100\n",
            "19/19 [==============================] - 1s 36ms/step - loss: 1.4111 - accuracy: 0.8374 - val_loss: 2.9443 - val_accuracy: 0.8485\n",
            "Epoch 4/100\n",
            "19/19 [==============================] - 1s 36ms/step - loss: 0.8859 - accuracy: 0.8858 - val_loss: 3.5408 - val_accuracy: 0.8485\n",
            "Epoch 5/100\n",
            "19/19 [==============================] - 1s 63ms/step - loss: 0.9340 - accuracy: 0.8927 - val_loss: 5.6056 - val_accuracy: 0.8485\n",
            "Epoch 6/100\n",
            "19/19 [==============================] - 1s 65ms/step - loss: 3.1199 - accuracy: 0.7716 - val_loss: 4.9008 - val_accuracy: 0.8485\n",
            "Epoch 7/100\n",
            "19/19 [==============================] - 1s 70ms/step - loss: 2.2986 - accuracy: 0.8270 - val_loss: 2.5710 - val_accuracy: 0.8485\n",
            "9/9 [==============================] - 0s 17ms/step - loss: 2.0321 - accuracy: 0.6403\n",
            "Test accuracy: 0.6402877569198608\n"
          ]
        }
      ]
    },
    {
      "cell_type": "code",
      "source": [
        "train_dataset, val_dataset, inputs = load_data_rnn(Gp_train, Gp_ytest, Gp_val, Gp_valtest, val=True)\n",
        "test_dataset = load_data_rnn(GunPoint_Test[0],GunPoint_Test[1],val=False)\n",
        "\n",
        "Gp_loss, Gp_acc = train_model(train_dataset, val_dataset, test_dataset, inputs, 2, 100)"
      ],
      "metadata": {
        "colab": {
          "base_uri": "https://localhost:8080/"
        },
        "id": "zbu4fUXhUQ17",
        "outputId": "8e7106e9-bd53-484d-e475-3042dc59b6f4"
      },
      "execution_count": null,
      "outputs": [
        {
          "output_type": "stream",
          "name": "stdout",
          "text": [
            "Epoch 1/100\n",
            "3/3 [==============================] - 3s 215ms/step - loss: 2.0457 - accuracy: 0.5556 - val_loss: 1.3978 - val_accuracy: 0.6000\n",
            "Epoch 2/100\n",
            "3/3 [==============================] - 0s 33ms/step - loss: 2.3826 - accuracy: 0.6667 - val_loss: 1.5723 - val_accuracy: 0.4000\n",
            "Epoch 3/100\n",
            "3/3 [==============================] - 0s 38ms/step - loss: 1.5684 - accuracy: 0.6667 - val_loss: 2.2281 - val_accuracy: 0.6000\n",
            "Epoch 4/100\n",
            "3/3 [==============================] - 0s 37ms/step - loss: 1.3092 - accuracy: 0.8000 - val_loss: 1.1781 - val_accuracy: 0.8000\n",
            "Epoch 5/100\n",
            "3/3 [==============================] - 0s 34ms/step - loss: 1.3029 - accuracy: 0.8222 - val_loss: 1.9100 - val_accuracy: 0.4000\n",
            "Epoch 6/100\n",
            "3/3 [==============================] - 0s 31ms/step - loss: 1.1592 - accuracy: 0.9111 - val_loss: 1.4592 - val_accuracy: 0.6000\n",
            "Epoch 7/100\n",
            "3/3 [==============================] - 0s 31ms/step - loss: 1.0334 - accuracy: 0.8667 - val_loss: 1.0455 - val_accuracy: 0.8000\n",
            "Epoch 8/100\n",
            "3/3 [==============================] - 0s 30ms/step - loss: 0.9280 - accuracy: 0.9111 - val_loss: 1.2164 - val_accuracy: 0.6000\n",
            "Epoch 9/100\n",
            "3/3 [==============================] - 0s 42ms/step - loss: 0.8899 - accuracy: 0.9111 - val_loss: 0.9996 - val_accuracy: 0.8000\n",
            "Epoch 10/100\n",
            "3/3 [==============================] - 0s 32ms/step - loss: 0.8133 - accuracy: 0.9333 - val_loss: 0.7882 - val_accuracy: 1.0000\n",
            "Epoch 11/100\n",
            "3/3 [==============================] - 0s 40ms/step - loss: 0.8045 - accuracy: 0.9333 - val_loss: 0.7632 - val_accuracy: 1.0000\n",
            "Epoch 12/100\n",
            "3/3 [==============================] - 0s 35ms/step - loss: 0.6765 - accuracy: 0.9778 - val_loss: 0.8634 - val_accuracy: 0.8000\n",
            "Epoch 13/100\n",
            "3/3 [==============================] - 0s 31ms/step - loss: 0.6977 - accuracy: 0.9556 - val_loss: 0.6196 - val_accuracy: 1.0000\n",
            "Epoch 14/100\n",
            "3/3 [==============================] - 0s 44ms/step - loss: 0.5539 - accuracy: 0.9778 - val_loss: 0.5987 - val_accuracy: 1.0000\n",
            "Epoch 15/100\n",
            "3/3 [==============================] - 0s 30ms/step - loss: 0.4576 - accuracy: 1.0000 - val_loss: 0.5572 - val_accuracy: 1.0000\n",
            "Epoch 16/100\n",
            "3/3 [==============================] - 0s 30ms/step - loss: 0.4378 - accuracy: 0.9778 - val_loss: 0.8423 - val_accuracy: 0.6000\n",
            "Epoch 17/100\n",
            "3/3 [==============================] - 0s 31ms/step - loss: 0.4124 - accuracy: 0.9556 - val_loss: 1.0187 - val_accuracy: 0.6000\n",
            "Epoch 18/100\n",
            "3/3 [==============================] - 0s 40ms/step - loss: 0.3731 - accuracy: 1.0000 - val_loss: 1.2829 - val_accuracy: 0.6000\n",
            "Epoch 19/100\n",
            "3/3 [==============================] - 0s 29ms/step - loss: 0.3730 - accuracy: 0.9778 - val_loss: 1.5815 - val_accuracy: 0.6000\n",
            "Epoch 20/100\n",
            "3/3 [==============================] - 0s 35ms/step - loss: 0.3788 - accuracy: 0.9778 - val_loss: 2.9219 - val_accuracy: 0.6000\n",
            "10/10 [==============================] - 0s 7ms/step - loss: 0.8788 - accuracy: 0.7267\n",
            "Test accuracy: 0.7266666889190674\n"
          ]
        }
      ]
    },
    {
      "cell_type": "code",
      "source": [
        "Avg_test_acc = np.mean([ECG_acc, Eq_acc, Gp_acc])\n",
        "Avg_test_loss = np.mean([ECG_loss, Eq_loss, Gp_loss])\n",
        "print(f\"Average Test Accuracy of the 1D-CNN Model:{round(Avg_test_acc,4)}\")\n",
        "print(f\"Average Test Loss of the 1D-CNN Model: {round(Avg_test_loss,4)}\")"
      ],
      "metadata": {
        "colab": {
          "base_uri": "https://localhost:8080/"
        },
        "id": "FMVVQVU5KSS0",
        "outputId": "eee843a4-7db8-4e37-e02d-913cce3b5d81"
      },
      "execution_count": null,
      "outputs": [
        {
          "output_type": "stream",
          "name": "stdout",
          "text": [
            "Average Test Accuracy of the 1D-CNN Model:0.789\n",
            "Average Test Loss of the 1D-CNN Model: 0.9704\n"
          ]
        }
      ]
    },
    {
      "cell_type": "markdown",
      "source": [
        "#1D-CNN + Any RNN variant."
      ],
      "metadata": {
        "id": "CgXZu9C9WBBJ"
      }
    },
    {
      "cell_type": "code",
      "source": [
        "def create_1d_cnn_lstm_model(input_shape, num_classes, num_filters=64, kernel_size=5, pool_size=2, dropout_rate=0.2):\n",
        "    model = Sequential([\n",
        "        Input(shape=input_shape),\n",
        "        Conv1D(num_filters, kernel_size, padding='same', kernel_regularizer=l2(0.01)),\n",
        "        keras.layers.BatchNormalization(),\n",
        "        keras.layers.Activation('relu'),\n",
        "        keras.layers.MaxPooling1D(pool_size=pool_size),\n",
        "        LSTM(num_filters, dropout=dropout_rate, recurrent_dropout=dropout_rate),\n",
        "        Dropout(dropout_rate),\n",
        "        Dense(num_classes, activation='softmax')\n",
        "    ])\n",
        "    return model\n",
        "\n",
        "# Define the callbacks\n",
        "early_stopping = EarlyStopping(monitor='val_loss', patience=5, mode='min', restore_best_weights=True)\n",
        "model_checkpoint = ModelCheckpoint('1d_cnn_lstm_model.h5', monitor='val_accuracy', mode='max', save_best_only=True, save_weights_only=False)\n",
        "\n",
        "# Create the model\n",
        "def train_model(train_dataset, val_dataset, test_dataset, X_train, num_classes, epochs, lr=0.01):\n",
        "  model = create_1d_cnn_lstm_model(input_shape=X_train.shape[1:], num_classes=num_classes)\n",
        "  optimizer = Adam(learning_rate=lr)\n",
        "  model.compile(optimizer=optimizer, loss='categorical_crossentropy', metrics=['accuracy'])\n",
        "  history = model.fit(train_dataset, epochs=epochs, validation_data=val_dataset, callbacks=[early_stopping, model_checkpoint])\n",
        "  test_loss, test_acc = model.evaluate(test_dataset)\n",
        "  print('Test accuracy:', test_acc)\n",
        "  return test_loss, test_acc"
      ],
      "metadata": {
        "id": "7gY4lxIgWDKE"
      },
      "execution_count": null,
      "outputs": []
    },
    {
      "cell_type": "code",
      "source": [
        "train_dataset, val_dataset, inputs = load_data_rnn(Ecg_train, Ecg_ytest, Ecg_val, Ecg_valtest, val=True)\n",
        "test_dataset = load_data_rnn(ECG200_Test[0],ECG200_Test[1],val=False)\n",
        "\n",
        "ECG_loss, ECG_acc = train_model(train_dataset, val_dataset, test_dataset, inputs, 2, 100)"
      ],
      "metadata": {
        "colab": {
          "base_uri": "https://localhost:8080/"
        },
        "id": "q2tGeDhUWDUL",
        "outputId": "e84f53be-770c-4fa9-dd88-55066bfe38cc"
      },
      "execution_count": null,
      "outputs": [
        {
          "output_type": "stream",
          "name": "stdout",
          "text": [
            "Epoch 1/100\n",
            "6/6 [==============================] - 4s 155ms/step - loss: 0.1388 - accuracy: 0.9444 - val_loss: 0.0160 - val_accuracy: 1.0000\n",
            "Epoch 2/100\n",
            "6/6 [==============================] - 0s 68ms/step - loss: 0.0142 - accuracy: 1.0000 - val_loss: 0.0118 - val_accuracy: 1.0000\n",
            "Epoch 3/100\n",
            "6/6 [==============================] - 0s 68ms/step - loss: 0.0107 - accuracy: 1.0000 - val_loss: 0.0093 - val_accuracy: 1.0000\n",
            "Epoch 4/100\n",
            "6/6 [==============================] - 0s 72ms/step - loss: 0.0087 - accuracy: 1.0000 - val_loss: 0.0077 - val_accuracy: 1.0000\n",
            "Epoch 5/100\n",
            "6/6 [==============================] - 0s 74ms/step - loss: 0.0071 - accuracy: 1.0000 - val_loss: 0.0063 - val_accuracy: 1.0000\n",
            "Epoch 6/100\n",
            "6/6 [==============================] - 0s 67ms/step - loss: 0.0058 - accuracy: 1.0000 - val_loss: 0.0052 - val_accuracy: 1.0000\n",
            "Epoch 7/100\n",
            "6/6 [==============================] - 1s 100ms/step - loss: 0.0049 - accuracy: 1.0000 - val_loss: 0.0044 - val_accuracy: 1.0000\n",
            "Epoch 8/100\n",
            "6/6 [==============================] - 1s 122ms/step - loss: 0.0042 - accuracy: 1.0000 - val_loss: 0.0038 - val_accuracy: 1.0000\n",
            "Epoch 9/100\n",
            "6/6 [==============================] - 1s 116ms/step - loss: 0.0036 - accuracy: 1.0000 - val_loss: 0.0032 - val_accuracy: 1.0000\n",
            "Epoch 10/100\n",
            "6/6 [==============================] - 1s 125ms/step - loss: 0.0031 - accuracy: 1.0000 - val_loss: 0.0028 - val_accuracy: 1.0000\n",
            "Epoch 11/100\n",
            "6/6 [==============================] - 1s 121ms/step - loss: 0.0026 - accuracy: 1.0000 - val_loss: 0.0024 - val_accuracy: 1.0000\n",
            "Epoch 12/100\n",
            "6/6 [==============================] - 1s 119ms/step - loss: 0.0023 - accuracy: 1.0000 - val_loss: 0.0021 - val_accuracy: 1.0000\n",
            "Epoch 13/100\n",
            "6/6 [==============================] - 0s 67ms/step - loss: 0.0020 - accuracy: 1.0000 - val_loss: 0.0018 - val_accuracy: 1.0000\n",
            "Epoch 14/100\n",
            "6/6 [==============================] - 0s 70ms/step - loss: 0.0017 - accuracy: 1.0000 - val_loss: 0.0015 - val_accuracy: 1.0000\n",
            "Epoch 15/100\n",
            "6/6 [==============================] - 0s 70ms/step - loss: 0.0015 - accuracy: 1.0000 - val_loss: 0.0013 - val_accuracy: 1.0000\n",
            "Epoch 16/100\n",
            "6/6 [==============================] - 0s 72ms/step - loss: 0.0013 - accuracy: 1.0000 - val_loss: 0.0011 - val_accuracy: 1.0000\n",
            "Epoch 17/100\n",
            "6/6 [==============================] - 0s 70ms/step - loss: 0.0011 - accuracy: 1.0000 - val_loss: 9.8847e-04 - val_accuracy: 1.0000\n",
            "Epoch 18/100\n",
            "6/6 [==============================] - 0s 72ms/step - loss: 9.3548e-04 - accuracy: 1.0000 - val_loss: 8.5112e-04 - val_accuracy: 1.0000\n",
            "Epoch 19/100\n",
            "6/6 [==============================] - 0s 67ms/step - loss: 8.0542e-04 - accuracy: 1.0000 - val_loss: 7.3271e-04 - val_accuracy: 1.0000\n",
            "Epoch 20/100\n",
            "6/6 [==============================] - 0s 67ms/step - loss: 6.9351e-04 - accuracy: 1.0000 - val_loss: 6.3070e-04 - val_accuracy: 1.0000\n",
            "Epoch 21/100\n",
            "6/6 [==============================] - 0s 70ms/step - loss: 5.9680e-04 - accuracy: 1.0000 - val_loss: 5.4294e-04 - val_accuracy: 1.0000\n",
            "Epoch 22/100\n",
            "6/6 [==============================] - 0s 72ms/step - loss: 5.1510e-04 - accuracy: 1.0000 - val_loss: 4.6757e-04 - val_accuracy: 1.0000\n",
            "Epoch 23/100\n",
            "6/6 [==============================] - 0s 71ms/step - loss: 4.4307e-04 - accuracy: 1.0000 - val_loss: 4.0283e-04 - val_accuracy: 1.0000\n",
            "Epoch 24/100\n",
            "6/6 [==============================] - 0s 68ms/step - loss: 3.8221e-04 - accuracy: 1.0000 - val_loss: 3.4712e-04 - val_accuracy: 1.0000\n",
            "Epoch 25/100\n",
            "6/6 [==============================] - 0s 77ms/step - loss: 3.2916e-04 - accuracy: 1.0000 - val_loss: 2.9936e-04 - val_accuracy: 1.0000\n",
            "Epoch 26/100\n",
            "6/6 [==============================] - 0s 70ms/step - loss: 2.8597e-04 - accuracy: 1.0000 - val_loss: 2.5834e-04 - val_accuracy: 1.0000\n",
            "Epoch 27/100\n",
            "6/6 [==============================] - 0s 73ms/step - loss: 2.4570e-04 - accuracy: 1.0000 - val_loss: 2.2310e-04 - val_accuracy: 1.0000\n",
            "Epoch 28/100\n",
            "6/6 [==============================] - 0s 70ms/step - loss: 2.1374e-04 - accuracy: 1.0000 - val_loss: 1.9269e-04 - val_accuracy: 1.0000\n",
            "Epoch 29/100\n",
            "6/6 [==============================] - 0s 70ms/step - loss: 1.8452e-04 - accuracy: 1.0000 - val_loss: 1.6664e-04 - val_accuracy: 1.0000\n",
            "Epoch 30/100\n",
            "6/6 [==============================] - 0s 70ms/step - loss: 1.5940e-04 - accuracy: 1.0000 - val_loss: 1.4422e-04 - val_accuracy: 1.0000\n",
            "Epoch 31/100\n",
            "6/6 [==============================] - 0s 71ms/step - loss: 1.3987e-04 - accuracy: 1.0000 - val_loss: 1.2481e-04 - val_accuracy: 1.0000\n",
            "Epoch 32/100\n",
            "6/6 [==============================] - 0s 69ms/step - loss: 1.2005e-04 - accuracy: 1.0000 - val_loss: 1.0819e-04 - val_accuracy: 1.0000\n",
            "Epoch 33/100\n",
            "6/6 [==============================] - 1s 91ms/step - loss: 1.0443e-04 - accuracy: 1.0000 - val_loss: 9.3862e-05 - val_accuracy: 1.0000\n",
            "Epoch 34/100\n",
            "6/6 [==============================] - 1s 122ms/step - loss: 9.0437e-05 - accuracy: 1.0000 - val_loss: 8.1384e-05 - val_accuracy: 1.0000\n",
            "Epoch 35/100\n",
            "6/6 [==============================] - 1s 127ms/step - loss: 7.9492e-05 - accuracy: 1.0000 - val_loss: 7.0719e-05 - val_accuracy: 1.0000\n",
            "Epoch 36/100\n",
            "6/6 [==============================] - 1s 116ms/step - loss: 6.9557e-05 - accuracy: 1.0000 - val_loss: 6.1511e-05 - val_accuracy: 1.0000\n",
            "Epoch 37/100\n",
            "6/6 [==============================] - 1s 123ms/step - loss: 6.0246e-05 - accuracy: 1.0000 - val_loss: 5.3550e-05 - val_accuracy: 1.0000\n",
            "Epoch 38/100\n",
            "6/6 [==============================] - 1s 119ms/step - loss: 5.2312e-05 - accuracy: 1.0000 - val_loss: 4.6544e-05 - val_accuracy: 1.0000\n",
            "Epoch 39/100\n",
            "6/6 [==============================] - 1s 79ms/step - loss: 4.5698e-05 - accuracy: 1.0000 - val_loss: 4.0588e-05 - val_accuracy: 1.0000\n",
            "Epoch 40/100\n",
            "6/6 [==============================] - 0s 69ms/step - loss: 4.1045e-05 - accuracy: 1.0000 - val_loss: 3.5431e-05 - val_accuracy: 1.0000\n",
            "Epoch 41/100\n",
            "6/6 [==============================] - 0s 75ms/step - loss: 3.4665e-05 - accuracy: 1.0000 - val_loss: 3.0960e-05 - val_accuracy: 1.0000\n",
            "Epoch 42/100\n",
            "6/6 [==============================] - 0s 70ms/step - loss: 3.0960e-05 - accuracy: 1.0000 - val_loss: 2.6964e-05 - val_accuracy: 1.0000\n",
            "Epoch 43/100\n",
            "6/6 [==============================] - 0s 71ms/step - loss: 2.7617e-05 - accuracy: 1.0000 - val_loss: 2.3603e-05 - val_accuracy: 1.0000\n",
            "Epoch 44/100\n",
            "6/6 [==============================] - 0s 72ms/step - loss: 2.3366e-05 - accuracy: 1.0000 - val_loss: 2.0683e-05 - val_accuracy: 1.0000\n",
            "Epoch 45/100\n",
            "6/6 [==============================] - 0s 70ms/step - loss: 2.1180e-05 - accuracy: 1.0000 - val_loss: 1.8147e-05 - val_accuracy: 1.0000\n",
            "Epoch 46/100\n",
            "6/6 [==============================] - 0s 69ms/step - loss: 1.8330e-05 - accuracy: 1.0000 - val_loss: 1.5945e-05 - val_accuracy: 1.0000\n",
            "Epoch 47/100\n",
            "6/6 [==============================] - 0s 71ms/step - loss: 1.6288e-05 - accuracy: 1.0000 - val_loss: 1.3906e-05 - val_accuracy: 1.0000\n",
            "Epoch 48/100\n",
            "6/6 [==============================] - 0s 70ms/step - loss: 1.4200e-05 - accuracy: 1.0000 - val_loss: 1.2238e-05 - val_accuracy: 1.0000\n",
            "Epoch 49/100\n",
            "6/6 [==============================] - 0s 68ms/step - loss: 1.3777e-05 - accuracy: 1.0000 - val_loss: 1.0793e-05 - val_accuracy: 1.0000\n",
            "Epoch 50/100\n",
            "6/6 [==============================] - 0s 70ms/step - loss: 1.1199e-05 - accuracy: 1.0000 - val_loss: 9.5243e-06 - val_accuracy: 1.0000\n",
            "Epoch 51/100\n",
            "6/6 [==============================] - 0s 70ms/step - loss: 9.7744e-06 - accuracy: 1.0000 - val_loss: 8.4223e-06 - val_accuracy: 1.0000\n",
            "Epoch 52/100\n",
            "6/6 [==============================] - 0s 73ms/step - loss: 8.8879e-06 - accuracy: 1.0000 - val_loss: 7.3456e-06 - val_accuracy: 1.0000\n",
            "Epoch 53/100\n",
            "6/6 [==============================] - 0s 70ms/step - loss: 8.4850e-06 - accuracy: 1.0000 - val_loss: 6.5121e-06 - val_accuracy: 1.0000\n",
            "Epoch 54/100\n",
            "6/6 [==============================] - 0s 68ms/step - loss: 7.6018e-06 - accuracy: 1.0000 - val_loss: 5.7863e-06 - val_accuracy: 1.0000\n",
            "Epoch 55/100\n",
            "6/6 [==============================] - 0s 68ms/step - loss: 7.3994e-06 - accuracy: 1.0000 - val_loss: 5.1539e-06 - val_accuracy: 1.0000\n",
            "Epoch 56/100\n",
            "6/6 [==============================] - 0s 68ms/step - loss: 6.1832e-06 - accuracy: 1.0000 - val_loss: 4.6051e-06 - val_accuracy: 1.0000\n",
            "Epoch 57/100\n",
            "6/6 [==============================] - 0s 72ms/step - loss: 5.8903e-06 - accuracy: 1.0000 - val_loss: 4.1260e-06 - val_accuracy: 1.0000\n",
            "Epoch 58/100\n",
            "6/6 [==============================] - 0s 69ms/step - loss: 5.5795e-06 - accuracy: 1.0000 - val_loss: 3.5919e-06 - val_accuracy: 1.0000\n",
            "Epoch 59/100\n",
            "6/6 [==============================] - 0s 86ms/step - loss: 4.2577e-06 - accuracy: 1.0000 - val_loss: 3.2301e-06 - val_accuracy: 1.0000\n",
            "Epoch 60/100\n",
            "6/6 [==============================] - 1s 115ms/step - loss: 3.8536e-06 - accuracy: 1.0000 - val_loss: 2.9157e-06 - val_accuracy: 1.0000\n",
            "Epoch 61/100\n",
            "6/6 [==============================] - 1s 118ms/step - loss: 4.0637e-06 - accuracy: 1.0000 - val_loss: 2.6438e-06 - val_accuracy: 1.0000\n",
            "Epoch 62/100\n",
            "6/6 [==============================] - 1s 123ms/step - loss: 3.4090e-06 - accuracy: 1.0000 - val_loss: 2.4075e-06 - val_accuracy: 1.0000\n",
            "Epoch 63/100\n",
            "6/6 [==============================] - 1s 119ms/step - loss: 3.3096e-06 - accuracy: 1.0000 - val_loss: 2.2030e-06 - val_accuracy: 1.0000\n",
            "Epoch 64/100\n",
            "6/6 [==============================] - 1s 125ms/step - loss: 2.7719e-06 - accuracy: 1.0000 - val_loss: 2.0261e-06 - val_accuracy: 1.0000\n",
            "Epoch 65/100\n",
            "6/6 [==============================] - 1s 130ms/step - loss: 3.1242e-06 - accuracy: 1.0000 - val_loss: 1.7549e-06 - val_accuracy: 1.0000\n",
            "Epoch 66/100\n",
            "6/6 [==============================] - 1s 127ms/step - loss: 2.9905e-06 - accuracy: 1.0000 - val_loss: 1.6224e-06 - val_accuracy: 1.0000\n",
            "Epoch 67/100\n",
            "6/6 [==============================] - 0s 72ms/step - loss: 3.6622e-06 - accuracy: 1.0000 - val_loss: 1.5206e-06 - val_accuracy: 1.0000\n",
            "Epoch 68/100\n",
            "6/6 [==============================] - 0s 70ms/step - loss: 2.3524e-06 - accuracy: 1.0000 - val_loss: 1.4130e-06 - val_accuracy: 1.0000\n",
            "Epoch 69/100\n",
            "6/6 [==============================] - 0s 71ms/step - loss: 2.8219e-06 - accuracy: 1.0000 - val_loss: 1.3265e-06 - val_accuracy: 1.0000\n",
            "Epoch 70/100\n",
            "6/6 [==============================] - 0s 68ms/step - loss: 2.4138e-06 - accuracy: 1.0000 - val_loss: 1.2540e-06 - val_accuracy: 1.0000\n",
            "Epoch 71/100\n",
            "6/6 [==============================] - 0s 72ms/step - loss: 2.0830e-06 - accuracy: 1.0000 - val_loss: 1.1913e-06 - val_accuracy: 1.0000\n",
            "Epoch 72/100\n",
            "6/6 [==============================] - 0s 68ms/step - loss: 2.1244e-06 - accuracy: 1.0000 - val_loss: 1.0173e-06 - val_accuracy: 1.0000\n",
            "Epoch 73/100\n",
            "6/6 [==============================] - 0s 68ms/step - loss: 2.0721e-06 - accuracy: 1.0000 - val_loss: 9.7405e-07 - val_accuracy: 1.0000\n",
            "Epoch 74/100\n",
            "6/6 [==============================] - 0s 72ms/step - loss: 2.3931e-06 - accuracy: 1.0000 - val_loss: 9.3450e-07 - val_accuracy: 1.0000\n",
            "Epoch 75/100\n",
            "6/6 [==============================] - 0s 69ms/step - loss: 1.8847e-06 - accuracy: 1.0000 - val_loss: 9.0009e-07 - val_accuracy: 1.0000\n",
            "Epoch 76/100\n",
            "6/6 [==============================] - 0s 71ms/step - loss: 1.4177e-06 - accuracy: 1.0000 - val_loss: 8.7045e-07 - val_accuracy: 1.0000\n",
            "Epoch 77/100\n",
            "6/6 [==============================] - 0s 71ms/step - loss: 1.7439e-06 - accuracy: 1.0000 - val_loss: 8.4795e-07 - val_accuracy: 1.0000\n",
            "Epoch 78/100\n",
            "6/6 [==============================] - 0s 69ms/step - loss: 1.6653e-06 - accuracy: 1.0000 - val_loss: 8.2570e-07 - val_accuracy: 1.0000\n",
            "Epoch 79/100\n",
            "6/6 [==============================] - 0s 74ms/step - loss: 1.3509e-06 - accuracy: 1.0000 - val_loss: 8.0799e-07 - val_accuracy: 1.0000\n",
            "Epoch 80/100\n",
            "6/6 [==============================] - 0s 68ms/step - loss: 1.6811e-06 - accuracy: 1.0000 - val_loss: 7.9374e-07 - val_accuracy: 1.0000\n",
            "Epoch 81/100\n",
            "6/6 [==============================] - 0s 71ms/step - loss: 1.5089e-06 - accuracy: 1.0000 - val_loss: 7.8097e-07 - val_accuracy: 1.0000\n",
            "Epoch 82/100\n",
            "6/6 [==============================] - 0s 76ms/step - loss: 1.3954e-06 - accuracy: 1.0000 - val_loss: 6.5175e-07 - val_accuracy: 1.0000\n",
            "Epoch 83/100\n",
            "6/6 [==============================] - 0s 70ms/step - loss: 2.2394e-06 - accuracy: 1.0000 - val_loss: 6.5595e-07 - val_accuracy: 1.0000\n",
            "Epoch 84/100\n",
            "6/6 [==============================] - 0s 86ms/step - loss: 1.2217e-06 - accuracy: 1.0000 - val_loss: 6.3894e-07 - val_accuracy: 1.0000\n",
            "Epoch 85/100\n",
            "6/6 [==============================] - 1s 123ms/step - loss: 1.0296e-06 - accuracy: 1.0000 - val_loss: 6.3000e-07 - val_accuracy: 1.0000\n",
            "Epoch 86/100\n",
            "6/6 [==============================] - 1s 120ms/step - loss: 1.3202e-06 - accuracy: 1.0000 - val_loss: 6.2413e-07 - val_accuracy: 1.0000\n",
            "Epoch 87/100\n",
            "6/6 [==============================] - 1s 124ms/step - loss: 1.2316e-06 - accuracy: 1.0000 - val_loss: 6.1921e-07 - val_accuracy: 1.0000\n",
            "Epoch 88/100\n",
            "6/6 [==============================] - 1s 125ms/step - loss: 1.4918e-06 - accuracy: 1.0000 - val_loss: 6.1524e-07 - val_accuracy: 1.0000\n",
            "Epoch 89/100\n",
            "6/6 [==============================] - 0s 75ms/step - loss: 1.2151e-06 - accuracy: 1.0000 - val_loss: 6.1174e-07 - val_accuracy: 1.0000\n",
            "Epoch 90/100\n",
            "6/6 [==============================] - 0s 75ms/step - loss: 1.6742e-06 - accuracy: 1.0000 - val_loss: 6.0892e-07 - val_accuracy: 1.0000\n",
            "Epoch 91/100\n",
            "6/6 [==============================] - 0s 71ms/step - loss: 1.0040e-06 - accuracy: 1.0000 - val_loss: 6.0660e-07 - val_accuracy: 1.0000\n",
            "Epoch 92/100\n",
            "6/6 [==============================] - 0s 73ms/step - loss: 1.2629e-06 - accuracy: 1.0000 - val_loss: 6.0491e-07 - val_accuracy: 1.0000\n",
            "Epoch 93/100\n",
            "6/6 [==============================] - 0s 72ms/step - loss: 1.5779e-06 - accuracy: 1.0000 - val_loss: 6.0337e-07 - val_accuracy: 1.0000\n",
            "Epoch 94/100\n",
            "6/6 [==============================] - 0s 75ms/step - loss: 1.1341e-06 - accuracy: 1.0000 - val_loss: 4.8332e-07 - val_accuracy: 1.0000\n",
            "Epoch 95/100\n",
            "6/6 [==============================] - 0s 71ms/step - loss: 9.7035e-07 - accuracy: 1.0000 - val_loss: 4.8230e-07 - val_accuracy: 1.0000\n",
            "Epoch 96/100\n",
            "6/6 [==============================] - 0s 75ms/step - loss: 8.5004e-07 - accuracy: 1.0000 - val_loss: 4.8114e-07 - val_accuracy: 1.0000\n",
            "Epoch 97/100\n",
            "6/6 [==============================] - 0s 72ms/step - loss: 1.0437e-06 - accuracy: 1.0000 - val_loss: 4.8035e-07 - val_accuracy: 1.0000\n",
            "Epoch 98/100\n",
            "6/6 [==============================] - 0s 72ms/step - loss: 1.4178e-06 - accuracy: 1.0000 - val_loss: 4.7956e-07 - val_accuracy: 1.0000\n",
            "Epoch 99/100\n",
            "6/6 [==============================] - 0s 70ms/step - loss: 1.1231e-06 - accuracy: 1.0000 - val_loss: 4.7922e-07 - val_accuracy: 1.0000\n",
            "Epoch 100/100\n",
            "6/6 [==============================] - 0s 70ms/step - loss: 1.5644e-06 - accuracy: 1.0000 - val_loss: 4.8003e-07 - val_accuracy: 1.0000\n",
            "7/7 [==============================] - 0s 11ms/step - loss: 4.8003e-07 - accuracy: 1.0000\n",
            "Test accuracy: 1.0\n"
          ]
        }
      ]
    },
    {
      "cell_type": "code",
      "source": [
        "train_dataset, val_dataset, inputs = load_data_rnn(Eq_train, Eq_ytest, Eq_val, Eq_valtest, val=True)\n",
        "test_dataset = load_data_rnn(Earthquake_Test[0],Earthquake_Test[1],val=False)\n",
        "\n",
        "Eq_loss, Eq_acc = train_model(train_dataset, val_dataset, test_dataset, inputs, 2, 100)"
      ],
      "metadata": {
        "colab": {
          "base_uri": "https://localhost:8080/"
        },
        "id": "l3JI98lIWDZH",
        "outputId": "a98dcd5e-bfaa-4194-9526-3440424f9511"
      },
      "execution_count": null,
      "outputs": [
        {
          "output_type": "stream",
          "name": "stdout",
          "text": [
            "Epoch 1/100\n",
            "19/19 [==============================] - 17s 608ms/step - loss: 0.4858 - accuracy: 0.7716 - val_loss: 0.4962 - val_accuracy: 0.8485\n",
            "Epoch 2/100\n",
            "19/19 [==============================] - 6s 335ms/step - loss: 0.4316 - accuracy: 0.8097 - val_loss: 0.4407 - val_accuracy: 0.8485\n",
            "Epoch 3/100\n",
            "19/19 [==============================] - 9s 478ms/step - loss: 0.4206 - accuracy: 0.8201 - val_loss: 0.4166 - val_accuracy: 0.8485\n",
            "Epoch 4/100\n",
            "19/19 [==============================] - 6s 335ms/step - loss: 0.4127 - accuracy: 0.8062 - val_loss: 0.4587 - val_accuracy: 0.8485\n",
            "Epoch 5/100\n",
            "19/19 [==============================] - 11s 570ms/step - loss: 0.4164 - accuracy: 0.8270 - val_loss: 0.5126 - val_accuracy: 0.8485\n",
            "Epoch 6/100\n",
            "19/19 [==============================] - 7s 382ms/step - loss: 0.4205 - accuracy: 0.7958 - val_loss: 0.3945 - val_accuracy: 0.8485\n",
            "Epoch 7/100\n",
            "19/19 [==============================] - 9s 443ms/step - loss: 0.4171 - accuracy: 0.8131 - val_loss: 0.4588 - val_accuracy: 0.8485\n",
            "Epoch 8/100\n",
            "19/19 [==============================] - 8s 402ms/step - loss: 0.4123 - accuracy: 0.8097 - val_loss: 0.4134 - val_accuracy: 0.8485\n",
            "Epoch 9/100\n",
            "19/19 [==============================] - 8s 406ms/step - loss: 0.4293 - accuracy: 0.8201 - val_loss: 0.4469 - val_accuracy: 0.8485\n",
            "Epoch 10/100\n",
            "19/19 [==============================] - 7s 374ms/step - loss: 0.4149 - accuracy: 0.8166 - val_loss: 0.4094 - val_accuracy: 0.8485\n",
            "Epoch 11/100\n",
            "19/19 [==============================] - 6s 335ms/step - loss: 0.4145 - accuracy: 0.8374 - val_loss: 0.4209 - val_accuracy: 0.8485\n",
            "9/9 [==============================] - 0s 43ms/step - loss: 0.5117 - accuracy: 0.7482\n",
            "Test accuracy: 0.7482014298439026\n"
          ]
        }
      ]
    },
    {
      "cell_type": "code",
      "source": [
        "train_dataset, val_dataset, inputs = load_data_rnn(Gp_train, Gp_ytest, Gp_val, Gp_valtest, val=True)\n",
        "test_dataset = load_data_rnn(GunPoint_Test[0],GunPoint_Test[1],val=False)\n",
        "\n",
        "Gp_loss, Gp_acc = train_model(train_dataset, val_dataset, test_dataset, inputs, 2, 100)"
      ],
      "metadata": {
        "colab": {
          "base_uri": "https://localhost:8080/"
        },
        "id": "hGJybrRaWDoi",
        "outputId": "996c6dfe-5c61-47a7-dfb8-0228aab02d90"
      },
      "execution_count": null,
      "outputs": [
        {
          "output_type": "stream",
          "name": "stdout",
          "text": [
            "Epoch 1/100\n",
            "3/3 [==============================] - 6s 310ms/step - loss: 0.9943 - accuracy: 0.5111 - val_loss: 0.7044 - val_accuracy: 0.6000\n",
            "Epoch 2/100\n",
            "3/3 [==============================] - 0s 113ms/step - loss: 0.8390 - accuracy: 0.5333 - val_loss: 0.6953 - val_accuracy: 0.6000\n",
            "Epoch 3/100\n",
            "3/3 [==============================] - 0s 110ms/step - loss: 0.7072 - accuracy: 0.4889 - val_loss: 0.6899 - val_accuracy: 0.8000\n",
            "Epoch 4/100\n",
            "3/3 [==============================] - 0s 117ms/step - loss: 0.7453 - accuracy: 0.4889 - val_loss: 0.6849 - val_accuracy: 0.6000\n",
            "Epoch 5/100\n",
            "3/3 [==============================] - 0s 108ms/step - loss: 0.6727 - accuracy: 0.6000 - val_loss: 0.6845 - val_accuracy: 0.6000\n",
            "Epoch 6/100\n",
            "3/3 [==============================] - 0s 118ms/step - loss: 0.6797 - accuracy: 0.6222 - val_loss: 0.6825 - val_accuracy: 0.6000\n",
            "Epoch 7/100\n",
            "3/3 [==============================] - 0s 111ms/step - loss: 0.6806 - accuracy: 0.6000 - val_loss: 0.6822 - val_accuracy: 0.6000\n",
            "Epoch 8/100\n",
            "3/3 [==============================] - 0s 106ms/step - loss: 0.7351 - accuracy: 0.4444 - val_loss: 0.6789 - val_accuracy: 0.6000\n",
            "Epoch 9/100\n",
            "3/3 [==============================] - 0s 113ms/step - loss: 0.6941 - accuracy: 0.4889 - val_loss: 0.6763 - val_accuracy: 0.6000\n",
            "Epoch 10/100\n",
            "3/3 [==============================] - 0s 115ms/step - loss: 0.7221 - accuracy: 0.4222 - val_loss: 0.6946 - val_accuracy: 0.6000\n",
            "Epoch 11/100\n",
            "3/3 [==============================] - 0s 111ms/step - loss: 0.6941 - accuracy: 0.5111 - val_loss: 0.7098 - val_accuracy: 0.6000\n",
            "Epoch 12/100\n",
            "3/3 [==============================] - 0s 110ms/step - loss: 0.7103 - accuracy: 0.5111 - val_loss: 0.7255 - val_accuracy: 0.6000\n",
            "Epoch 13/100\n",
            "3/3 [==============================] - 0s 112ms/step - loss: 0.6523 - accuracy: 0.6444 - val_loss: 0.7072 - val_accuracy: 0.6000\n",
            "Epoch 14/100\n",
            "3/3 [==============================] - 0s 116ms/step - loss: 0.6808 - accuracy: 0.6889 - val_loss: 0.6916 - val_accuracy: 0.6000\n",
            "10/10 [==============================] - 0s 14ms/step - loss: 0.7833 - accuracy: 0.4933\n",
            "Test accuracy: 0.4933333396911621\n"
          ]
        }
      ]
    },
    {
      "cell_type": "code",
      "source": [
        "Avg_test_acc = np.mean([ECG_acc, Eq_acc, Gp_acc])\n",
        "Avg_test_loss = np.mean([ECG_loss, Eq_loss, Gp_loss])\n",
        "print(f\"Average Test Accuracy of the 1D-CNN+RNN Variant Model:{round(Avg_test_acc,4)}\")\n",
        "print(f\"Average Test Loss of the 1D-CNN+RNN Variant Model: {round(Avg_test_loss,4)}\")"
      ],
      "metadata": {
        "colab": {
          "base_uri": "https://localhost:8080/"
        },
        "id": "NXtgJWmBLp-S",
        "outputId": "e2b53741-032d-44a0-dcb4-1d6b4ecfc321"
      },
      "execution_count": null,
      "outputs": [
        {
          "output_type": "stream",
          "name": "stdout",
          "text": [
            "Average Test Accuracy of the 1D-CNN+RNN Variant Model:0.7472\n",
            "Average Test Loss of the 1D-CNN+RNN Variant Model: 0.4317\n"
          ]
        }
      ]
    },
    {
      "cell_type": "markdown",
      "source": [
        "### Task 2: Time series classification using deep learning 2"
      ],
      "metadata": {
        "id": "WEevYhlXFWge"
      }
    },
    {
      "cell_type": "markdown",
      "source": [
        "There has been several neural network models dedicated to time series classification. Besides your own models that you developed in Lab 4, now you will develop such dedicated models by referring to some papers, and test if they indeed perform better than your rough models. There are two famous papers as follows:\n",
        " - [Convolutional neural networks for time series classification (2017)](https://ieeexplore.ieee.org/stamp/stamp.jsp?arnumber=7870510)\n",
        " - [Time Series Classification from Scratch with Deep Neural Networks: A Strong Baseline (2017)](https://arxiv.org/abs/1611.06455)\n",
        "\n",
        "First paper's idea is already implemented in sktime, with the name `CNNClassifier`. Second paper has three models and those are easy to develop using tensorflow. Now the task is to develop two models (MLP and FCN) in the second paper and test it together with `CNNClassifier`.\n",
        "\n",
        "Use the same four datasets, and test sktime's `CNNClassifier` and MLP and FCN models you develop. Report test scores of three models (`CNNClassifier`, MLP, and FCN) on three datasets you chose. It would be nine scores in total. For MLP and FCN, you may need to satisfy the following requirement:\n",
        "\n",
        "- You should use at least **two** Tensorflow callbacks when you fit your model. These can be built-in ones or your personalized callback.\n",
        "- You should run the model at least 10 epochs.\n",
        "- You can use the same processed datasets in Task 1. For `CNNClassifier`, as you cannot use `tf.Data`, you may put the training set directly.\n",
        "- For `CNNClassifier`, you can run it with the default parameters or reduce the number of epoch (default is 2000).\n",
        "- Please use the predefined test dataset to report the test scores.\n",
        "\n",
        "Note that the main purpose of this task is to check if you can develop a similar network structure with description. If the detail of the specific part (e.g., size of one layer or some custom parameters like epoch) is missing in the paper, you can set it on your own.\n",
        " "
      ],
      "metadata": {
        "id": "Qm1wqK6EGs9H"
      }
    },
    {
      "cell_type": "markdown",
      "source": [
        "#Using SKtime's CNNClassifier"
      ],
      "metadata": {
        "id": "D0TdW0GVY0ph"
      }
    },
    {
      "cell_type": "code",
      "source": [
        "from sktime.classification.deep_learning.cnn import CNNClassifier\n",
        "def classify(epochs, batch_size, verbose, Train, Test):\n",
        "  cnn = CNNClassifier(n_epochs=epochs,batch_size=batch_size,verbose=verbose) \n",
        "  cnn.fit(Train[0], Train[1]) \n",
        "  preds = cnn.predict(Test[0])\n",
        "  print(f'Test Accuracy Score:{accuracy_score(Test[1],preds)}')\n",
        "  return accuracy_score(Test[1],preds)"
      ],
      "metadata": {
        "id": "Zp3BTSzieK0L"
      },
      "execution_count": null,
      "outputs": []
    },
    {
      "cell_type": "code",
      "source": [
        "ECG_ACC = classify(20,4,False,ECG200_Train, ECG200_Test)"
      ],
      "metadata": {
        "colab": {
          "base_uri": "https://localhost:8080/"
        },
        "id": "WzonQNPhesS5",
        "outputId": "50d2f209-0538-4dc9-afe9-4e502da25e74"
      },
      "execution_count": null,
      "outputs": [
        {
          "output_type": "stream",
          "name": "stderr",
          "text": [
            "/usr/local/lib/python3.10/dist-packages/sklearn/preprocessing/_encoders.py:868: FutureWarning: `sparse` was renamed to `sparse_output` in version 1.2 and will be removed in 1.4. `sparse_output` is ignored unless you leave `sparse` to its default value.\n",
            "  warnings.warn(\n"
          ]
        },
        {
          "output_type": "stream",
          "name": "stdout",
          "text": [
            "25/25 [==============================] - 0s 2ms/step\n",
            "Test Accuracy Score:0.8\n"
          ]
        }
      ]
    },
    {
      "cell_type": "code",
      "source": [
        "EQ_ACC = classify(20,4,False,Earthquake_Train,Earthquake_Test)"
      ],
      "metadata": {
        "colab": {
          "base_uri": "https://localhost:8080/"
        },
        "id": "76im7Am6esej",
        "outputId": "dc2abb12-2520-4076-b031-105dd8b8cb0b"
      },
      "execution_count": null,
      "outputs": [
        {
          "output_type": "stream",
          "name": "stderr",
          "text": [
            "/usr/local/lib/python3.10/dist-packages/sklearn/preprocessing/_encoders.py:868: FutureWarning: `sparse` was renamed to `sparse_output` in version 1.2 and will be removed in 1.4. `sparse_output` is ignored unless you leave `sparse` to its default value.\n",
            "  warnings.warn(\n"
          ]
        },
        {
          "output_type": "stream",
          "name": "stdout",
          "text": [
            "35/35 [==============================] - 0s 2ms/step\n",
            "Test Accuracy Score:0.7482014388489209\n"
          ]
        }
      ]
    },
    {
      "cell_type": "code",
      "source": [
        "GP_ACC = classify(20,4,False,GunPoint_Train,GunPoint_Test)"
      ],
      "metadata": {
        "colab": {
          "base_uri": "https://localhost:8080/"
        },
        "id": "cIT-FyGfessk",
        "outputId": "121acf4d-830b-4f5e-af3c-2edf49b9b207"
      },
      "execution_count": null,
      "outputs": [
        {
          "output_type": "stream",
          "name": "stderr",
          "text": [
            "/usr/local/lib/python3.10/dist-packages/sklearn/preprocessing/_encoders.py:868: FutureWarning: `sparse` was renamed to `sparse_output` in version 1.2 and will be removed in 1.4. `sparse_output` is ignored unless you leave `sparse` to its default value.\n",
            "  warnings.warn(\n"
          ]
        },
        {
          "output_type": "stream",
          "name": "stdout",
          "text": [
            "38/38 [==============================] - 0s 2ms/step\n",
            "Test Accuracy Score:0.74\n"
          ]
        }
      ]
    },
    {
      "cell_type": "code",
      "source": [
        "Avg_test_acc = np.mean([ECG_ACC, EQ_ACC, GP_ACC])\n",
        "print(f\"Average Test Accuracy of the Sktime CNN Classifier:{round(Avg_test_acc,4)}\")"
      ],
      "metadata": {
        "colab": {
          "base_uri": "https://localhost:8080/"
        },
        "id": "ExLC_YRoNygn",
        "outputId": "780dbae4-2b47-4221-9a5b-869d933e2bac"
      },
      "execution_count": null,
      "outputs": [
        {
          "output_type": "stream",
          "name": "stdout",
          "text": [
            "Average Test Accuracy of the Sktime CNN Classifier:0.7627\n"
          ]
        }
      ]
    },
    {
      "cell_type": "markdown",
      "source": [
        "#FCN Classifier"
      ],
      "metadata": {
        "id": "siZhWI8lireu"
      }
    },
    {
      "cell_type": "code",
      "source": [
        "def FCN_Classifier(input_shape, num_classes):\n",
        "  input_layer = Input(input_shape)\n",
        "  conv1 = Conv1D(filters=128, kernel_size=8, padding='same')(input_layer)\n",
        "  conv1 = keras.layers.BatchNormalization()(conv1)\n",
        "  conv1 = keras.layers.Activation(activation='relu')(conv1)\n",
        "\n",
        "  conv2 = Conv1D(filters=256, kernel_size=5, padding='same')(conv1)\n",
        "  conv2 = keras.layers.BatchNormalization()(conv2)\n",
        "  conv2 = keras.layers.Activation('relu')(conv2)\n",
        "\n",
        "  conv3 = Conv1D(128, kernel_size=3,padding='same')(conv2)\n",
        "  conv3 = keras.layers.BatchNormalization()(conv3)\n",
        "  conv3 = keras.layers.Activation('relu')(conv3)\n",
        "  \n",
        "  gap_layer = keras.layers.GlobalAveragePooling1D()(conv3)\n",
        "  output_layer = keras.layers.Dense(num_classes, activation='softmax')(gap_layer)\n",
        "\n",
        "  model = Model(inputs=input_layer, outputs=output_layer)\n",
        "  return model\n",
        " \n"
      ],
      "metadata": {
        "id": "sIGkyz8divPx"
      },
      "execution_count": null,
      "outputs": []
    },
    {
      "cell_type": "code",
      "source": [
        "# Define the callbacks\n",
        "early_stopping = EarlyStopping(monitor='val_loss', patience=5, mode='min', restore_best_weights=True)\n",
        "model_checkpoint = ModelCheckpoint('FCN_Classifier.h5', monitor='val_accuracy', mode='max', save_best_only=True, save_weights_only=False)\n",
        "\n",
        "# Create the model\n",
        "def train_model(train_dataset, val_dataset, test_dataset, X_train, num_classes, epochs, lr=0.01):\n",
        "  model = FCN_Classifier(input_shape=X_train.shape[1:], num_classes=num_classes)\n",
        "  optimizer = Adam(learning_rate=lr)\n",
        "  model.compile(optimizer=optimizer, loss='categorical_crossentropy', metrics=['accuracy'])\n",
        "  history = model.fit(train_dataset, epochs=epochs, validation_data=val_dataset, callbacks=[early_stopping, model_checkpoint])\n",
        "  test_loss, test_acc = model.evaluate(test_dataset)\n",
        "  print('Test accuracy:', test_acc)\n",
        "  return test_loss, test_acc"
      ],
      "metadata": {
        "id": "VqpytJR_kWe_"
      },
      "execution_count": null,
      "outputs": []
    },
    {
      "cell_type": "code",
      "source": [
        "train_dataset, val_dataset, inputs = load_data_rnn(Ecg_train, Ecg_ytest, Ecg_val, Ecg_valtest, val=True)\n",
        "test_dataset = load_data_rnn(ECG200_Test[0],ECG200_Test[1],val=False)\n",
        "\n",
        "ECG_loss, ECG_acc = train_model(train_dataset, val_dataset, test_dataset, inputs, 2, 100)"
      ],
      "metadata": {
        "colab": {
          "base_uri": "https://localhost:8080/"
        },
        "id": "L1sMc5kNlBK7",
        "outputId": "2283a23f-abde-4941-e5ba-a14012e6ca8c"
      },
      "execution_count": null,
      "outputs": [
        {
          "output_type": "stream",
          "name": "stdout",
          "text": [
            "Epoch 1/100\n",
            "6/6 [==============================] - 3s 204ms/step - loss: 0.2261 - accuracy: 0.8222 - val_loss: 2.6345e-06 - val_accuracy: 1.0000\n",
            "Epoch 2/100\n",
            "6/6 [==============================] - 1s 129ms/step - loss: 0.0014 - accuracy: 1.0000 - val_loss: 0.0000e+00 - val_accuracy: 1.0000\n",
            "Epoch 3/100\n",
            "6/6 [==============================] - 1s 123ms/step - loss: 1.3489e-04 - accuracy: 1.0000 - val_loss: 0.0000e+00 - val_accuracy: 1.0000\n",
            "Epoch 4/100\n",
            "6/6 [==============================] - 1s 117ms/step - loss: 3.9791e-05 - accuracy: 1.0000 - val_loss: 0.0000e+00 - val_accuracy: 1.0000\n",
            "Epoch 5/100\n",
            "6/6 [==============================] - 1s 82ms/step - loss: 2.0032e-05 - accuracy: 1.0000 - val_loss: 1.1921e-08 - val_accuracy: 1.0000\n",
            "Epoch 6/100\n",
            "6/6 [==============================] - 0s 73ms/step - loss: 1.3708e-05 - accuracy: 1.0000 - val_loss: 9.5367e-08 - val_accuracy: 1.0000\n",
            "Epoch 7/100\n",
            "6/6 [==============================] - 0s 74ms/step - loss: 1.0753e-05 - accuracy: 1.0000 - val_loss: 3.0994e-07 - val_accuracy: 1.0000\n",
            "7/7 [==============================] - 0s 16ms/step - loss: 2.3842e-09 - accuracy: 1.0000\n",
            "Test accuracy: 1.0\n"
          ]
        }
      ]
    },
    {
      "cell_type": "code",
      "source": [
        "train_dataset, val_dataset, inputs = load_data_rnn(Eq_train, Eq_ytest, Eq_val, Eq_valtest, val=True)\n",
        "test_dataset = load_data_rnn(Earthquake_Test[0],Earthquake_Test[1],val=False)\n",
        "\n",
        "Eq_loss, Eq_acc = train_model(train_dataset, val_dataset, test_dataset, inputs, 2, 100)"
      ],
      "metadata": {
        "colab": {
          "base_uri": "https://localhost:8080/"
        },
        "id": "MZipzZ5YlJ9h",
        "outputId": "c02b4fc1-8576-48d2-e694-b34a4a77ed86"
      },
      "execution_count": null,
      "outputs": [
        {
          "output_type": "stream",
          "name": "stdout",
          "text": [
            "Epoch 1/100\n",
            "19/19 [==============================] - 9s 322ms/step - loss: 0.5191 - accuracy: 0.7924 - val_loss: 1.8034 - val_accuracy: 0.8485\n",
            "Epoch 2/100\n",
            "19/19 [==============================] - 8s 418ms/step - loss: 0.5018 - accuracy: 0.8166 - val_loss: 0.3974 - val_accuracy: 0.8485\n",
            "Epoch 3/100\n",
            "19/19 [==============================] - 9s 481ms/step - loss: 0.4958 - accuracy: 0.8131 - val_loss: 0.3879 - val_accuracy: 0.8485\n",
            "Epoch 4/100\n",
            "19/19 [==============================] - 7s 347ms/step - loss: 0.4721 - accuracy: 0.8166 - val_loss: 0.4115 - val_accuracy: 0.8485\n",
            "Epoch 5/100\n",
            "19/19 [==============================] - 7s 390ms/step - loss: 0.4524 - accuracy: 0.8166 - val_loss: 0.3981 - val_accuracy: 0.8485\n",
            "Epoch 6/100\n",
            "19/19 [==============================] - 5s 285ms/step - loss: 0.4656 - accuracy: 0.8166 - val_loss: 0.3902 - val_accuracy: 0.8485\n",
            "Epoch 7/100\n",
            "19/19 [==============================] - 7s 374ms/step - loss: 0.4503 - accuracy: 0.8166 - val_loss: 0.4070 - val_accuracy: 0.8485\n",
            "Epoch 8/100\n",
            "19/19 [==============================] - 7s 342ms/step - loss: 0.4397 - accuracy: 0.8166 - val_loss: 0.3885 - val_accuracy: 0.8485\n",
            "9/9 [==============================] - 1s 75ms/step - loss: 0.5579 - accuracy: 0.7482\n",
            "Test accuracy: 0.7482014298439026\n"
          ]
        }
      ]
    },
    {
      "cell_type": "code",
      "source": [
        "train_dataset, val_dataset, inputs = load_data_rnn(Gp_train, Gp_ytest, Gp_val, Gp_valtest, val=True)\n",
        "test_dataset = load_data_rnn(GunPoint_Test[0],GunPoint_Test[1],val=False)\n",
        "\n",
        "Gp_loss, Gp_acc = train_model(train_dataset, val_dataset, test_dataset, inputs, 2, 100)"
      ],
      "metadata": {
        "colab": {
          "base_uri": "https://localhost:8080/"
        },
        "id": "hoXBbfLclKLY",
        "outputId": "92d76bd3-ba25-4dcc-9163-db376d7c94cc"
      },
      "execution_count": null,
      "outputs": [
        {
          "output_type": "stream",
          "name": "stdout",
          "text": [
            "Epoch 1/100\n",
            "3/3 [==============================] - 2s 205ms/step - loss: 0.9263 - accuracy: 0.4889 - val_loss: 2.8275 - val_accuracy: 0.6000\n",
            "Epoch 2/100\n",
            "3/3 [==============================] - 0s 137ms/step - loss: 0.6781 - accuracy: 0.5778 - val_loss: 9.2390 - val_accuracy: 0.6000\n",
            "Epoch 3/100\n",
            "3/3 [==============================] - 1s 178ms/step - loss: 0.6501 - accuracy: 0.4889 - val_loss: 9.1004 - val_accuracy: 0.6000\n",
            "Epoch 4/100\n",
            "3/3 [==============================] - 1s 171ms/step - loss: 0.6299 - accuracy: 0.6667 - val_loss: 6.4959 - val_accuracy: 0.6000\n",
            "Epoch 5/100\n",
            "3/3 [==============================] - 1s 176ms/step - loss: 0.6284 - accuracy: 0.6000 - val_loss: 7.3786 - val_accuracy: 0.6000\n",
            "Epoch 6/100\n",
            "3/3 [==============================] - 1s 170ms/step - loss: 0.5799 - accuracy: 0.7111 - val_loss: 7.5614 - val_accuracy: 0.6000\n",
            "10/10 [==============================] - 0s 41ms/step - loss: 3.4361 - accuracy: 0.4933\n",
            "Test accuracy: 0.4933333396911621\n"
          ]
        }
      ]
    },
    {
      "cell_type": "code",
      "source": [
        "Avg_test_acc = np.mean([ECG_acc, Eq_acc, Gp_acc])\n",
        "Avg_test_loss = np.mean([ECG_loss, Eq_loss, Gp_loss])\n",
        "print(f\"Average Test Accuracy of the FCN Network:{round(Avg_test_acc,4)}\")\n",
        "print(f\"Average Test Loss of the FCN Network: {round(Avg_test_loss,4)}\")"
      ],
      "metadata": {
        "colab": {
          "base_uri": "https://localhost:8080/"
        },
        "id": "jlsvAiIsP3j_",
        "outputId": "9c31e95a-3876-4f30-bbed-679387dfb603"
      },
      "execution_count": null,
      "outputs": [
        {
          "output_type": "stream",
          "name": "stdout",
          "text": [
            "Average Test Accuracy of the FCN Network:0.7472\n",
            "Average Test Loss of the FCN Network: 1.3313\n"
          ]
        }
      ]
    },
    {
      "cell_type": "markdown",
      "source": [
        "#MLP Classifier"
      ],
      "metadata": {
        "id": "PvHLAjurlfzF"
      }
    },
    {
      "cell_type": "code",
      "source": [
        "def MLP_Classifier(input_shape, num_classes):\n",
        "  input_layer = Input(input_shape)\n",
        "  # flatten/reshape because when multivariate all should be on the same axis \n",
        "  input_layer_flattened = keras.layers.Flatten()(input_layer)\n",
        "  layer_1 = Dropout(0.1)(input_layer_flattened)\n",
        "  layer_1 = Dense(500, activation='relu')(layer_1)\n",
        "  layer_2 = Dropout(0.2)(layer_1)\n",
        "  layer_2 = Dense(500, activation='relu')(layer_2)\n",
        "\n",
        "  layer_3 = Dropout(0.2)(layer_2)\n",
        "  layer_3 = Dense(500, activation='relu')(layer_3)\n",
        "\n",
        "  output_layer = Dropout(0.3)(layer_3)\n",
        "  output_layer = Dense(num_classes, activation='softmax')(output_layer)\n",
        "\n",
        "  model = Model(inputs=input_layer, outputs=output_layer)\n",
        "  return model\n"
      ],
      "metadata": {
        "id": "ZW4s5384mJRb"
      },
      "execution_count": null,
      "outputs": []
    },
    {
      "cell_type": "code",
      "source": [
        "# Define the callbacks\n",
        "early_stopping = EarlyStopping(monitor='val_loss', patience=5, mode='min', restore_best_weights=True)\n",
        "model_checkpoint = ModelCheckpoint('MLP_Classifier.h5', monitor='val_accuracy', mode='max', save_best_only=True, save_weights_only=False)\n",
        "\n",
        "# Create the model\n",
        "def train_model(train_dataset, val_dataset, test_dataset, X_train, num_classes, epochs, lr=0.01):\n",
        "  model = MLP_Classifier(input_shape=X_train.shape[1:], num_classes=num_classes)\n",
        "  optimizer = Adam(learning_rate=lr)\n",
        "  model.compile(optimizer=optimizer, loss='categorical_crossentropy', metrics=['accuracy'])\n",
        "  history = model.fit(train_dataset, epochs=epochs, validation_data=val_dataset, callbacks=[early_stopping, model_checkpoint])\n",
        "  test_loss, test_acc = model.evaluate(test_dataset)\n",
        "  print('Test accuracy:', test_acc)\n",
        "  return test_loss, test_acc"
      ],
      "metadata": {
        "id": "n9O39X29mJZp"
      },
      "execution_count": null,
      "outputs": []
    },
    {
      "cell_type": "code",
      "source": [
        "train_dataset, val_dataset, inputs = load_data_rnn(Ecg_train, Ecg_ytest, Ecg_val, Ecg_valtest, val=True)\n",
        "test_dataset = load_data_rnn(ECG200_Test[0],ECG200_Test[1],val=False)\n",
        "\n",
        "ECG_loss, ECG_acc = train_model(train_dataset, val_dataset, test_dataset, inputs, 2, 100)"
      ],
      "metadata": {
        "colab": {
          "base_uri": "https://localhost:8080/"
        },
        "id": "vECjpy9VmJgY",
        "outputId": "e4df22ef-9d59-45d4-ce28-33f648e57748"
      },
      "execution_count": null,
      "outputs": [
        {
          "output_type": "stream",
          "name": "stdout",
          "text": [
            "Epoch 1/100\n",
            "6/6 [==============================] - 2s 78ms/step - loss: 0.0942 - accuracy: 0.9556 - val_loss: 0.0000e+00 - val_accuracy: 1.0000\n",
            "Epoch 2/100\n",
            "6/6 [==============================] - 0s 25ms/step - loss: 0.0000e+00 - accuracy: 1.0000 - val_loss: 0.0000e+00 - val_accuracy: 1.0000\n",
            "Epoch 3/100\n",
            "6/6 [==============================] - 0s 19ms/step - loss: 0.0000e+00 - accuracy: 1.0000 - val_loss: 0.0000e+00 - val_accuracy: 1.0000\n",
            "Epoch 4/100\n",
            "6/6 [==============================] - 0s 24ms/step - loss: 0.0000e+00 - accuracy: 1.0000 - val_loss: 0.0000e+00 - val_accuracy: 1.0000\n",
            "Epoch 5/100\n",
            "6/6 [==============================] - 0s 16ms/step - loss: 0.0000e+00 - accuracy: 1.0000 - val_loss: 0.0000e+00 - val_accuracy: 1.0000\n",
            "Epoch 6/100\n",
            "6/6 [==============================] - 0s 15ms/step - loss: 0.0000e+00 - accuracy: 1.0000 - val_loss: 0.0000e+00 - val_accuracy: 1.0000\n",
            "7/7 [==============================] - 0s 3ms/step - loss: 0.0000e+00 - accuracy: 1.0000\n",
            "Test accuracy: 1.0\n"
          ]
        }
      ]
    },
    {
      "cell_type": "code",
      "source": [
        "train_dataset, val_dataset, inputs = load_data_rnn(Eq_train, Eq_ytest, Eq_val, Eq_valtest, val=True)\n",
        "test_dataset = load_data_rnn(Earthquake_Test[0],Earthquake_Test[1],val=False)\n",
        "\n",
        "Eq_loss, Eq_acc = train_model(train_dataset, val_dataset, test_dataset, inputs, 2, 100)"
      ],
      "metadata": {
        "colab": {
          "base_uri": "https://localhost:8080/"
        },
        "id": "OtlfxlG_mZb2",
        "outputId": "96af8186-706f-4c13-9265-c59f43ea1c6b"
      },
      "execution_count": null,
      "outputs": [
        {
          "output_type": "stream",
          "name": "stdout",
          "text": [
            "Epoch 1/100\n",
            "19/19 [==============================] - 1s 22ms/step - loss: 2.0209 - accuracy: 0.7405 - val_loss: 0.5239 - val_accuracy: 0.8485\n",
            "Epoch 2/100\n",
            "19/19 [==============================] - 0s 14ms/step - loss: 0.4644 - accuracy: 0.8097 - val_loss: 0.7281 - val_accuracy: 0.8485\n",
            "Epoch 3/100\n",
            "19/19 [==============================] - 0s 13ms/step - loss: 0.5107 - accuracy: 0.8651 - val_loss: 0.5502 - val_accuracy: 0.7879\n",
            "Epoch 4/100\n",
            "19/19 [==============================] - 0s 13ms/step - loss: 0.4242 - accuracy: 0.8720 - val_loss: 0.7602 - val_accuracy: 0.8485\n",
            "Epoch 5/100\n",
            "19/19 [==============================] - 0s 13ms/step - loss: 0.3074 - accuracy: 0.9170 - val_loss: 0.7068 - val_accuracy: 0.7879\n",
            "Epoch 6/100\n",
            "19/19 [==============================] - 0s 13ms/step - loss: 0.1795 - accuracy: 0.9516 - val_loss: 0.7636 - val_accuracy: 0.7879\n",
            "9/9 [==============================] - 0s 4ms/step - loss: 0.5896 - accuracy: 0.7482\n",
            "Test accuracy: 0.7482014298439026\n"
          ]
        }
      ]
    },
    {
      "cell_type": "code",
      "source": [
        "train_dataset, val_dataset, inputs = load_data_rnn(Gp_train, Gp_ytest, Gp_val, Gp_valtest, val=True)\n",
        "test_dataset = load_data_rnn(GunPoint_Test[0],GunPoint_Test[1],val=False)\n",
        "\n",
        "Gp_loss, Gp_acc = train_model(train_dataset, val_dataset, test_dataset, inputs, 2, 100)"
      ],
      "metadata": {
        "colab": {
          "base_uri": "https://localhost:8080/"
        },
        "id": "7H6Q3-61mZtS",
        "outputId": "309c33e6-afa3-438e-a941-06d2bde00fbc"
      },
      "execution_count": null,
      "outputs": [
        {
          "output_type": "stream",
          "name": "stdout",
          "text": [
            "Epoch 1/100\n",
            "3/3 [==============================] - 1s 93ms/step - loss: 14.5846 - accuracy: 0.4000 - val_loss: 5.6780 - val_accuracy: 0.6000\n",
            "Epoch 2/100\n",
            "3/3 [==============================] - 0s 21ms/step - loss: 3.0627 - accuracy: 0.5333 - val_loss: 0.7625 - val_accuracy: 0.4000\n",
            "Epoch 3/100\n",
            "3/3 [==============================] - 0s 18ms/step - loss: 0.7811 - accuracy: 0.4667 - val_loss: 0.6266 - val_accuracy: 1.0000\n",
            "Epoch 4/100\n",
            "3/3 [==============================] - 0s 21ms/step - loss: 0.5837 - accuracy: 0.6889 - val_loss: 0.5382 - val_accuracy: 0.8000\n",
            "Epoch 5/100\n",
            "3/3 [==============================] - 0s 19ms/step - loss: 0.4310 - accuracy: 0.8000 - val_loss: 0.2990 - val_accuracy: 1.0000\n",
            "Epoch 6/100\n",
            "3/3 [==============================] - 0s 21ms/step - loss: 0.4110 - accuracy: 0.8667 - val_loss: 0.4928 - val_accuracy: 0.8000\n",
            "Epoch 7/100\n",
            "3/3 [==============================] - 0s 22ms/step - loss: 0.2800 - accuracy: 0.8444 - val_loss: 1.2304 - val_accuracy: 0.6000\n",
            "Epoch 8/100\n",
            "3/3 [==============================] - 0s 16ms/step - loss: 0.3934 - accuracy: 0.8222 - val_loss: 0.3083 - val_accuracy: 0.8000\n",
            "Epoch 9/100\n",
            "3/3 [==============================] - 0s 26ms/step - loss: 0.2861 - accuracy: 0.8889 - val_loss: 0.2788 - val_accuracy: 1.0000\n",
            "Epoch 10/100\n",
            "3/3 [==============================] - 0s 17ms/step - loss: 0.2358 - accuracy: 0.8889 - val_loss: 0.1733 - val_accuracy: 1.0000\n",
            "Epoch 11/100\n",
            "3/3 [==============================] - 0s 17ms/step - loss: 0.2973 - accuracy: 0.8444 - val_loss: 0.1363 - val_accuracy: 1.0000\n",
            "Epoch 12/100\n",
            "3/3 [==============================] - 0s 28ms/step - loss: 0.2792 - accuracy: 0.8222 - val_loss: 0.2177 - val_accuracy: 1.0000\n",
            "Epoch 13/100\n",
            "3/3 [==============================] - 0s 17ms/step - loss: 0.4376 - accuracy: 0.8667 - val_loss: 0.2038 - val_accuracy: 0.8000\n",
            "Epoch 14/100\n",
            "3/3 [==============================] - 0s 18ms/step - loss: 0.3976 - accuracy: 0.8444 - val_loss: 0.0871 - val_accuracy: 1.0000\n",
            "Epoch 15/100\n",
            "3/3 [==============================] - 0s 17ms/step - loss: 0.2732 - accuracy: 0.8222 - val_loss: 0.2561 - val_accuracy: 1.0000\n",
            "Epoch 16/100\n",
            "3/3 [==============================] - 0s 18ms/step - loss: 0.2806 - accuracy: 0.8889 - val_loss: 0.3599 - val_accuracy: 0.8000\n",
            "Epoch 17/100\n",
            "3/3 [==============================] - 0s 17ms/step - loss: 0.2665 - accuracy: 0.8444 - val_loss: 0.2746 - val_accuracy: 0.8000\n",
            "Epoch 18/100\n",
            "3/3 [==============================] - 0s 26ms/step - loss: 0.2330 - accuracy: 0.8889 - val_loss: 0.2108 - val_accuracy: 0.8000\n",
            "Epoch 19/100\n",
            "3/3 [==============================] - 0s 21ms/step - loss: 0.2446 - accuracy: 0.8667 - val_loss: 0.1680 - val_accuracy: 0.8000\n",
            "10/10 [==============================] - 0s 3ms/step - loss: 0.5328 - accuracy: 0.7133\n",
            "Test accuracy: 0.7133333086967468\n"
          ]
        }
      ]
    },
    {
      "cell_type": "code",
      "source": [
        "Avg_test_acc = np.mean([ECG_acc, Eq_acc, Gp_acc])\n",
        "Avg_test_loss = np.mean([ECG_loss, Eq_loss, Gp_loss])\n",
        "print(f\"Average Test Accuracy of the MLP Classifier:{round(Avg_test_acc,4)}\")\n",
        "print(f\"Average Test Loss of the MLP Classifier: {round(Avg_test_loss,4)}\")"
      ],
      "metadata": {
        "colab": {
          "base_uri": "https://localhost:8080/"
        },
        "id": "14Y7_hc_SADm",
        "outputId": "9b5bb38a-774b-4bb1-d375-19d369433e4f"
      },
      "execution_count": null,
      "outputs": [
        {
          "output_type": "stream",
          "name": "stdout",
          "text": [
            "Average Test Accuracy of the MLP Classifier:0.8205\n",
            "Average Test Loss of the MLP Classifier: 0.3741\n"
          ]
        }
      ]
    },
    {
      "cell_type": "markdown",
      "source": [
        "### Task 3: Time series classification using deep learning 3"
      ],
      "metadata": {
        "id": "aYGxGXfnG1c6"
      }
    },
    {
      "cell_type": "markdown",
      "source": [
        "Next, you can try to further improve your model by selecting one of the following ideas (or you can suggest your own ideas that are not trivial):\n",
        "- Use residual connection to your model (= implement **ResNet** in [this](https://arxiv.org/abs/1611.06455) paper). \n",
        "- Add transformer/attention layer to your model (you can choose any model from Tasks 1 and 2).\n",
        "- Use RNN and CNN networks separately, create two to three layers individually, and concatenate them. This means that until the third (or second) layer, you have two different networks handling the same dataset, and after that, you concatenate the output and finish with any FCN layer. Check [this post](https://stackoverflow.com/questions/59168306/how-to-combine-lstm-and-cnn-in-timeseries-classification) to get inspired.\n",
        "- Apply any sktime's transformer (not attention transformer) first to the dataset and run any deep learning model you already developed in Tasks 2 and 3. In this case, you need to choose at least two transformers and apply them together.\n",
        "- Train the model on multiple similar datasets and test it on one specific test set. Check if the model can be improved if it is trained on multiple datasets. However, for this, you may need to choose the similar datasets based on their classification (UCR repository has a specific dataset type such as **AUDIO** or **MOTION**).\n",
        "\n",
        "Choose one model you want from the models you have developed in Tasks 1 and 2. Select one idea, try implementing it, and check if you can improve the performance. Note that you do not need to prove that the accuracy scores increase but must explain your trials. Report test scores on three datasets you chose."
      ],
      "metadata": {
        "id": "ZbqsQIicG_nb"
      }
    },
    {
      "cell_type": "markdown",
      "source": [
        "#ResNet_Classifier"
      ],
      "metadata": {
        "id": "yv5XEHQErMd3"
      }
    },
    {
      "cell_type": "code",
      "source": [
        "def ResNet_Classifier(input_shape, num_classes):\n",
        "  n_feature_maps = 64\n",
        "  input_layer = Input(input_shape)\n",
        "  # BLOCK 1\n",
        "  conv_x = Conv1D(filters=n_feature_maps, kernel_size=8, padding='same')(input_layer)\n",
        "  conv_x = keras.layers.BatchNormalization()(conv_x)\n",
        "  conv_x = keras.layers.Activation('relu')(conv_x)\n",
        "\n",
        "  conv_y = Conv1D(filters=n_feature_maps, kernel_size=5, padding='same')(conv_x)\n",
        "  conv_y = keras.layers.BatchNormalization()(conv_y)\n",
        "  conv_y = keras.layers.Activation('relu')(conv_y)\n",
        "\n",
        "  conv_z = Conv1D(filters=n_feature_maps, kernel_size=3, padding='same')(conv_y)\n",
        "  conv_z = keras.layers.BatchNormalization()(conv_z)\n",
        "\n",
        "  # expand channels for the sum\n",
        "  shortcut_y = Conv1D(filters=n_feature_maps, kernel_size=1, padding='same')(input_layer)\n",
        "  shortcut_y = keras.layers.BatchNormalization()(shortcut_y)\n",
        "  output_block_1 = keras.layers.add([shortcut_y, conv_z])\n",
        "  output_block_1 = keras.layers.Activation('relu')(output_block_1)\n",
        "\n",
        "  # BLOCK 2\n",
        "  conv_x = Conv1D(filters=n_feature_maps * 2, kernel_size=8, padding='same')(output_block_1)\n",
        "  conv_x = keras.layers.BatchNormalization()(conv_x)\n",
        "  conv_x = keras.layers.Activation('relu')(conv_x)\n",
        "\n",
        "  conv_y = Conv1D(filters=n_feature_maps * 2, kernel_size=5, padding='same')(conv_x)\n",
        "  conv_y = keras.layers.BatchNormalization()(conv_y)\n",
        "  conv_y = keras.layers.Activation('relu')(conv_y)\n",
        "\n",
        "  conv_z = Conv1D(filters=n_feature_maps * 2, kernel_size=3, padding='same')(conv_y)\n",
        "  conv_z = keras.layers.BatchNormalization()(conv_z)\n",
        "\n",
        "  # expand channels for the sum\n",
        "  shortcut_y = Conv1D(filters=n_feature_maps * 2, kernel_size=1, padding='same')(output_block_1)\n",
        "  shortcut_y = keras.layers.BatchNormalization()(shortcut_y)\n",
        "\n",
        "  output_block_2 = keras.layers.add([shortcut_y, conv_z])\n",
        "  output_block_2 = keras.layers.Activation('relu')(output_block_2)\n",
        "\n",
        "  # BLOCK 3\n",
        "  conv_x = Conv1D(filters=n_feature_maps * 2, kernel_size=8, padding='same')(output_block_2)\n",
        "  conv_x = keras.layers.BatchNormalization()(conv_x)\n",
        "  conv_x = keras.layers.Activation('relu')(conv_x)\n",
        "\n",
        "  conv_y = Conv1D(filters=n_feature_maps * 2, kernel_size=5, padding='same')(conv_x)\n",
        "  conv_y = keras.layers.BatchNormalization()(conv_y)\n",
        "  conv_y = keras.layers.Activation('relu')(conv_y)\n",
        "\n",
        "  conv_z = Conv1D(filters=n_feature_maps * 2, kernel_size=3, padding='same')(conv_y)\n",
        "  conv_z = keras.layers.BatchNormalization()(conv_z)\n",
        "\n",
        "  # no need to expand channels because they are equal\n",
        "  shortcut_y = keras.layers.BatchNormalization()(output_block_2)\n",
        "  output_block_3 = keras.layers.add([shortcut_y, conv_z])\n",
        "  output_block_3 = keras.layers.Activation('relu')(output_block_3)\n",
        "\n",
        "  # FINAL\n",
        "  gap_layer = keras.layers.GlobalAveragePooling1D()(output_block_3)\n",
        "  output_layer = Dense(num_classes, activation='softmax')(gap_layer)\n",
        "\n",
        "  model = Model(inputs=input_layer, outputs=output_layer)\n",
        "  return model"
      ],
      "metadata": {
        "id": "z00ZOCqDFZeC"
      },
      "execution_count": null,
      "outputs": []
    },
    {
      "cell_type": "code",
      "source": [
        "# Define the callbacks\n",
        "early_stopping = EarlyStopping(monitor='val_loss', patience=5, mode='min', restore_best_weights=True)\n",
        "model_checkpoint = ModelCheckpoint('ResNet_Classifier.h5', monitor='val_accuracy', mode='max', save_best_only=True, save_weights_only=False)\n",
        "\n",
        "# Create the model\n",
        "def train_model(train_dataset, val_dataset, test_dataset, X_train, num_classes, epochs, lr=0.01):\n",
        "  model = ResNet_Classifier(input_shape=X_train.shape[1:], num_classes=num_classes)\n",
        "  optimizer = Adam(learning_rate=lr)\n",
        "  model.compile(optimizer=optimizer, loss='categorical_crossentropy', metrics=['accuracy'])\n",
        "  history = model.fit(train_dataset, epochs=epochs, validation_data=val_dataset, callbacks=[early_stopping, model_checkpoint])\n",
        "  test_loss, test_acc = model.evaluate(test_dataset)\n",
        "  print('Test accuracy:', test_acc)\n",
        "  return test_loss, test_acc"
      ],
      "metadata": {
        "id": "hxTBc81vsqom"
      },
      "execution_count": null,
      "outputs": []
    },
    {
      "cell_type": "code",
      "source": [
        "train_dataset, val_dataset, inputs = load_data_rnn(Ecg_train, Ecg_ytest, Ecg_val, Ecg_valtest, val=True)\n",
        "test_dataset = load_data_rnn(ECG200_Test[0],ECG200_Test[1],val=False)\n",
        "\n",
        "ECG_loss, ECG_acc = train_model(train_dataset, val_dataset, test_dataset, inputs, 2, 100)"
      ],
      "metadata": {
        "colab": {
          "base_uri": "https://localhost:8080/"
        },
        "id": "4-0E88mhs21U",
        "outputId": "a09754dd-e6d3-4c60-90f6-30b2162094f7"
      },
      "execution_count": null,
      "outputs": [
        {
          "output_type": "stream",
          "name": "stdout",
          "text": [
            "Epoch 1/100\n",
            "6/6 [==============================] - 10s 339ms/step - loss: 0.2707 - accuracy: 0.8222 - val_loss: 0.0000e+00 - val_accuracy: 1.0000\n",
            "Epoch 2/100\n",
            "6/6 [==============================] - 1s 138ms/step - loss: 1.1401e-04 - accuracy: 1.0000 - val_loss: 0.0000e+00 - val_accuracy: 1.0000\n",
            "Epoch 3/100\n",
            "6/6 [==============================] - 1s 139ms/step - loss: 1.5875e-05 - accuracy: 1.0000 - val_loss: 0.0000e+00 - val_accuracy: 1.0000\n",
            "Epoch 4/100\n",
            "6/6 [==============================] - 1s 234ms/step - loss: 6.0174e-06 - accuracy: 1.0000 - val_loss: 0.0000e+00 - val_accuracy: 1.0000\n",
            "Epoch 5/100\n",
            "6/6 [==============================] - 1s 239ms/step - loss: 3.4690e-06 - accuracy: 1.0000 - val_loss: 0.0000e+00 - val_accuracy: 1.0000\n",
            "Epoch 6/100\n",
            "6/6 [==============================] - 1s 148ms/step - loss: 2.5656e-06 - accuracy: 1.0000 - val_loss: 0.0000e+00 - val_accuracy: 1.0000\n",
            "7/7 [==============================] - 0s 30ms/step - loss: 0.0000e+00 - accuracy: 1.0000\n",
            "Test accuracy: 1.0\n"
          ]
        }
      ]
    },
    {
      "cell_type": "code",
      "source": [
        "train_dataset, val_dataset, inputs = load_data_rnn(Eq_train, Eq_ytest, Eq_val, Eq_valtest, val=True)\n",
        "test_dataset = load_data_rnn(Earthquake_Test[0],Earthquake_Test[1],val=False)\n",
        "\n",
        "Eq_loss, Eq_acc = train_model(train_dataset, val_dataset, test_dataset, inputs, 2, 100)"
      ],
      "metadata": {
        "colab": {
          "base_uri": "https://localhost:8080/"
        },
        "id": "EO5sHb9Ws4ZC",
        "outputId": "3a999695-dcac-4e2c-b24a-0cb7a847530f"
      },
      "execution_count": null,
      "outputs": [
        {
          "output_type": "stream",
          "name": "stdout",
          "text": [
            "Epoch 1/100\n",
            "19/19 [==============================] - 24s 815ms/step - loss: 0.5300 - accuracy: 0.8131 - val_loss: 256.8724 - val_accuracy: 0.1515\n",
            "Epoch 2/100\n",
            "19/19 [==============================] - 15s 774ms/step - loss: 0.4753 - accuracy: 0.8062 - val_loss: 74.7428 - val_accuracy: 0.1515\n",
            "Epoch 3/100\n",
            "19/19 [==============================] - 14s 687ms/step - loss: 0.5184 - accuracy: 0.7958 - val_loss: 0.8097 - val_accuracy: 0.8485\n",
            "Epoch 4/100\n",
            "19/19 [==============================] - 17s 883ms/step - loss: 0.4473 - accuracy: 0.8166 - val_loss: 0.4091 - val_accuracy: 0.8485\n",
            "Epoch 5/100\n",
            "19/19 [==============================] - 13s 639ms/step - loss: 0.4427 - accuracy: 0.8166 - val_loss: 1.8276 - val_accuracy: 0.2727\n",
            "Epoch 6/100\n",
            "19/19 [==============================] - 14s 733ms/step - loss: 0.4972 - accuracy: 0.7785 - val_loss: 0.4360 - val_accuracy: 0.8485\n",
            "Epoch 7/100\n",
            "19/19 [==============================] - 18s 929ms/step - loss: 0.4716 - accuracy: 0.8166 - val_loss: 0.3861 - val_accuracy: 0.8485\n",
            "Epoch 8/100\n",
            "19/19 [==============================] - 13s 644ms/step - loss: 0.4705 - accuracy: 0.8166 - val_loss: 0.3916 - val_accuracy: 0.8485\n",
            "Epoch 9/100\n",
            "19/19 [==============================] - 15s 785ms/step - loss: 0.4437 - accuracy: 0.8166 - val_loss: 0.4049 - val_accuracy: 0.8485\n",
            "Epoch 10/100\n",
            "19/19 [==============================] - 14s 768ms/step - loss: 0.4517 - accuracy: 0.8166 - val_loss: 0.4045 - val_accuracy: 0.8485\n",
            "Epoch 11/100\n",
            "19/19 [==============================] - 13s 672ms/step - loss: 0.4685 - accuracy: 0.8166 - val_loss: 0.4153 - val_accuracy: 0.8485\n",
            "Epoch 12/100\n",
            "19/19 [==============================] - 13s 673ms/step - loss: 0.4585 - accuracy: 0.8166 - val_loss: 0.4101 - val_accuracy: 0.8485\n",
            "9/9 [==============================] - 2s 208ms/step - loss: 0.5569 - accuracy: 0.7482\n",
            "Test accuracy: 0.7482014298439026\n"
          ]
        }
      ]
    },
    {
      "cell_type": "code",
      "source": [
        "train_dataset, val_dataset, inputs = load_data_rnn(Gp_train, Gp_ytest, Gp_val, Gp_valtest, val=True)\n",
        "test_dataset = load_data_rnn(GunPoint_Test[0],GunPoint_Test[1],val=False)\n",
        "\n",
        "Gp_loss, Gp_acc = train_model(train_dataset, val_dataset, test_dataset, inputs, 2, 100)"
      ],
      "metadata": {
        "colab": {
          "base_uri": "https://localhost:8080/"
        },
        "id": "LC-0wX2us4xk",
        "outputId": "618cc4d9-a7ec-4634-c658-d0b3ff659e93"
      },
      "execution_count": null,
      "outputs": [
        {
          "output_type": "stream",
          "name": "stdout",
          "text": [
            "Epoch 1/100\n",
            "3/3 [==============================] - 7s 451ms/step - loss: 1.0808 - accuracy: 0.6667 - val_loss: 176.5463 - val_accuracy: 0.6000\n",
            "Epoch 2/100\n",
            "3/3 [==============================] - 1s 244ms/step - loss: 0.8494 - accuracy: 0.6889 - val_loss: 4541.4990 - val_accuracy: 0.6000\n",
            "Epoch 3/100\n",
            "3/3 [==============================] - 1s 359ms/step - loss: 0.6666 - accuracy: 0.6444 - val_loss: 9646.0830 - val_accuracy: 0.6000\n",
            "Epoch 4/100\n",
            "3/3 [==============================] - 1s 354ms/step - loss: 0.5642 - accuracy: 0.7111 - val_loss: 8316.3789 - val_accuracy: 0.6000\n",
            "Epoch 5/100\n",
            "3/3 [==============================] - 1s 342ms/step - loss: 0.6180 - accuracy: 0.7333 - val_loss: 4786.0171 - val_accuracy: 0.6000\n",
            "Epoch 6/100\n",
            "3/3 [==============================] - 1s 372ms/step - loss: 0.4768 - accuracy: 0.7333 - val_loss: 2712.8743 - val_accuracy: 0.6000\n",
            "10/10 [==============================] - 1s 59ms/step - loss: 216.5043 - accuracy: 0.4933\n",
            "Test accuracy: 0.4933333396911621\n"
          ]
        }
      ]
    },
    {
      "cell_type": "markdown",
      "source": [
        "### Task 4: Time series classification using sktime"
      ],
      "metadata": {
        "id": "tYOXtHBTFZ_E"
      }
    },
    {
      "cell_type": "markdown",
      "source": [
        "As we saw above, we can use RandomizedSearch to find optimal parameter options. However, it does not support scikit-learn's classifiers such as DecisionTree or RandomForest. However, as we tried, it is also possible to use the output of the sktime transformer (e.g., catch22) to train scikit-learn models such as RandomForest. Sktime supports this with `SklearnClassifierPipeline` to put a  scikit-learn classifier and sktime's transformer together and you need to implement it.\n",
        "\n",
        "Pick one classifier from scikit-learn (that can be anything! e.g., Decision Tree or Logistic Regressor) and two transformers from sktime and create `SklearnClassifierPipeline.` As we tried in this lab, that can be **Rocket with RandomForest** or **Catch22 with DecisionTree**. Pick one parameter from each module (in total, three, one from the classifier and two from two transformers) and run a randomized search on the pipeline you define and report the test score of the best model found by the randomized Search. Compare your best score to the score from the same model with the default setting.\n",
        "\n",
        "Task 4 involves a time-consuming process, so you can only choose **one dataset** to perform the task above. Also, note that you do not need to perform better by conducting a randomized search for this task (but still good to try!)."
      ],
      "metadata": {
        "id": "bkEhcRaAGwPW"
      }
    },
    {
      "cell_type": "code",
      "source": [
        "from sklearn.ensemble import RandomForestClassifier\n",
        "from sktime.transformations.panel.rocket import Rocket\n",
        "from sktime.transformations.panel.dictionary_based import _paa\n",
        "from sktime.transformations.series.exponent import ExponentTransformer\n",
        "from sktime.classification.compose import SklearnClassifierPipeline\n",
        "from sktime.classification.base import BaseClassifier"
      ],
      "metadata": {
        "id": "lyc295-ru9u8"
      },
      "execution_count": null,
      "outputs": []
    },
    {
      "cell_type": "markdown",
      "source": [
        "#Baseline SklearnClassifierPipeline"
      ],
      "metadata": {
        "id": "viI41YGf0TNg"
      }
    },
    {
      "cell_type": "code",
      "source": [
        "X_train = Ecg_train\n",
        "X_test = Ecg_val\n",
        "y_train = Ecg_ytest\n",
        "y_test = Ecg_valtest"
      ],
      "metadata": {
        "id": "8tfj-uka0bzQ"
      },
      "execution_count": null,
      "outputs": []
    },
    {
      "cell_type": "code",
      "source": [
        "clf = RandomForestClassifier()\n",
        "rocket = Rocket(num_kernels=10000)\n",
        "exp = ExponentTransformer()\n",
        "pipeline = SklearnClassifierPipeline(clf, [rocket, exp])\n",
        "pipeline = pipeline.fit(X_train, y_train)\n",
        "y_pred = pipeline.predict(X_test)\n",
        "print(f'Test Accuracy Score: {accuracy_score(y_test,y_pred)}')"
      ],
      "metadata": {
        "colab": {
          "base_uri": "https://localhost:8080/"
        },
        "id": "FR8r0z7rzOl9",
        "outputId": "ba2e907c-9bab-49d6-cfb4-e86f5f702b4b"
      },
      "execution_count": null,
      "outputs": [
        {
          "output_type": "stream",
          "name": "stdout",
          "text": [
            "Test Accuracy Score: 0.9\n"
          ]
        }
      ]
    },
    {
      "cell_type": "markdown",
      "source": [
        "#RandomizedSearchCV for SKlearnClassifierPipeline"
      ],
      "metadata": {
        "id": "TzsaYHj91ljd"
      }
    },
    {
      "cell_type": "code",
      "source": [
        "# define the classifier and transformers\n",
        "clf = RandomForestClassifier()\n",
        "rocket = Rocket(num_kernels=10000)\n",
        "exp = ExponentTransformer()\n",
        "\n",
        "# define the pipeline\n",
        "pipeline = SklearnClassifierPipeline(clf, [rocket, exp])\n",
        "\n",
        "# define the parameter grid for randomized search\n",
        "param_grid = {\n",
        "    'classifier__n_estimators': [100, 500, 1000],\n",
        "    'Rocket__num_kernels': [500, 1000, 5000, 10000],\n",
        "    'ExponentTransformer__power': [0.1, 0.3, 0.5]\n",
        "}\n",
        "\n",
        "# define the randomized search\n",
        "rs = RandomizedSearchCV(\n",
        "    pipeline, param_grid, cv=5, n_iter=10, random_state=42, n_jobs=-1\n",
        ")\n",
        "\n",
        "# fit the randomized search\n",
        "rs.fit(X_train, y_train)\n",
        "\n",
        "# get the best estimator from randomized search\n",
        "best_estimator = rs.best_estimator_\n",
        "\n",
        "# evaluate the best estimator on test data\n",
        "y_pred = best_estimator.predict(X_test)\n",
        "accuracy = accuracy_score(y_test, y_pred)\n",
        "print(best_estimator)\n",
        "print(\"Test accuracy:\", accuracy)\n"
      ],
      "metadata": {
        "id": "KccHsEFbFcPO",
        "colab": {
          "base_uri": "https://localhost:8080/"
        },
        "outputId": "ff9914ab-c833-4951-deb0-be47090e6f4f"
      },
      "execution_count": null,
      "outputs": [
        {
          "output_type": "stream",
          "name": "stdout",
          "text": [
            "SklearnClassifierPipeline(classifier=RandomForestClassifier(n_estimators=1000),\n",
            "                          transformers=[Rocket(), ExponentTransformer()])\n",
            "Test accuracy: 0.9\n"
          ]
        }
      ]
    },
    {
      "cell_type": "markdown",
      "source": [
        "### Task 5: Multivariate time series classification"
      ],
      "metadata": {
        "id": "0od-gD76TlmO"
      }
    },
    {
      "cell_type": "markdown",
      "source": [
        "Time series can be **multivariate**, which means there can be many values (= data points) describing one time point. In this task, you will use one **multivariate** dataset (**BasicMotions**) and try to run one deep learning model and one sktime model to see if those models work well on multivariate time series.\n",
        "\n",
        "- Use [BasicMotions](https://timeseriesclassification.com/description.php?Dataset=BasicMotions) dataset in the UCR/UEA repository.\n",
        "- Run **ROCKET** and **the best tensorflow deep learning model from the previous tasks** on BasicMotions. You need to adjust the deep learning model's input layer to handle this multivariate dataset.\n",
        "- Use sktime's `load_UCR_UEA_dataset` function to perform. You should use each dataset's original train/test splits.\n",
        "- For the deep learning model, you should transform it using TensorFlow data API (`tf.data`) to manage your dataset and use `shuffle`, `batch`, and `prefetch` functions. This means that you need to create the validation set first. \n",
        "- For training, you need to run at least 10 epochs for your deep learning model. For ROCKET, you can keep the default parameter options. \n",
        "- Report the test scores of both models on the predefined test set."
      ],
      "metadata": {
        "id": "Pe_XHdDJeMVo"
      }
    },
    {
      "cell_type": "code",
      "source": [
        "BasicMotions_Train = load_UCR_UEA_dataset('BasicMotions', split='train', return_type='numpy3d')\n",
        "BasicMotions_Test = load_UCR_UEA_dataset('BasicMotions', split='test', return_type='numpy3d')"
      ],
      "metadata": {
        "id": "UVXhy9vEuDbK"
      },
      "execution_count": null,
      "outputs": []
    },
    {
      "cell_type": "code",
      "source": [
        "from sklearn.preprocessing import LabelEncoder\n",
        "le = LabelEncoder()\n"
      ],
      "metadata": {
        "id": "JMl-OHbS7PVs"
      },
      "execution_count": null,
      "outputs": []
    },
    {
      "cell_type": "code",
      "source": [
        "BasicMotions_Train = BasicMotions_Train[0], le.fit_transform(BasicMotions_Train[1])\n",
        "BasicMotions_Test = BasicMotions_Test[0], le.fit_transform(BasicMotions_Test[1])"
      ],
      "metadata": {
        "id": "HUwmAqPS7q1l"
      },
      "execution_count": null,
      "outputs": []
    },
    {
      "cell_type": "code",
      "source": [
        "BM_train, BM_val, BM_ytest, BM_valtest = train_test_split(BasicMotions_Train[0],BasicMotions_Train[1], test_size = 0.1, random_state=seed_value)"
      ],
      "metadata": {
        "id": "srbOEKij4eFM"
      },
      "execution_count": null,
      "outputs": []
    },
    {
      "cell_type": "markdown",
      "source": [
        "#ROCKET Classifier"
      ],
      "metadata": {
        "id": "57CZ4sp24w9C"
      }
    },
    {
      "cell_type": "code",
      "source": [
        "from sktime.classification.kernel_based import RocketClassifier\n",
        "clf = RocketClassifier(num_kernels=5000) \n",
        "clf.fit(BM_train, BM_ytest)\n",
        "preds = clf.predict(BM_val)\n",
        "test_preds = clf.predict(BasicMotions_Test[0])\n",
        "print(f'val_accuracy: {accuracy_score(BM_valtest,preds)}')\n",
        "print(f'test_accuracy: {accuracy_score(BasicMotions_Test[1],test_preds)}')"
      ],
      "metadata": {
        "colab": {
          "base_uri": "https://localhost:8080/"
        },
        "id": "JfEj_xjK4v0e",
        "outputId": "25d21bb2-d6f1-4709-dd20-a1769e2d4cc5"
      },
      "execution_count": null,
      "outputs": [
        {
          "output_type": "stream",
          "name": "stdout",
          "text": [
            "val_accuracy: 1.0\n",
            "test_accuracy: 1.0\n"
          ]
        }
      ]
    },
    {
      "cell_type": "markdown",
      "source": [
        "#Deep Learning Model"
      ],
      "metadata": {
        "id": "61tytX7Z6mAt"
      }
    },
    {
      "cell_type": "code",
      "source": [
        "def create_1d_cnn_lstm_model(input_shape, num_classes, num_filters=64, kernel_size=5, pool_size=2, dropout_rate=0.2):\n",
        "    model = Sequential([\n",
        "        Input(shape=input_shape),\n",
        "        Conv1D(num_filters, kernel_size, padding='same', kernel_regularizer=l2(0.01)),\n",
        "        keras.layers.BatchNormalization(),\n",
        "        keras.layers.Activation('relu'),\n",
        "        keras.layers.MaxPooling1D(pool_size=pool_size),\n",
        "        LSTM(num_filters, dropout=dropout_rate, recurrent_dropout=dropout_rate),\n",
        "        Dropout(dropout_rate),\n",
        "        Dense(num_classes, activation='softmax')\n",
        "    ])\n",
        "    return model\n",
        "\n",
        "# Define the callbacks\n",
        "early_stopping = EarlyStopping(monitor='val_loss', patience=5, mode='min', restore_best_weights=True)\n",
        "model_checkpoint = ModelCheckpoint('1d_cnn_lstm_model.h5', monitor='val_accuracy', mode='max', save_best_only=True, save_weights_only=False)\n",
        "\n",
        "# Create the model\n",
        "def train_model(train_dataset, val_dataset, test_dataset, X_train, num_classes, epochs, lr=0.01):\n",
        "  model = create_1d_cnn_lstm_model(input_shape=X_train.shape[1:], num_classes=num_classes)\n",
        "  optimizer = Adam(learning_rate=lr)\n",
        "  model.compile(optimizer=optimizer, loss='categorical_crossentropy', metrics=['accuracy'])\n",
        "  history = model.fit(train_dataset, epochs=epochs, validation_data=val_dataset, callbacks=[early_stopping, model_checkpoint])\n",
        "  test_loss, test_acc = model.evaluate(test_dataset)\n",
        "  print('Test accuracy:', test_acc)\n",
        "  return test_loss, test_acc"
      ],
      "metadata": {
        "id": "CUwVXRox6cWs"
      },
      "execution_count": null,
      "outputs": []
    },
    {
      "cell_type": "code",
      "source": [
        "train_dataset, val_dataset, inputs = load_data(BM_train, BM_ytest, BM_val, BM_valtest, val=True)\n",
        "test_dataset = load_data(BasicMotions_Test[0],BasicMotions_Test[1],val=False)\n",
        "\n",
        "BM_loss, BM_acc = train_model(train_dataset, val_dataset, test_dataset, inputs, 4, 100)"
      ],
      "metadata": {
        "colab": {
          "base_uri": "https://localhost:8080/"
        },
        "id": "Zgl0vvUi6q3K",
        "outputId": "22afb48e-6e83-40a2-f1e8-6ea40cc5a4d9"
      },
      "execution_count": null,
      "outputs": [
        {
          "output_type": "stream",
          "name": "stdout",
          "text": [
            "Epoch 1/100\n",
            "3/3 [==============================] - 6s 394ms/step - loss: 2.2306 - accuracy: 0.1667 - val_loss: 1.9824 - val_accuracy: 0.0000e+00\n",
            "Epoch 2/100\n",
            "3/3 [==============================] - 0s 26ms/step - loss: 1.5685 - accuracy: 0.5833 - val_loss: 1.9963 - val_accuracy: 0.2500\n",
            "Epoch 3/100\n",
            "3/3 [==============================] - 0s 36ms/step - loss: 1.2303 - accuracy: 0.8611 - val_loss: 1.5259 - val_accuracy: 0.7500\n",
            "Epoch 4/100\n",
            "3/3 [==============================] - 0s 27ms/step - loss: 0.9878 - accuracy: 0.9167 - val_loss: 1.4231 - val_accuracy: 0.7500\n",
            "Epoch 5/100\n",
            "3/3 [==============================] - 0s 31ms/step - loss: 0.7450 - accuracy: 0.9722 - val_loss: 1.3491 - val_accuracy: 0.7500\n",
            "Epoch 6/100\n",
            "3/3 [==============================] - 0s 29ms/step - loss: 0.6093 - accuracy: 1.0000 - val_loss: 1.4987 - val_accuracy: 0.7500\n",
            "Epoch 7/100\n",
            "3/3 [==============================] - 0s 26ms/step - loss: 0.5099 - accuracy: 1.0000 - val_loss: 2.4889 - val_accuracy: 0.5000\n",
            "Epoch 8/100\n",
            "3/3 [==============================] - 0s 33ms/step - loss: 0.4736 - accuracy: 0.9722 - val_loss: 3.4000 - val_accuracy: 0.5000\n",
            "Epoch 9/100\n",
            "3/3 [==============================] - 0s 29ms/step - loss: 0.6901 - accuracy: 0.9444 - val_loss: 3.4527 - val_accuracy: 0.5000\n",
            "Epoch 10/100\n",
            "3/3 [==============================] - 0s 53ms/step - loss: 0.5169 - accuracy: 0.9722 - val_loss: 2.9264 - val_accuracy: 0.5000\n",
            "3/3 [==============================] - 0s 10ms/step - loss: 0.8962 - accuracy: 0.8250\n",
            "Test accuracy: 0.824999988079071\n"
          ]
        }
      ]
    },
    {
      "cell_type": "markdown",
      "source": [
        "### Put everything together"
      ],
      "metadata": {
        "id": "Rb9DAP4dGw15"
      }
    },
    {
      "cell_type": "markdown",
      "source": [
        "You have tested various models on your four chosen datasets. Which model shows the best performance? You need to write a simple report which should be max two pages about your trials.\n",
        " - Task 0: State three univariate time series datasets you chose for the tasks.\n",
        " - Task 1: Report the average test scores of four models on three datasets you chose. It would be four scores in total. Mark the best model in terms of the average test score. Briefly explain the structure you constructed. \n",
        " - Task 2: Report test scores of three models on three datasets you chose. It would be nine scores in total. Report the rank of average accuracy scores of three models. Briefly explain two deep learning model structures you constructed to confirm that you correctly developed the models in the paper.\n",
        " - Task 3: Briefly explain which model you chose, how you improved it. Report test scores of the model on three datasets you chose.\n",
        " - Task 4: Explain your choice of dataset and (classifier, transformer) pair and the parameters you tried to optimize. Report the best score and estimator from the randomized search instance and the test score of the best model.  Compare your best score to the score from the same model with the default setting.\n",
        " - Task 5: Report the best model (ROCKET vs your deep learning model) in terms of the test score. Briefly explain how you handle the multivariate dataset for your two models."
      ],
      "metadata": {
        "id": "DkaB60luImsS"
      }
    }
  ]
}